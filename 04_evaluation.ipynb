{
 "cells": [
  {
   "cell_type": "markdown",
   "metadata": {},
   "source": [
    "# Evaluation of our predictions"
   ]
  },
  {
   "cell_type": "markdown",
   "metadata": {},
   "source": [
    "## Imports"
   ]
  },
  {
   "cell_type": "code",
   "execution_count": 1,
   "metadata": {},
   "outputs": [],
   "source": [
    "import os\n",
    "import time\n",
    "\n",
    "import cv2\n",
    "import matplotlib.pyplot as plt\n",
    "import numpy as np\n",
    "import torch\n",
    "from torch.utils.data.sampler import SequentialSampler\n",
    "from torch_geometric.data import DataLoader\n",
    "\n",
    "from pg_networks.gcn import GCN\n",
    "import src.config as cfg\n",
    "from src.davis_2016 import DAVIS2016\n",
    "from src.metrics import db_eval_iou, db_eval_boundary, db_eval_t_stab\n",
    "from src.vis_utils import compute_combo_img\n",
    "\n",
    "# for auto-reloading extenrnal modules\n",
    "# see http://stackoverflow.com/questions/1907993/autoreload-of-modules-in-ipython\n",
    "%load_ext autoreload\n",
    "%autoreload 2\n",
    "\n",
    "np.set_printoptions(precision=3)"
   ]
  },
  {
   "cell_type": "markdown",
   "metadata": {},
   "source": [
    "## Eval Dataset"
   ]
  },
  {
   "cell_type": "code",
   "execution_count": 3,
   "metadata": {},
   "outputs": [],
   "source": [
    "val = DAVIS2016(cfg.PYTORCH_GEOMETRIC_DAVIS_2016_DATASET_PATH,\n",
    "                  cfg.ANNOTATIONS_AUGMENTED_FOLDERS_PATH, cfg.CONTOURS_FOLDERS_PATH, \n",
    "                  cfg.IMAGES_AUGMENTED_FOLDERS_PATH, cfg.TRANSLATIONS_FOLDERS_PATH,\n",
    "                  cfg.PARENT_MODEL_PATH,\n",
    "                  cfg.LAYER, cfg.K, cfg.EPOCHS_WO_AVEGRAD, 0,\n",
    "                  cfg.SKIP_SEQUENCES, cfg.TRAIN_SEQUENCES[:], cfg.VAL_SEQUENCES[1:],\n",
    "                  train=False)"
   ]
  },
  {
   "cell_type": "code",
   "execution_count": 4,
   "metadata": {},
   "outputs": [
    {
     "name": "stdout",
     "output_type": "stream",
     "text": [
      "Val size: 1307\n"
     ]
    }
   ],
   "source": [
    "print(\"Val size: %i\" % len(val))"
   ]
  },
  {
   "cell_type": "markdown",
   "metadata": {},
   "source": [
    "## Load GCN Model"
   ]
  },
  {
   "cell_type": "code",
   "execution_count": 5,
   "metadata": {},
   "outputs": [
    {
     "data": {
      "text/plain": [
       "GCN(\n",
       "  (conv1): GCNConv(256, 512)\n",
       "  (conv2): GCNConv(512, 512)\n",
       "  (conv3): GCNConv(512, 1024)\n",
       "  (conv4): GCNConv(1024, 1024)\n",
       "  (lin1): Linear(in_features=1024, out_features=512, bias=True)\n",
       "  (lin2): Linear(in_features=512, out_features=256, bias=True)\n",
       "  (lin3): Linear(in_features=256, out_features=2, bias=True)\n",
       ")"
      ]
     },
     "execution_count": 5,
     "metadata": {},
     "output_type": "execute_result"
    }
   ],
   "source": [
    "model_path = 'pg_models/2019-06-28_17_14_33_best_model.pth'\n",
    "model = GCN(in_channels=val[0].num_features, out_channels=val[0].y.shape[1])\n",
    "model.load_state_dict(torch.load(model_path))\n",
    "model.eval()\n",
    "model.double()"
   ]
  },
  {
   "cell_type": "markdown",
   "metadata": {},
   "source": [
    "## Evaluate Model"
   ]
  },
  {
   "cell_type": "code",
   "execution_count": 6,
   "metadata": {},
   "outputs": [
    {
     "name": "stdout",
     "output_type": "stream",
     "text": [
      "bmx-trees\n",
      "\tmean_J_combo: 0.5967763398645217, mean_J_osvos: 0.38069781502392974\n",
      "\tmean_F_combo: 0.8138242523330893, mean_F_osvos: 0.4901819551333355\n",
      "breakdance\n",
      "\tmean_J_combo: 0.719679151576881, mean_J_osvos: 0.715613234827803\n",
      "\tmean_F_combo: 0.7162887524381117, mean_F_osvos: 0.6939472767886227\n",
      "camel\n",
      "\tmean_J_combo: 0.9357076878585034, mean_J_osvos: 0.8487224287504946\n",
      "\tmean_F_combo: 0.9578177826428417, mean_F_osvos: 0.8623940929706753\n",
      "car-roundabout\n",
      "\tmean_J_combo: 0.9439674592125383, mean_J_osvos: 0.8838820643028338\n",
      "\tmean_F_combo: 0.8882005783174489, mean_F_osvos: 0.7651487942371249\n",
      "car-shadow\n",
      "\tmean_J_combo: 0.9015466096835903, mean_J_osvos: 0.8921279222502646\n",
      "\tmean_F_combo: 0.9259631784827708, mean_F_osvos: 0.8839501576490715\n",
      "cows\n",
      "\tmean_J_combo: 0.9532186889217605, mean_J_osvos: 0.9526245547326022\n",
      "\tmean_F_combo: 0.9796712283918558, mean_F_osvos: 0.9760996404417795\n",
      "dance-twirl\n",
      "\tmean_J_combo: 0.6884704005033736, mean_J_osvos: 0.6917926857995521\n",
      "\tmean_F_combo: 0.7459772864587905, mean_F_osvos: 0.7474832467063982\n",
      "dog\n",
      "\tmean_J_combo: 0.913634346177448, mean_J_osvos: 0.9201794316643146\n",
      "\tmean_F_combo: 0.9180568965625333, mean_F_osvos: 0.9247838142869278\n",
      "drift-chicane\n",
      "\tmean_J_combo: 0.7704901519067957, mean_J_osvos: 0.7704352446675405\n",
      "\tmean_F_combo: 0.8448525655666407, mean_F_osvos: 0.8299193993291221\n",
      "drift-straight\n",
      "\tmean_J_combo: 0.6021663295293397, mean_J_osvos: 0.6173515517521234\n",
      "\tmean_F_combo: 0.5780433149032751, mean_F_osvos: 0.6091520993997681\n",
      "goat\n",
      "\tmean_J_combo: 0.8764404420101524, mean_J_osvos: 0.8708006502475203\n",
      "\tmean_F_combo: 0.9075087048685255, mean_F_osvos: 0.8903134071772478\n",
      "horsejump-high\n",
      "\tmean_J_combo: 0.8557915182245588, mean_J_osvos: 0.7634724644836863\n",
      "\tmean_F_combo: 0.930853103657716, mean_F_osvos: 0.8206426645510341\n",
      "kite-surf\n",
      "\tmean_J_combo: 0.7033611945517283, mean_J_osvos: 0.6570220371682451\n",
      "\tmean_F_combo: 0.9100498812257438, mean_F_osvos: 0.8659713219789142\n",
      "libby\n",
      "\tmean_J_combo: 0.7241211023935096, mean_J_osvos: 0.7353779817461364\n",
      "\tmean_F_combo: 0.8350138888811963, mean_F_osvos: 0.8084098702477772\n",
      "motocross-jump\n",
      "\tmean_J_combo: 0.6647444236127115, mean_J_osvos: 0.6503471016028604\n",
      "\tmean_F_combo: 0.607667657102863, mean_F_osvos: 0.5875214975023312\n",
      "paragliding-launch\n",
      "\tmean_J_combo: 0.6192547810744663, mean_J_osvos: 0.6174057789598415\n",
      "\tmean_F_combo: 0.6038559924099786, mean_F_osvos: 0.6027452645867117\n",
      "parkour\n",
      "\tmean_J_combo: 0.8885877108194484, mean_J_osvos: 0.8794923903394034\n",
      "\tmean_F_combo: 0.9292689972694619, mean_F_osvos: 0.8688266479644037\n",
      "scooter-black\n",
      "\tmean_J_combo: 0.5436824074934902, mean_J_osvos: 0.5377931169400938\n",
      "\tmean_F_combo: 0.69089564670919, mean_F_osvos: 0.6685280987377937\n",
      "soapbox\n",
      "\tmean_J_combo: 0.862210700667965, mean_J_osvos: 0.8580771285333614\n",
      "\tmean_F_combo: 0.8384332386561566, mean_F_osvos: 0.8259189933398496\n",
      "mean_J_combo_overall: 0.7723133747452677\n",
      "mean_J_osvos_overall: 0.7436188030699582\n",
      "mean_F_combo_overall: 0.8213227615678907\n",
      "mean_F_osvos_overall: 0.7720010694271688\n"
     ]
    }
   ],
   "source": [
    "val_loader = DataLoader(val, batch_size=1, shuffle=False, sampler=SequentialSampler(val))\n",
    "processed_file_names = val.processed_file_names\n",
    "\n",
    "mean_Js_combo = []\n",
    "mean_Js_osvos = []\n",
    "\n",
    "mean_Fs_combo = []\n",
    "mean_Fs_osvos = []\n",
    "\n",
    "for i, data in enumerate(val_loader):\n",
    "    \n",
    "    #if i > 0: break\n",
    "    \n",
    "    # Forward pass to get outputs\n",
    "    with torch.no_grad():\n",
    "        translation_0_1_pred = model(data)\n",
    "        \n",
    "    # Get folder and filename for images\n",
    "    try:\n",
    "        processed_file_name_1 = processed_file_names[i + 1]    \n",
    "    # Break if file_name_1 is last frame\n",
    "    except IndexError as e:\n",
    "        mean_J_combo = running_J_combo / running_index\n",
    "        mean_J_osvos = running_J_osvos / running_index\n",
    "        mean_F_combo = running_F_combo / running_index\n",
    "        mean_F_osvos = running_F_osvos / running_index\n",
    "        \n",
    "        print(folder_old)\n",
    "        print('\\tmean_J_combo: {}, mean_J_osvos: {}'.format(mean_J_combo, mean_J_osvos))\n",
    "        print('\\tmean_F_combo: {}, mean_F_osvos: {}'.format(mean_F_combo, mean_F_osvos))\n",
    "        break\n",
    "        \n",
    "    folder_1 = processed_file_name_1[:-11]\n",
    "    augmentation_count_1 = processed_file_name_1[-10:-9]\n",
    "    file_name_1 = processed_file_name_1[-8:-3]\n",
    "    \n",
    "    # Load OSVOS result image\n",
    "    osvos_img_1_path = os.path.join(cfg.OSVOS_RESULTS_FOLDERS_PATH, folder_1,\n",
    "                                    ('{}{}'.format(file_name_1, '.png')))\n",
    "    osvos_img_1 = cv2.imread(osvos_img_1_path)\n",
    "    osvos_img_1_gray = cv2.imread(osvos_img_1_path, cv2.IMREAD_GRAYSCALE)\n",
    "    \n",
    "    # Load ground truth annotation\n",
    "    annotation_img_1_path = os.path.join(cfg.RAW_ANNOTATIONS_PATH, folder_1, augmentation_count_1,\n",
    "                                         ('{}{}'.format(file_name_1, '.png')))\n",
    "    annotation_img_1 = cv2.imread(annotation_img_1_path, cv2.IMREAD_GRAYSCALE)\n",
    "    \n",
    "    # Get contour\n",
    "    contour_0 = data.contour\n",
    "    contour_1_pred = contour_0.type(torch.DoubleTensor).add(translation_0_1_pred)\n",
    "    \n",
    "    # Create combined image\n",
    "    _, combo_img_1, _, _ = compute_combo_img(contour_1_pred, osvos_img_1)\n",
    "    combo_img_1_path = os.path.join(cfg.COMBO_RESULTS_FOLDERS_PATH, folder_1, \n",
    "                                    ('{}{}'.format(file_name_1, '.png')))\n",
    "    #if not os.path.exists(os.path.join(cfg.COMBO_RESULTS_FOLDERS_PATH, folder_1)):\n",
    "    #    os.makedirs(os.path.join(cfg.COMBO_RESULTS_FOLDERS_PATH, folder_1))\n",
    "        \n",
    "    #cv2.imwrite(combo_img_1_path, combo_img_1*255)\n",
    "    \n",
    "    #Compute J\n",
    "    J_combo = db_eval_iou(annotation_img_1, combo_img_1)\n",
    "    J_osvos = db_eval_iou(annotation_img_1, osvos_img_1_gray)\n",
    "    \n",
    "    #Compute F\n",
    "    F_combo = db_eval_boundary(combo_img_1, annotation_img_1)\n",
    "    F_osvos = db_eval_boundary(osvos_img_1_gray, annotation_img_1)\n",
    "    \n",
    "    # Compute metrics per sequence\n",
    "    if i == 0:\n",
    "        running_index = 0\n",
    "        running_J_combo = 0.\n",
    "        running_J_osvos = 0.\n",
    "        running_F_combo = 0.\n",
    "        running_F_osvos = 0.\n",
    "        folder_old = folder_1\n",
    "\n",
    "    # Update metrics if sequence is the same\n",
    "    if folder_old == folder_1:\n",
    "        running_index += 1\n",
    "        running_J_combo += J_combo\n",
    "        running_J_osvos += J_osvos\n",
    "        running_F_combo += F_combo\n",
    "        running_F_osvos += F_osvos\n",
    "    # Calculate mean, print, and reset if new sequence\n",
    "    else:\n",
    "        mean_J_combo = running_J_combo / running_index\n",
    "        mean_J_osvos = running_J_osvos / running_index\n",
    "        mean_F_combo = running_F_combo / running_index\n",
    "        mean_F_osvos = running_F_osvos / running_index\n",
    "        \n",
    "        mean_Js_combo.append(mean_J_combo)\n",
    "        mean_Js_osvos.append(mean_J_osvos)\n",
    "        mean_Fs_combo.append(mean_F_combo)\n",
    "        mean_Fs_osvos.append(mean_F_osvos)\n",
    "        \n",
    "        print(folder_old)\n",
    "        print('\\tmean_J_combo: {}, mean_J_osvos: {}'.format(mean_J_combo, mean_J_osvos))\n",
    "        print('\\tmean_F_combo: {}, mean_F_osvos: {}'.format(mean_F_combo, mean_F_osvos))\n",
    "        \n",
    "        folder_old = folder_1\n",
    "        running_index = 0\n",
    "        running_J_combo = 0.\n",
    "        running_J_osvos = 0.\n",
    "        running_F_combo = 0.\n",
    "        running_F_osvos = 0.\n",
    "        \n",
    "mean_J_combo_overall = np.mean(np.array(mean_Js_combo))\n",
    "mean_J_osvos_overall = np.mean(np.array(mean_Js_osvos))\n",
    "mean_F_combo_overall = np.mean(np.array(mean_Fs_combo))\n",
    "mean_F_osvos_overall = np.mean(np.array(mean_Fs_osvos))\n",
    "\n",
    "print('mean_J_combo_overall: {}'.format(mean_J_combo_overall))\n",
    "print('mean_J_osvos_overall: {}'.format(mean_J_osvos_overall))\n",
    "print('mean_F_combo_overall: {}'.format(mean_F_combo_overall))\n",
    "print('mean_F_osvos_overall: {}'.format(mean_F_osvos_overall))\n"
   ]
  },
  {
   "cell_type": "code",
   "execution_count": null,
   "metadata": {},
   "outputs": [],
   "source": []
  },
  {
   "cell_type": "code",
   "execution_count": null,
   "metadata": {},
   "outputs": [],
   "source": []
  }
 ],
 "metadata": {
  "kernelspec": {
   "display_name": "Python 3",
   "language": "python",
   "name": "python3"
  },
  "language_info": {
   "codemirror_mode": {
    "name": "ipython",
    "version": 3
   },
   "file_extension": ".py",
   "mimetype": "text/x-python",
   "name": "python",
   "nbconvert_exporter": "python",
   "pygments_lexer": "ipython3",
   "version": "3.7.0"
  }
 },
 "nbformat": 4,
 "nbformat_minor": 2
}
