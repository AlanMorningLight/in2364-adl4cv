{
 "cells": [
  {
   "cell_type": "markdown",
   "metadata": {},
   "source": [
    "# Evaluation of our predictions"
   ]
  },
  {
   "cell_type": "markdown",
   "metadata": {},
   "source": [
    "## Imports"
   ]
  },
  {
   "cell_type": "code",
   "execution_count": 1,
   "metadata": {},
   "outputs": [],
   "source": [
    "import os\n",
    "import time\n",
    "\n",
    "import cv2\n",
    "import numpy as np\n",
    "import torch\n",
    "from torch.utils.data.sampler import SequentialSampler\n",
    "from torch_geometric.data import DataLoader\n",
    "\n",
    "from pg_networks.gcn import GCN\n",
    "from src.davis_2016 import DAVIS2016\n",
    "from src.metrics import db_eval_iou, db_eval_boundary, db_eval_t_stab\n",
    "from src.vis_utils import compute_combo_img\n",
    "\n",
    "# for auto-reloading extenrnal modules\n",
    "# see http://stackoverflow.com/questions/1907993/autoreload-of-modules-in-ipython\n",
    "%load_ext autoreload\n",
    "%autoreload 2\n",
    "\n",
    "np.set_printoptions(precision=3)"
   ]
  },
  {
   "cell_type": "markdown",
   "metadata": {},
   "source": [
    "## Choose model"
   ]
  },
  {
   "cell_type": "code",
   "execution_count": 2,
   "metadata": {},
   "outputs": [],
   "source": [
    "model_path = 'pg_models/trained_model.pth'"
   ]
  },
  {
   "cell_type": "markdown",
   "metadata": {},
   "source": [
    "## Paths & Constants"
   ]
  },
  {
   "cell_type": "code",
   "execution_count": 3,
   "metadata": {},
   "outputs": [],
   "source": [
    "# Paths\n",
    "PYTORCH_GEOMETRIC_DAVIS_2016_DATASET_PATH = 'pg_datasets/DAVIS_2016'\n",
    "ANNOTATIONS_FOLDERS_PATH = 'DAVIS_2016/DAVIS/Annotations/480p/'\n",
    "CONTOURS_FOLDERS_PATH = 'DAVIS_2016/DAVIS/Contours/480p'\n",
    "IMAGES_FOLDERS_PATH = 'DAVIS_2016/DAVIS/JPEGImages/480p'\n",
    "TRANSLATIONS_FOLDERS_PATH = 'DAVIS_2016/DAVIS/Translations/480p'\n",
    "\n",
    "OSVOS_RESULTS_FOLDERS_PATH = 'OSVOS_PyTorch/models/Results/'\n",
    "\n",
    "COMBO_RESULTS_FOLDERS_PATH = 'evaluations/'\n",
    "\n",
    "# Sequences\n",
    "SKIP_SEQUENCES = []\n",
    "\n",
    "#SKIP_SEQUENCES = ['bmx-trees', 'bus', 'cows', 'dog-agility', 'horsejump-high', \n",
    "#                 'horsejump-low', 'kite-walk', 'lucia', 'libby', 'motorbike',\n",
    "#                 'paragliding', 'rhino', 'scooter-gray', 'swing']\n",
    "\n",
    "TRAIN_SEQUENCES = ['bear', 'bmx-bumps', 'boat', 'breakdance-flare', 'bus', \n",
    "                   'car-turn', 'dance-jump', 'dog-agility', 'drift-turn', \n",
    "                   'elephant', 'flamingo', 'hike', 'hockey', 'horsejump-low', \n",
    "                   'kite-walk', 'lucia', 'mallard-fly', 'mallard-water', \n",
    "                   'motocross-bumps', 'motorbike', 'paragliding', 'rhino', \n",
    "                   'rollerblade', 'scooter-gray', 'soccerball', 'stroller',\n",
    "                   'surf', 'swing', 'tennis', 'train']\n",
    "\n",
    "VAL_SEQUENCES = ['blackswan', 'bmx-trees', 'breakdance', 'camel', 'car-roundabout',\n",
    "                 'car-shadow', 'cows', 'dance-twirl', 'dog', 'drift-chicane', \n",
    "                 'drift-straight', 'goat', 'horsejump-high', 'kite-surf', 'libby', \n",
    "                 'motocross-jump', 'paragliding-launch', 'parkour', 'scooter-black', \n",
    "                 'soapbox']\n",
    "\n",
    "# Dataset parameters\n",
    "EPOCHS_WO_AVEGRAD = 200\n",
    "LAYER = 9\n",
    "K = 32\n",
    "NUM_SEQUENCES = 10"
   ]
  },
  {
   "cell_type": "markdown",
   "metadata": {},
   "source": [
    "## Eval Dataset"
   ]
  },
  {
   "cell_type": "code",
   "execution_count": 4,
   "metadata": {},
   "outputs": [],
   "source": [
    "val = DAVIS2016(PYTORCH_GEOMETRIC_DAVIS_2016_DATASET_PATH, \n",
    "                CONTOURS_FOLDERS_PATH, IMAGES_FOLDERS_PATH, TRANSLATIONS_FOLDERS_PATH, \n",
    "                LAYER, K, EPOCHS_WO_AVEGRAD,\n",
    "                SKIP_SEQUENCES, TRAIN_SEQUENCES[:NUM_SEQUENCES], VAL_SEQUENCES[:NUM_SEQUENCES],\n",
    "                train=False)"
   ]
  },
  {
   "cell_type": "code",
   "execution_count": 5,
   "metadata": {},
   "outputs": [
    {
     "name": "stdout",
     "output_type": "stream",
     "text": [
      "Val size: 715\n"
     ]
    }
   ],
   "source": [
    "print(\"Val size: %i\" % len(val))"
   ]
  },
  {
   "cell_type": "markdown",
   "metadata": {},
   "source": [
    "## Load GCN Model"
   ]
  },
  {
   "cell_type": "code",
   "execution_count": 6,
   "metadata": {},
   "outputs": [
    {
     "data": {
      "text/plain": [
       "GCN(\n",
       "  (conv1): GCNConv(256, 512)\n",
       "  (conv2): GCNConv(512, 512)\n",
       "  (conv3): GCNConv(512, 1024)\n",
       "  (lin1): Linear(in_features=1024, out_features=512, bias=True)\n",
       "  (lin2): Linear(in_features=512, out_features=256, bias=True)\n",
       "  (lin3): Linear(in_features=256, out_features=2, bias=True)\n",
       ")"
      ]
     },
     "execution_count": 6,
     "metadata": {},
     "output_type": "execute_result"
    }
   ],
   "source": [
    "model = GCN(in_channels=val[0].num_features, out_channels=val[0].y.shape[1])\n",
    "model.load_state_dict(torch.load(model_path))\n",
    "model.eval()\n",
    "model.double()"
   ]
  },
  {
   "cell_type": "markdown",
   "metadata": {},
   "source": [
    "## Evaluate Model"
   ]
  },
  {
   "cell_type": "code",
   "execution_count": 7,
   "metadata": {},
   "outputs": [
    {
     "name": "stdout",
     "output_type": "stream",
     "text": [
      "blackswan\n",
      "\tmean_J_combo: 0.9331513836169031, mean_J_osvos: 0.4927696365990751\n",
      "\tmean_F_combo: 0.9736308032309711, mean_F_osvos: 0.23274910348006242\n",
      "bmx-trees\n",
      "\tmean_J_combo: 0.5678314884012534, mean_J_osvos: 0.13504030115904977\n",
      "\tmean_F_combo: 0.8219147803971817, mean_F_osvos: 0.09025482675937375\n",
      "breakdance\n",
      "\tmean_J_combo: 0.6465887721948953, mean_J_osvos: 0.6329334438674871\n",
      "\tmean_F_combo: 0.6198345960244219, mean_F_osvos: 0.5233088966914324\n",
      "camel\n",
      "\tmean_J_combo: 0.9362051453741372, mean_J_osvos: 0.6383907652464708\n",
      "\tmean_F_combo: 0.9789206725525882, mean_F_osvos: 0.5110143708977787\n",
      "car-roundabout\n",
      "\tmean_J_combo: 0.9390719858509274, mean_J_osvos: 0.8192449854935715\n",
      "\tmean_F_combo: 0.8807811054996664, mean_F_osvos: 0.6026523402719486\n",
      "car-shadow\n",
      "\tmean_J_combo: 0.9133176861529722, mean_J_osvos: 0.7602413654781216\n",
      "\tmean_F_combo: 0.9300617209438709, mean_F_osvos: 0.5333066001954953\n",
      "cows\n",
      "\tmean_J_combo: 0.9429151799972249, mean_J_osvos: 0.6975684934921457\n",
      "\tmean_F_combo: 0.9769771927722277, mean_F_osvos: 0.5027709239505145\n",
      "dance-twirl\n",
      "\tmean_J_combo: 0.6088469503561986, mean_J_osvos: 0.60588633842117\n",
      "\tmean_F_combo: 0.6813760033932982, mean_F_osvos: 0.45059327200685\n",
      "dog\n",
      "\tmean_J_combo: 0.7593466558035697, mean_J_osvos: 0.45434419520570374\n",
      "\tmean_F_combo: 0.6130258967256571, mean_F_osvos: 0.1552734978752353\n",
      "drift-chicane\n",
      "\tmean_J_combo: 0.7174183173152388, mean_J_osvos: 0.32467508480189317\n",
      "\tmean_F_combo: 0.8149432522967449, mean_F_osvos: 0.21266904803808276\n"
     ]
    }
   ],
   "source": [
    "val_loader = DataLoader(val, batch_size=1, shuffle=False, sampler=SequentialSampler(val))\n",
    "file_names = val.processed_file_names\n",
    "\n",
    "for i, data in enumerate(val_loader):\n",
    "    \n",
    "    #if i > 0: break\n",
    "    \n",
    "    # Forward pass to get outputs\n",
    "    with torch.no_grad():\n",
    "        translation_0_1_pred = model(data)\n",
    "        \n",
    "    # Get folder and filename for images\n",
    "    try:\n",
    "        file_name_1 = file_names[i + 1]    \n",
    "    # Break if file_name_1 is last frame\n",
    "    except IndexError as e:\n",
    "        mean_J_combo = running_J_combo / running_index\n",
    "        mean_J_osvos = running_J_osvos / running_index\n",
    "        mean_F_combo = running_F_combo / running_index\n",
    "        mean_F_osvos = running_F_osvos / running_index\n",
    "        \n",
    "        print(folder_old)\n",
    "        print('\\tmean_J_combo: {}, mean_J_osvos: {}'.format(mean_J_combo, mean_J_osvos))\n",
    "        print('\\tmean_F_combo: {}, mean_F_osvos: {}'.format(mean_F_combo, mean_F_osvos))\n",
    "        break\n",
    "        \n",
    "    folder_1 = file_name_1[:-9]    \n",
    "    file_name_1 = file_name_1[-8:-3]\n",
    "    \n",
    "    # Load OSVOS result image\n",
    "    osvos_img_1_path = os.path.join(OSVOS_RESULTS_FOLDERS_PATH, folder_1, \n",
    "                                    ('{}{}'.format(file_name_1, '.png')))\n",
    "    osvos_img_1 = cv2.imread(osvos_img_1_path)\n",
    "    osvos_img_1_gray = cv2.imread(osvos_img_1_path, cv2.IMREAD_GRAYSCALE)\n",
    "    \n",
    "    # Load ground truth annotation\n",
    "    annotation_img_1_path = os.path.join(ANNOTATIONS_FOLDERS_PATH, folder_1, \n",
    "                                         ('{}{}'.format(file_name_1, '.png')))\n",
    "    annotation_img_1 = cv2.imread(annotation_img_1_path, cv2.IMREAD_GRAYSCALE)\n",
    "    \n",
    "    # Get contour\n",
    "    contour_0 = data.contour\n",
    "    contour_1_pred = contour_0.type(torch.DoubleTensor).add(translation_0_1_pred)\n",
    "    \n",
    "    # Create combined image\n",
    "    _, combo_img_1, _, _ = compute_combo_img(contour_1_pred, osvos_img_1)\n",
    "    combo_img_1_path = os.path.join(COMBO_RESULTS_FOLDERS_PATH, folder_1, \n",
    "                                    ('{}{}'.format(file_name_1, '.png')))\n",
    "    \n",
    "    if not os.path.exists(os.path.join(COMBO_RESULTS_FOLDERS_PATH, folder_1)):\n",
    "        os.makedirs(os.path.join(COMBO_RESULTS_FOLDERS_PATH, folder_1))\n",
    "        \n",
    "    cv2.imwrite(combo_img_1_path, combo_img_1*255)\n",
    "    \n",
    "    #Compute J\n",
    "    J_combo = db_eval_iou(annotation_img_1, combo_img_1)\n",
    "    J_osvos = db_eval_iou(annotation_img_1, osvos_img_1_gray)\n",
    "    \n",
    "    #Compute F\n",
    "    F_combo = db_eval_boundary(combo_img_1, annotation_img_1)\n",
    "    F_osvos = db_eval_boundary(osvos_img_1_gray, annotation_img_1)\n",
    "    \n",
    "    # Compute metrics per sequence\n",
    "    if i == 0:\n",
    "        running_index = 0\n",
    "        running_J_combo = 0.\n",
    "        running_J_osvos = 0.\n",
    "        running_F_combo = 0.\n",
    "        running_F_osvos = 0.\n",
    "        folder_old = folder_1\n",
    "\n",
    "    # Update metrics if sequence is the same\n",
    "    if folder_old == folder_1:\n",
    "        running_index += 1\n",
    "        running_J_combo += J_combo\n",
    "        running_J_osvos += J_osvos\n",
    "        running_F_combo += F_combo\n",
    "        running_F_osvos += F_osvos\n",
    "    # Calculate mean, print, and reset if new sequence\n",
    "    else:\n",
    "        mean_J_combo = running_J_combo / running_index\n",
    "        mean_J_osvos = running_J_osvos / running_index\n",
    "        mean_F_combo = running_F_combo / running_index\n",
    "        mean_F_osvos = running_F_osvos / running_index\n",
    "        \n",
    "        print(folder_old)\n",
    "        print('\\tmean_J_combo: {}, mean_J_osvos: {}'.format(mean_J_combo, mean_J_osvos))\n",
    "        print('\\tmean_F_combo: {}, mean_F_osvos: {}'.format(mean_F_combo, mean_F_osvos))\n",
    "        \n",
    "        folder_old = folder_1\n",
    "        running_index = 0\n",
    "        running_J_combo = 0.\n",
    "        running_J_osvos = 0.\n",
    "        running_F_combo = 0.\n",
    "        running_F_osvos = 0.\n",
    "        "
   ]
  },
  {
   "cell_type": "code",
   "execution_count": null,
   "metadata": {},
   "outputs": [],
   "source": []
  },
  {
   "cell_type": "code",
   "execution_count": null,
   "metadata": {},
   "outputs": [],
   "source": []
  }
 ],
 "metadata": {
  "kernelspec": {
   "display_name": "Python 3",
   "language": "python",
   "name": "python3"
  },
  "language_info": {
   "codemirror_mode": {
    "name": "ipython",
    "version": 3
   },
   "file_extension": ".py",
   "mimetype": "text/x-python",
   "name": "python",
   "nbconvert_exporter": "python",
   "pygments_lexer": "ipython3",
   "version": "3.7.0"
  }
 },
 "nbformat": 4,
 "nbformat_minor": 2
}
