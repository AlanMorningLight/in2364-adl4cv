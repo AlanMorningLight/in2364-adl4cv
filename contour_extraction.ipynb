{
  "nbformat": 4,
  "nbformat_minor": 0,
  "metadata": {
    "colab": {
      "name": "contour_extraction.ipynb",
      "version": "0.3.2",
      "provenance": [],
      "collapsed_sections": []
    },
    "kernelspec": {
      "name": "python3",
      "display_name": "Python 3"
    }
  },
  "cells": [
    {
      "cell_type": "markdown",
      "metadata": {
        "id": "BxPJhkkEdsyD",
        "colab_type": "text"
      },
      "source": [
        "# Contour extraction for ground truth masks of DAVIS 2016"
      ]
    },
    {
      "cell_type": "code",
      "metadata": {
        "id": "ZY3yrKhwdkUz",
        "colab_type": "code",
        "outputId": "09c0e949-ff5f-4c78-ddf3-00db3d72d585",
        "colab": {
          "base_uri": "https://localhost:8080/",
          "height": 52
        }
      },
      "source": [
        "!pip install -U -q PyDrive"
      ],
      "execution_count": 0,
      "outputs": [
        {
          "output_type": "stream",
          "text": [
            "\u001b[?25l\r\u001b[K     |▎                               | 10kB 17.6MB/s eta 0:00:01\r\u001b[K     |▋                               | 20kB 1.8MB/s eta 0:00:01\r\u001b[K     |█                               | 30kB 2.7MB/s eta 0:00:01\r\u001b[K     |█▎                              | 40kB 1.7MB/s eta 0:00:01\r\u001b[K     |█▋                              | 51kB 2.1MB/s eta 0:00:01\r\u001b[K     |██                              | 61kB 2.5MB/s eta 0:00:01\r\u001b[K     |██▎                             | 71kB 2.9MB/s eta 0:00:01\r\u001b[K     |██▋                             | 81kB 3.3MB/s eta 0:00:01\r\u001b[K     |███                             | 92kB 3.7MB/s eta 0:00:01\r\u001b[K     |███▎                            | 102kB 2.8MB/s eta 0:00:01\r\u001b[K     |███▋                            | 112kB 2.8MB/s eta 0:00:01\r\u001b[K     |████                            | 122kB 2.8MB/s eta 0:00:01\r\u001b[K     |████▎                           | 133kB 2.8MB/s eta 0:00:01\r\u001b[K     |████▋                           | 143kB 2.8MB/s eta 0:00:01\r\u001b[K     |█████                           | 153kB 2.8MB/s eta 0:00:01\r\u001b[K     |█████▎                          | 163kB 2.8MB/s eta 0:00:01\r\u001b[K     |█████▋                          | 174kB 2.8MB/s eta 0:00:01\r\u001b[K     |██████                          | 184kB 2.8MB/s eta 0:00:01\r\u001b[K     |██████▎                         | 194kB 2.8MB/s eta 0:00:01\r\u001b[K     |██████▋                         | 204kB 2.8MB/s eta 0:00:01\r\u001b[K     |███████                         | 215kB 2.8MB/s eta 0:00:01\r\u001b[K     |███████▎                        | 225kB 2.8MB/s eta 0:00:01\r\u001b[K     |███████▋                        | 235kB 2.8MB/s eta 0:00:01\r\u001b[K     |████████                        | 245kB 2.8MB/s eta 0:00:01\r\u001b[K     |████████▎                       | 256kB 2.8MB/s eta 0:00:01\r\u001b[K     |████████▋                       | 266kB 2.8MB/s eta 0:00:01\r\u001b[K     |█████████                       | 276kB 2.8MB/s eta 0:00:01\r\u001b[K     |█████████▎                      | 286kB 2.8MB/s eta 0:00:01\r\u001b[K     |█████████▋                      | 296kB 2.8MB/s eta 0:00:01\r\u001b[K     |██████████                      | 307kB 2.8MB/s eta 0:00:01\r\u001b[K     |██████████▎                     | 317kB 2.8MB/s eta 0:00:01\r\u001b[K     |██████████▋                     | 327kB 2.8MB/s eta 0:00:01\r\u001b[K     |███████████                     | 337kB 2.8MB/s eta 0:00:01\r\u001b[K     |███████████▎                    | 348kB 2.8MB/s eta 0:00:01\r\u001b[K     |███████████▋                    | 358kB 2.8MB/s eta 0:00:01\r\u001b[K     |████████████                    | 368kB 2.8MB/s eta 0:00:01\r\u001b[K     |████████████▎                   | 378kB 2.8MB/s eta 0:00:01\r\u001b[K     |████████████▋                   | 389kB 2.8MB/s eta 0:00:01\r\u001b[K     |█████████████                   | 399kB 2.8MB/s eta 0:00:01\r\u001b[K     |█████████████▎                  | 409kB 2.8MB/s eta 0:00:01\r\u001b[K     |█████████████▋                  | 419kB 2.8MB/s eta 0:00:01\r\u001b[K     |██████████████                  | 430kB 2.8MB/s eta 0:00:01\r\u001b[K     |██████████████▎                 | 440kB 2.8MB/s eta 0:00:01\r\u001b[K     |██████████████▋                 | 450kB 2.8MB/s eta 0:00:01\r\u001b[K     |███████████████                 | 460kB 2.8MB/s eta 0:00:01\r\u001b[K     |███████████████▎                | 471kB 2.8MB/s eta 0:00:01\r\u001b[K     |███████████████▋                | 481kB 2.8MB/s eta 0:00:01\r\u001b[K     |████████████████                | 491kB 2.8MB/s eta 0:00:01\r\u001b[K     |████████████████▎               | 501kB 2.8MB/s eta 0:00:01\r\u001b[K     |████████████████▋               | 512kB 2.8MB/s eta 0:00:01\r\u001b[K     |█████████████████               | 522kB 2.8MB/s eta 0:00:01\r\u001b[K     |█████████████████▎              | 532kB 2.8MB/s eta 0:00:01\r\u001b[K     |█████████████████▋              | 542kB 2.8MB/s eta 0:00:01\r\u001b[K     |██████████████████              | 552kB 2.8MB/s eta 0:00:01\r\u001b[K     |██████████████████▎             | 563kB 2.8MB/s eta 0:00:01\r\u001b[K     |██████████████████▋             | 573kB 2.8MB/s eta 0:00:01\r\u001b[K     |███████████████████             | 583kB 2.8MB/s eta 0:00:01\r\u001b[K     |███████████████████▎            | 593kB 2.8MB/s eta 0:00:01\r\u001b[K     |███████████████████▋            | 604kB 2.8MB/s eta 0:00:01\r\u001b[K     |████████████████████            | 614kB 2.8MB/s eta 0:00:01\r\u001b[K     |████████████████████▎           | 624kB 2.8MB/s eta 0:00:01\r\u001b[K     |████████████████████▋           | 634kB 2.8MB/s eta 0:00:01\r\u001b[K     |█████████████████████           | 645kB 2.8MB/s eta 0:00:01\r\u001b[K     |█████████████████████▎          | 655kB 2.8MB/s eta 0:00:01\r\u001b[K     |█████████████████████▋          | 665kB 2.8MB/s eta 0:00:01\r\u001b[K     |██████████████████████          | 675kB 2.8MB/s eta 0:00:01\r\u001b[K     |██████████████████████▎         | 686kB 2.8MB/s eta 0:00:01\r\u001b[K     |██████████████████████▋         | 696kB 2.8MB/s eta 0:00:01\r\u001b[K     |███████████████████████         | 706kB 2.8MB/s eta 0:00:01\r\u001b[K     |███████████████████████▎        | 716kB 2.8MB/s eta 0:00:01\r\u001b[K     |███████████████████████▋        | 727kB 2.8MB/s eta 0:00:01\r\u001b[K     |████████████████████████        | 737kB 2.8MB/s eta 0:00:01\r\u001b[K     |████████████████████████▎       | 747kB 2.8MB/s eta 0:00:01\r\u001b[K     |████████████████████████▋       | 757kB 2.8MB/s eta 0:00:01\r\u001b[K     |████████████████████████▉       | 768kB 2.8MB/s eta 0:00:01\r\u001b[K     |█████████████████████████▏      | 778kB 2.8MB/s eta 0:00:01\r\u001b[K     |█████████████████████████▌      | 788kB 2.8MB/s eta 0:00:01\r\u001b[K     |█████████████████████████▉      | 798kB 2.8MB/s eta 0:00:01\r\u001b[K     |██████████████████████████▏     | 808kB 2.8MB/s eta 0:00:01\r\u001b[K     |██████████████████████████▌     | 819kB 2.8MB/s eta 0:00:01\r\u001b[K     |██████████████████████████▉     | 829kB 2.8MB/s eta 0:00:01\r\u001b[K     |███████████████████████████▏    | 839kB 2.8MB/s eta 0:00:01\r\u001b[K     |███████████████████████████▌    | 849kB 2.8MB/s eta 0:00:01\r\u001b[K     |███████████████████████████▉    | 860kB 2.8MB/s eta 0:00:01\r\u001b[K     |████████████████████████████▏   | 870kB 2.8MB/s eta 0:00:01\r\u001b[K     |████████████████████████████▌   | 880kB 2.8MB/s eta 0:00:01\r\u001b[K     |████████████████████████████▉   | 890kB 2.8MB/s eta 0:00:01\r\u001b[K     |█████████████████████████████▏  | 901kB 2.8MB/s eta 0:00:01\r\u001b[K     |█████████████████████████████▌  | 911kB 2.8MB/s eta 0:00:01\r\u001b[K     |█████████████████████████████▉  | 921kB 2.8MB/s eta 0:00:01\r\u001b[K     |██████████████████████████████▏ | 931kB 2.8MB/s eta 0:00:01\r\u001b[K     |██████████████████████████████▌ | 942kB 2.8MB/s eta 0:00:01\r\u001b[K     |██████████████████████████████▉ | 952kB 2.8MB/s eta 0:00:01\r\u001b[K     |███████████████████████████████▏| 962kB 2.8MB/s eta 0:00:01\r\u001b[K     |███████████████████████████████▌| 972kB 2.8MB/s eta 0:00:01\r\u001b[K     |███████████████████████████████▉| 983kB 2.8MB/s eta 0:00:01\r\u001b[K     |████████████████████████████████| 993kB 2.8MB/s \n",
            "\u001b[?25h  Building wheel for PyDrive (setup.py) ... \u001b[?25l\u001b[?25hdone\n"
          ],
          "name": "stdout"
        }
      ]
    },
    {
      "cell_type": "code",
      "metadata": {
        "id": "QRK35WL3Z6rk",
        "colab_type": "code",
        "colab": {}
      },
      "source": [
        "# PyDrive (https://colab.research.google.com/notebooks/io.ipynb#scrollTo=7taylj9wpsA2)\n",
        "from pydrive.auth import GoogleAuth\n",
        "from pydrive.drive import GoogleDrive\n",
        "from google.colab import auth\n",
        "from oauth2client.client import GoogleCredentials\n",
        "\n",
        "import cv2\n",
        "\n",
        "import matplotlib.pyplot as plt\n",
        "import matplotlib.image as mpimg\n",
        "\n",
        "import numpy as np\n",
        "\n",
        "import pandas as pd\n",
        "\n",
        "import re\n",
        "\n",
        "from scipy import spatial\n",
        "\n",
        "from skimage import measure\n",
        "\n",
        "# %matplotlib inline"
      ],
      "execution_count": 0,
      "outputs": []
    },
    {
      "cell_type": "code",
      "metadata": {
        "id": "jXkZvkSEeWIs",
        "colab_type": "code",
        "colab": {}
      },
      "source": [
        "auth.authenticate_user()\n",
        "gauth = GoogleAuth()\n",
        "gauth.credentials = GoogleCredentials.get_application_default()\n",
        "drive = GoogleDrive(gauth)"
      ],
      "execution_count": 0,
      "outputs": []
    },
    {
      "cell_type": "markdown",
      "metadata": {
        "id": "hsUYesNxHor_",
        "colab_type": "text"
      },
      "source": [
        "## Functions"
      ]
    },
    {
      "cell_type": "markdown",
      "metadata": {
        "id": "ex-HKNm3Ie0s",
        "colab_type": "text"
      },
      "source": [
        "### Drive helpers"
      ]
    },
    {
      "cell_type": "code",
      "metadata": {
        "id": "y8e7fbLDyemL",
        "colab_type": "code",
        "colab": {}
      },
      "source": [
        "def create_folder_in_drive(parent_folder_id, folder_title):\n",
        "    '''Returns the id of the newly created folder in Drive'''\n",
        "    \n",
        "    print('\\tCreate folder')\n",
        "    \n",
        "    folder_metadata = {'title': folder_title,\n",
        "                       'mimeType': 'application/vnd.google-apps.folder',\n",
        "                       'parents': [{u'id' : parent_folder_id}]}\n",
        "    folder = drive.CreateFile(folder_metadata)\n",
        "    folder.Upload()\n",
        "    \n",
        "    return folder['id']"
      ],
      "execution_count": 0,
      "outputs": []
    },
    {
      "cell_type": "code",
      "metadata": {
        "id": "-zW-bOlfldsH",
        "colab_type": "code",
        "colab": {}
      },
      "source": [
        "def download_file_from_drive(file_id, file_name):\n",
        "    '''Downloads a file from Drive so that it is available in Colab.'''\n",
        "    \n",
        "    downloaded = drive.CreateFile({'id': file_id})\n",
        "    downloaded.GetContentFile(file_name)"
      ],
      "execution_count": 0,
      "outputs": []
    },
    {
      "cell_type": "code",
      "metadata": {
        "id": "zMXul7X5qLU2",
        "colab_type": "code",
        "colab": {}
      },
      "source": [
        "def download_images_from_folder(folder_id):\n",
        "    '''Returns list of names of downloaded images from Drive folder.'''    \n",
        "    \n",
        "    print('\\tDownloading images')\n",
        "    file_list = drive.ListFile({'q': (\"'{}' in parents and trashed=false\").\n",
        "                                    format(folder_id)}).GetList()\n",
        "    downloaded_images = []    \n",
        "    for file in file_list:\n",
        "        file_title = file['title']\n",
        "        file_id = file['id']\n",
        "        \n",
        "        download_file_from_drive(file_id, file_title)\n",
        "        \n",
        "        downloaded_images.append(file_title)\n",
        "        \n",
        "    return downloaded_images\n",
        "    "
      ],
      "execution_count": 0,
      "outputs": []
    },
    {
      "cell_type": "code",
      "metadata": {
        "id": "J60sYvdv8d66",
        "colab_type": "code",
        "colab": {}
      },
      "source": [
        "def upload_file_to_drive(folder_id, file_name):\n",
        "    '''Uploads file from Colab to Drive folder.'''\n",
        "    \n",
        "    file = drive.CreateFile({'parents':[{u'id': folder_id}]})\n",
        "    file.SetContentFile(file_name)\n",
        "    file.Upload()"
      ],
      "execution_count": 0,
      "outputs": []
    },
    {
      "cell_type": "markdown",
      "metadata": {
        "id": "A5LxwQsGIxLd",
        "colab_type": "text"
      },
      "source": [
        "### Save functions"
      ]
    },
    {
      "cell_type": "code",
      "metadata": {
        "id": "cwIfu7qyemT6",
        "colab_type": "code",
        "colab": {}
      },
      "source": [
        "def save_folder_list_as_csv(annotations_folder_id, file_name):\n",
        "    '''Saves Drive folder list with title and id as csv.'''\n",
        "    \n",
        "    folder_list = drive.ListFile({'q': (\"'{}' in parents and trashed=false\").\n",
        "                                  format(ANNOTATIONS_480P_FOLDER_ID)}).GetList()\n",
        "    df = pd.DataFrame.from_dict(folder_list)\n",
        "    df = df[['title', 'id']]\n",
        "    df.to_csv(file_name)"
      ],
      "execution_count": 0,
      "outputs": []
    },
    {
      "cell_type": "code",
      "metadata": {
        "id": "uJZ0Zu2B7NNq",
        "colab_type": "code",
        "colab": {}
      },
      "source": [
        "def save_image_with_contour(image, contour, file_name):\n",
        "    '''Saves plotted image with contour.'''\n",
        "    \n",
        "    fig, ax = plt.subplots(figsize=(15, 10))\n",
        "    ax.scatter(contour[:, 0], contour[:, 1])\n",
        "    ax.imshow(image)\n",
        "    ax.axis('image')\n",
        "    ax.set_xticks([])\n",
        "    ax.set_yticks([])\n",
        "    plt.savefig(file_name, dpi=300, bbox_inches='tight')    \n",
        "    plt.close(fig)"
      ],
      "execution_count": 0,
      "outputs": []
    },
    {
      "cell_type": "markdown",
      "metadata": {
        "id": "xLafVO38JLOJ",
        "colab_type": "text"
      },
      "source": [
        "### Contour functions"
      ]
    },
    {
      "cell_type": "code",
      "metadata": {
        "id": "bw2UpJob5sDf",
        "colab_type": "code",
        "colab": {}
      },
      "source": [
        "def close_image(image, kernel_size):\n",
        "    '''Returns the image that is closed with a kernel.'''\n",
        "    \n",
        "    kernel = cv2.getStructuringElement(cv2.MORPH_ELLIPSE,(kernel_size, kernel_size))\n",
        "    closing = cv2.morphologyEx(image, cv2.MORPH_CLOSE, kernel)\n",
        "    \n",
        "    return closing"
      ],
      "execution_count": 0,
      "outputs": []
    },
    {
      "cell_type": "code",
      "metadata": {
        "id": "lJCNvWDfdUMD",
        "colab_type": "code",
        "colab": {}
      },
      "source": [
        "def extract_longest_contour(image, kernel_size):\n",
        "    '''Returns the contour with the most points from a given image.'''\n",
        "    \n",
        "    # Close image\n",
        "    closing = close_image(image, kernel_size)\n",
        "    \n",
        "    # Convert image to grayscale\n",
        "    gray = cv2.cvtColor(closing, cv2.COLOR_BGR2GRAY)\n",
        "\n",
        "    # Apply threshold to turn it into binary image\n",
        "    ret, thresh = cv2.threshold(gray, 0, 255, 0)\n",
        "\n",
        "    # Change method for different number of points:\n",
        "    # CHAIN_APPROX_NONE, CHAIN_APPROX_SIMPLE, CHAIN_APPROX_TC89_L1, CHAIN_APPROX_TC89_KCOS\n",
        "    _, contours, _ = cv2.findContours(image=thresh, \n",
        "                                      mode=cv2.RETR_TREE,\n",
        "                                      method=cv2.CHAIN_APPROX_NONE)\n",
        "    \n",
        "    # Get longest contour\n",
        "    longest_contour = max(contours, key=len)\n",
        "    \n",
        "    # Remove single-dimensional entry from the shape of the array \n",
        "    longest_contour = np.squeeze(longest_contour)\n",
        "    \n",
        "    return longest_contour"
      ],
      "execution_count": 0,
      "outputs": []
    },
    {
      "cell_type": "code",
      "metadata": {
        "id": "GEptRU7t-VOo",
        "colab_type": "code",
        "colab": {}
      },
      "source": [
        "def shorten_contour(contour, points):\n",
        "    '''Returns a contour with a fixed number of points for a given contour.'''\n",
        "    \n",
        "    # TODO: add warning if short_contour has less than stated points\n",
        "    try:\n",
        "        step = len(contour) / (len(contour) - points)\n",
        "    except ZeroDivisionError as e:\n",
        "        print ('len(contour) = {} smaller, points = {}'.format(\n",
        "            len(contour), points))\n",
        "        raise ValueError('len(contour) = {} smaller, points = {}'.format(\n",
        "            len(contour), points)) from e\n",
        "        \n",
        "    short_contour = np.delete(contour, np.arange(0, contour.size, step), axis=0)\n",
        "    \n",
        "    return short_contour"
      ],
      "execution_count": 0,
      "outputs": []
    },
    {
      "cell_type": "code",
      "metadata": {
        "id": "AHRqnyNBCozS",
        "colab_type": "code",
        "colab": {}
      },
      "source": [
        "def get_contour_from_mask(mask_name, kernel_size, points):\n",
        "    '''Returns the image, the longest contour, and shortened contour \n",
        "       given a mask name and fixed number of points.'''\n",
        "    \n",
        "    image = cv2.imread(mask_name)\n",
        "    contour = extract_longest_contour(image, kernel_size)\n",
        "    try:\n",
        "        short_contour = shorten_contour(contour, points)\n",
        "    except ValueError as e:\n",
        "        print(mask_name)\n",
        "        raise ValueError(mask_name) from e\n",
        "        \n",
        "    return image, contour, short_contour"
      ],
      "execution_count": 0,
      "outputs": []
    },
    {
      "cell_type": "markdown",
      "metadata": {
        "id": "CxHL-nUQK8HI",
        "colab_type": "text"
      },
      "source": [
        "## Create contours for all masks"
      ]
    },
    {
      "cell_type": "code",
      "metadata": {
        "id": "lx-mFL_CksIp",
        "colab_type": "code",
        "colab": {}
      },
      "source": [
        "def create_contours_for_all_masks(annotations_folders_csv_id,\n",
        "                                  annotations_folders_csv_name, \n",
        "                                  contours_folder_id,\n",
        "                                  kernel_size):\n",
        "    \n",
        "    # Download csv containing title and id of all video folders\n",
        "    download_file_from_drive(annotations_folders_csv_id, annotations_folders_csv_name)\n",
        "    annotations_folders = pd.read_csv(annotations_folders_csv_name, index_col=0)\n",
        "    \n",
        "    # Iterate through folders\n",
        "    for index, row in annotations_folders.iterrows():\n",
        "        if (index <= 49):\n",
        "            continue\n",
        "            \n",
        "        folder_title = row['title']\n",
        "        folder_id = row['id']\n",
        "        print('Folder #{}: {}'.format(index, folder_title))\n",
        "        \n",
        "        # Download all images from the folder\n",
        "        mask_names = download_images_from_folder(folder_id)\n",
        "        \n",
        "        # Create folder to save new images with mask and contour\n",
        "        folder_to_save_id = create_folder_in_drive(contours_folder_id, folder_title)\n",
        "        \n",
        "        print('\\tCreating contours')\n",
        "        \n",
        "        # Iterate through images\n",
        "        for mask_name in mask_names:\n",
        "\n",
        "            # If first mask, then extract 256 contour points\n",
        "            if re.match(r\".+mask_00000.png\", mask_name):\n",
        "                try:\n",
        "                    image, contour, short_contour = get_contour_from_mask(\n",
        "                        mask_name, kernel_size, 256)\n",
        "                except ValueError as e:\n",
        "                    continue\n",
        "            # If not, then 512 contour points\n",
        "            else:\n",
        "                try:\n",
        "                    image, contour, short_contour = get_contour_from_mask(\n",
        "                        mask_name, kernel_size, 512)\n",
        "                except ValueError as e:\n",
        "                    continue\n",
        "\n",
        "            # Save image with contour and upload it to drive    \n",
        "            file_name = 'contour_{}'.format(mask_name)\n",
        "            save_image_with_contour(image, short_contour, file_name)\n",
        "            upload_file_to_drive(folder_to_save_id, file_name)"
      ],
      "execution_count": 0,
      "outputs": []
    },
    {
      "cell_type": "code",
      "metadata": {
        "id": "eddeOWzCmEgb",
        "colab_type": "code",
        "colab": {}
      },
      "source": [
        "ANNOTATIONS_480P_FOLDER_ID = '1xtR9yVERSGDgk3r605MYk-iSVJDwj7Za'\n",
        "CONTOURS_480P_FOLDER_ID = '1RK5iZuBRs22UC6kKrK7HCEQQkBXSoPJk'\n",
        "ANNOTATIONS_480P_FOLDERS_CSV_NAME = 'annotation_folders.csv'\n",
        "ANNOTATIONS_480P_FOLDERS_CSV_ID = '18XNkwQ3P6ujahicePlVB2CKovH4__Erj'\n",
        "\n",
        "create_contours_for_all_masks(ANNOTATIONS_480P_FOLDERS_CSV_ID,\n",
        "                              ANNOTATIONS_480P_FOLDERS_CSV_NAME,\n",
        "                              CONTOURS_480P_FOLDER_ID,\n",
        "                              10)"
      ],
      "execution_count": 0,
      "outputs": []
    },
    {
      "cell_type": "code",
      "metadata": {
        "id": "oRHgZw36o0MT",
        "colab_type": "code",
        "colab": {}
      },
      "source": [
        ""
      ],
      "execution_count": 0,
      "outputs": []
    }
  ]
}