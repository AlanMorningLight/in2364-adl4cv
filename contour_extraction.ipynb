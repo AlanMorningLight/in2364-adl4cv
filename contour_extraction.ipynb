{
 "cells": [
  {
   "cell_type": "markdown",
   "metadata": {
    "colab_type": "text",
    "id": "BxPJhkkEdsyD"
   },
   "source": [
    "# Extract Contours of DAVIS 2016 Annotations\n",
    "\n",
    "In this notebook the contour points of DAVIS 2016 annotations are saved as numpy arrays."
   ]
  },
  {
   "cell_type": "code",
   "execution_count": 2,
   "metadata": {
    "colab": {},
    "colab_type": "code",
    "id": "QRK35WL3Z6rk"
   },
   "outputs": [],
   "source": [
    "import cv2\n",
    "import matplotlib.pyplot as plt\n",
    "import matplotlib.image as mpimg\n",
    "import numpy as np\n",
    "import os\n",
    "import pandas as pd\n",
    "import re\n",
    "from scipy import spatial\n",
    "from skimage import measure\n",
    "\n",
    "%matplotlib inline"
   ]
  },
  {
   "cell_type": "markdown",
   "metadata": {
    "colab_type": "text",
    "id": "hsUYesNxHor_"
   },
   "source": [
    "## Functions"
   ]
  },
  {
   "cell_type": "code",
   "execution_count": 3,
   "metadata": {
    "colab": {},
    "colab_type": "code",
    "id": "uJZ0Zu2B7NNq"
   },
   "outputs": [],
   "source": [
    "def save_image_with_contour(image, contour, path):\n",
    "    '''Saves image plotted with contour.'''\n",
    "    \n",
    "    fig, ax = plt.subplots()\n",
    "    \n",
    "    # Plot contour\n",
    "    ax.scatter(contour[:, 0], contour[:, 1], s=1)\n",
    "    \n",
    "    # Plot image\n",
    "    ax.imshow(image)\n",
    "    ax.axis('image')\n",
    "    ax.set_xticks([])\n",
    "    ax.set_yticks([])\n",
    "    \n",
    "    # Save image\n",
    "    plt.savefig(path, dpi=100, bbox_inches='tight')    \n",
    "    plt.close(fig)"
   ]
  },
  {
   "cell_type": "code",
   "execution_count": 4,
   "metadata": {
    "colab": {},
    "colab_type": "code",
    "id": "bw2UpJob5sDf"
   },
   "outputs": [],
   "source": [
    "def close_image(image, kernel_size):\n",
    "    '''Returns the image that is closed with a kernel.'''\n",
    "    \n",
    "    kernel = cv2.getStructuringElement(cv2.MORPH_ELLIPSE,(kernel_size, kernel_size))\n",
    "    closing = cv2.morphologyEx(image, cv2.MORPH_CLOSE, kernel)\n",
    "    \n",
    "    return closing"
   ]
  },
  {
   "cell_type": "code",
   "execution_count": 5,
   "metadata": {
    "colab": {},
    "colab_type": "code",
    "id": "lJCNvWDfdUMD"
   },
   "outputs": [],
   "source": [
    "def extract_longest_contour(image, kernel_size):\n",
    "    '''Returns the contour with the most points from a given image.'''\n",
    "    \n",
    "    # Close image\n",
    "    closing = close_image(image, kernel_size)\n",
    "    \n",
    "    # Convert image to grayscale\n",
    "    gray = cv2.cvtColor(closing, cv2.COLOR_BGR2GRAY)\n",
    "\n",
    "    # Apply threshold to turn it into binary image\n",
    "    ret, thresh = cv2.threshold(gray, 127, 255, 0)\n",
    "\n",
    "    # Find contour\n",
    "    # Change method for different number of points:\n",
    "    # CHAIN_APPROX_NONE, CHAIN_APPROX_SIMPLE, CHAIN_APPROX_TC89_L1, CHAIN_APPROX_TC89_KCOS\n",
    "    contours, _ = cv2.findContours(image=thresh,\n",
    "                                   mode=cv2.RETR_TREE,\n",
    "                                   method=cv2.CHAIN_APPROX_NONE)\n",
    "    \n",
    "    # Get longest contour from contours\n",
    "    longest_contour = max(contours, key=len)\n",
    "    \n",
    "    # Remove single-dimensional entry from the shape of the array \n",
    "    longest_contour = np.squeeze(longest_contour)\n",
    "    \n",
    "    return longest_contour"
   ]
  },
  {
   "cell_type": "code",
   "execution_count": 6,
   "metadata": {
    "colab": {},
    "colab_type": "code",
    "id": "GEptRU7t-VOo"
   },
   "outputs": [],
   "source": [
    "def shorten_contour(contour, points):\n",
    "    '''Returns a contour with a fixed number of points for a given contour.'''\n",
    "    \n",
    "    try:\n",
    "        step = len(contour) / (len(contour) - points)\n",
    "    except ZeroDivisionError as e:\n",
    "        print ('len(contour) = {}, points = {}'.format(len(contour), points))\n",
    "        raise ValueError from e\n",
    "        \n",
    "    short_contour = np.delete(contour, np.arange(0, contour.size, step), axis=0)\n",
    "    \n",
    "    return short_contour"
   ]
  },
  {
   "cell_type": "code",
   "execution_count": 7,
   "metadata": {
    "colab": {},
    "colab_type": "code",
    "id": "AHRqnyNBCozS"
   },
   "outputs": [],
   "source": [
    "def get_contour_from_annotation(annotation_path, kernel_size, points):\n",
    "    '''Returns the image, the longest contour, and shortened contour \n",
    "       given a annotation and fixed number of points.'''\n",
    "    \n",
    "    image = cv2.imread(annotation_path)\n",
    "    contour = extract_longest_contour(image, kernel_size)\n",
    "    try:\n",
    "        short_contour = shorten_contour(contour, points)\n",
    "    except ValueError as e:\n",
    "        print(annotation_path)\n",
    "        raise ValueError from e\n",
    "        \n",
    "    return image, contour, short_contour"
   ]
  },
  {
   "cell_type": "code",
   "execution_count": 8,
   "metadata": {
    "colab": {},
    "colab_type": "code",
    "id": "lx-mFL_CksIp"
   },
   "outputs": [],
   "source": [
    "def create_contours_for_all_annotations(annotations_folders_path, \n",
    "                                        contours_folders_path, \n",
    "                                        kernel_size,\n",
    "                                        contour_points):\n",
    "\n",
    "    annotations_folders_list = os.listdir(annotations_folders_path)\n",
    "    \n",
    "    # Iterate through folders\n",
    "    for i, folder in enumerate(annotations_folders_list):\n",
    "        \n",
    "        print('#{}: {}'.format(i, folder))\n",
    "        \n",
    "        # Create folder to save contours\n",
    "        contours_folder = os.path.join(contours_folders_path, folder)\n",
    "        if not os.path.exists(contours_folder):\n",
    "            os.makedirs(contours_folder)\n",
    "        \n",
    "        # Get list of annotations\n",
    "        annotations_list = os.listdir(os.path.join(annotations_folders_path, folder))\n",
    "        if '.ipynb_checkpoints' in annotations_list:\n",
    "            annotations_list.remove('.ipynb_checkpoints')\n",
    "            \n",
    "        # Iterate through annotations\n",
    "        for j, annotation in enumerate(annotations_list):\n",
    "\n",
    "            annotation_path = os.path.join(annotations_folders_path, folder, annotation)\n",
    "\n",
    "            # If first mask, then extract contour_points\n",
    "            if re.match(r\"00000.png\", annotation):\n",
    "                try:\n",
    "                    image, contour, short_contour = get_contour_from_annotation(\n",
    "                        annotation_path, kernel_size, contour_points)\n",
    "                except ValueError as e:\n",
    "                    continue\n",
    "            # If not, then contour_points*2\n",
    "            else:\n",
    "                try:\n",
    "                    image, contour, short_contour = get_contour_from_annotation(\n",
    "                        annotation_path, kernel_size, contour_points * 2)\n",
    "                except ValueError as e:\n",
    "                    continue\n",
    "\n",
    "            # Save contour\n",
    "            save_image_with_contour(image, short_contour, os.path.join(contours_folder, annotation))\n",
    "            np.save(os.path.join(contours_folder, annotation), short_contour)"
   ]
  },
  {
   "cell_type": "markdown",
   "metadata": {},
   "source": [
    "## Create Contours"
   ]
  },
  {
   "cell_type": "code",
   "execution_count": 10,
   "metadata": {},
   "outputs": [
    {
     "name": "stdout",
     "output_type": "stream",
     "text": [
      "#0: bus\n"
     ]
    },
    {
     "name": "stderr",
     "output_type": "stream",
     "text": [
      "/home/christoph/anaconda3/lib/python3.7/site-packages/ipykernel_launcher.py:11: DeprecationWarning: using a non-integer array as obj in delete will result in an error in the future\n",
      "  # This is added back by InteractiveShellApp.init_path()\n",
      "/home/christoph/anaconda3/lib/python3.7/site-packages/ipykernel_launcher.py:11: DeprecationWarning: in the future out of bounds indices will raise an error instead of being ignored by `numpy.delete`.\n",
      "  # This is added back by InteractiveShellApp.init_path()\n"
     ]
    },
    {
     "name": "stdout",
     "output_type": "stream",
     "text": [
      "#1: scooter-black\n",
      "#2: hike\n",
      "#3: rollerblade\n",
      "#4: hockey\n",
      "#5: breakdance-flare\n",
      "#6: motocross-jump\n",
      "#7: dance-twirl\n",
      "#8: dog\n",
      "#9: train\n",
      "#10: lucia\n",
      "#11: mallard-fly\n",
      "#12: libby\n",
      "#13: boat\n",
      "#14: camel\n",
      "#15: parkour\n",
      "#16: paragliding\n",
      "#17: bear\n",
      "#18: horsejump-high\n",
      "#19: scooter-gray\n",
      "#20: paragliding-launch\n",
      "#21: soapbox\n",
      "#22: swing\n",
      "#23: soccerball\n",
      "#24: kite-walk\n",
      "#25: motorbike\n",
      "#26: drift-straight\n",
      "#27: dance-jump\n",
      "#28: bmx-trees\n",
      "#29: blackswan\n",
      "#30: car-shadow\n",
      "#31: rhino\n",
      "#32: drift-turn\n",
      "#33: tennis\n",
      "#34: drift-chicane\n",
      "#35: horsejump-low\n",
      "#36: flamingo\n",
      "#37: breakdance\n",
      "#38: goat\n",
      "#39: mallard-water\n",
      "#40: motocross-bumps\n",
      "#41: elephant\n",
      "#42: stroller\n",
      "#43: cows\n",
      "#44: dog-agility\n",
      "#45: car-turn\n",
      "#46: car-roundabout\n",
      "#47: kite-surf\n",
      "#48: bmx-bumps\n",
      "#49: surf\n"
     ]
    }
   ],
   "source": [
    "ANNOTATIONS_480P_FOLDERS_PATH = \"DAVIS_2016/DAVIS/Annotations/480p/\"\n",
    "CONTOURS_480P_FOLDERS_PATH = \"DAVIS_2016/DAVIS/Contours/480p/\"\n",
    "\n",
    "ANNOTATIONS_1080P_FOLDERS_PATH = \"DAVIS_2016/DAVIS/Annotations/1080p/\"\n",
    "CONTOURS_1080P_FOLDERS_PATH = \"DAVIS_2016/DAVIS/Contours/1080p/\"\n",
    "\n",
    "KERNEL_SIZE = 25\n",
    "CONTOUR_POINTS = 256\n",
    "\n",
    "create_contours_for_all_annotations(ANNOTATIONS_480P_FOLDERS_PATH,\n",
    "                                    CONTOURS_480P_FOLDERS_PATH,\n",
    "                                    KERNEL_SIZE, \n",
    "                                    CONTOUR_POINTS)"
   ]
  },
  {
   "cell_type": "code",
   "execution_count": null,
   "metadata": {},
   "outputs": [],
   "source": [
    "# Do not use the following sequences\n",
    "bad_sequences = ['bmx-trees', 'bus', 'cows', 'dog-agility', 'horsejump-high', 'horsejump-low', \n",
    "                 'kite-walk', 'lucia', 'libby', 'motorbike', 'paragliding', 'rhino', 'scooter-gray', \n",
    "                 'swing']"
   ]
  }
 ],
 "metadata": {
  "colab": {
   "collapsed_sections": [],
   "name": "contour_extraction.ipynb",
   "provenance": [],
   "version": "0.3.2"
  },
  "kernelspec": {
   "display_name": "Python 3",
   "language": "python",
   "name": "python3"
  },
  "language_info": {
   "codemirror_mode": {
    "name": "ipython",
    "version": 3
   },
   "file_extension": ".py",
   "mimetype": "text/x-python",
   "name": "python",
   "nbconvert_exporter": "python",
   "pygments_lexer": "ipython3",
   "version": "3.7.3"
  }
 },
 "nbformat": 4,
 "nbformat_minor": 2
}
