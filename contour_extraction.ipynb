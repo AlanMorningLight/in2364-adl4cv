{
 "cells": [
  {
   "cell_type": "markdown",
   "metadata": {
    "colab_type": "text",
    "id": "BxPJhkkEdsyD"
   },
   "source": [
    "# Contour extraction for ground truth masks of DAVIS 2016"
   ]
  },
  {
   "cell_type": "code",
   "execution_count": 13,
   "metadata": {
    "colab": {},
    "colab_type": "code",
    "id": "QRK35WL3Z6rk"
   },
   "outputs": [],
   "source": [
    "import cv2\n",
    "import matplotlib.pyplot as plt\n",
    "import matplotlib.image as mpimg\n",
    "import numpy as np\n",
    "import os\n",
    "import pandas as pd\n",
    "import re\n",
    "from scipy import spatial\n",
    "from skimage import measure\n",
    "\n",
    "%matplotlib inline"
   ]
  },
  {
   "cell_type": "markdown",
   "metadata": {
    "colab_type": "text",
    "id": "hsUYesNxHor_"
   },
   "source": [
    "## Functions"
   ]
  },
  {
   "cell_type": "markdown",
   "metadata": {
    "colab_type": "text",
    "id": "A5LxwQsGIxLd"
   },
   "source": [
    "### Save functions"
   ]
  },
  {
   "cell_type": "code",
   "execution_count": 14,
   "metadata": {
    "colab": {},
    "colab_type": "code",
    "id": "cwIfu7qyemT6"
   },
   "outputs": [],
   "source": [
    "def save_folder_list_as_csv(annotations_folder_id, file_name):\n",
    "    '''Saves Drive folder list with title and id as csv.'''\n",
    "    \n",
    "    folder_list = drive.ListFile({'q': (\"'{}' in parents and trashed=false\").\n",
    "                                  format(ANNOTATIONS_480P_FOLDER_ID)}).GetList()\n",
    "    df = pd.DataFrame.from_dict(folder_list)\n",
    "    df = df[['title', 'id']]\n",
    "    df.to_csv(file_name)"
   ]
  },
  {
   "cell_type": "code",
   "execution_count": 15,
   "metadata": {
    "colab": {},
    "colab_type": "code",
    "id": "uJZ0Zu2B7NNq"
   },
   "outputs": [],
   "source": [
    "def save_image_with_contour(image, contour, file_name):\n",
    "    '''Saves plotted image with contour.'''\n",
    "    \n",
    "    fig, ax = plt.subplots(figsize=(15, 10))\n",
    "    ax.scatter(contour[:, 0], contour[:, 1])\n",
    "    ax.imshow(image)\n",
    "    ax.axis('image')\n",
    "    ax.set_xticks([])\n",
    "    ax.set_yticks([])\n",
    "    plt.savefig(file_name, dpi=300, bbox_inches='tight')    \n",
    "    plt.close(fig)"
   ]
  },
  {
   "cell_type": "markdown",
   "metadata": {
    "colab_type": "text",
    "id": "xLafVO38JLOJ"
   },
   "source": [
    "### Contour functions"
   ]
  },
  {
   "cell_type": "code",
   "execution_count": 16,
   "metadata": {
    "colab": {},
    "colab_type": "code",
    "id": "bw2UpJob5sDf"
   },
   "outputs": [],
   "source": [
    "def close_image(image, kernel_size):\n",
    "    '''Returns the image that is closed with a kernel.'''\n",
    "    \n",
    "    kernel = cv2.getStructuringElement(cv2.MORPH_ELLIPSE,(kernel_size, kernel_size))\n",
    "    closing = cv2.morphologyEx(image, cv2.MORPH_CLOSE, kernel)\n",
    "    \n",
    "    return closing"
   ]
  },
  {
   "cell_type": "code",
   "execution_count": 17,
   "metadata": {
    "colab": {},
    "colab_type": "code",
    "id": "lJCNvWDfdUMD"
   },
   "outputs": [],
   "source": [
    "def extract_longest_contour(image, kernel_size):\n",
    "    '''Returns the contour with the most points from a given image.'''\n",
    "    \n",
    "    # Close image\n",
    "    closing = close_image(image, kernel_size)\n",
    "    \n",
    "    # Convert image to grayscale\n",
    "    gray = cv2.cvtColor(closing, cv2.COLOR_BGR2GRAY)\n",
    "\n",
    "    # Apply threshold to turn it into binary image\n",
    "    ret, thresh = cv2.threshold(gray, 0, 255, 0)\n",
    "\n",
    "    # Change method for different number of points:\n",
    "    # CHAIN_APPROX_NONE, CHAIN_APPROX_SIMPLE, CHAIN_APPROX_TC89_L1, CHAIN_APPROX_TC89_KCOS\n",
    "    _, contours, _ = cv2.findContours(image=thresh, \n",
    "                                      mode=cv2.RETR_TREE,\n",
    "                                      method=cv2.CHAIN_APPROX_NONE)\n",
    "    \n",
    "    # Get longest contour\n",
    "    longest_contour = max(contours, key=len)\n",
    "    \n",
    "    # Remove single-dimensional entry from the shape of the array \n",
    "    longest_contour = np.squeeze(longest_contour)\n",
    "    \n",
    "    return longest_contour"
   ]
  },
  {
   "cell_type": "code",
   "execution_count": 18,
   "metadata": {
    "colab": {},
    "colab_type": "code",
    "id": "GEptRU7t-VOo"
   },
   "outputs": [],
   "source": [
    "def shorten_contour(contour, points):\n",
    "    '''Returns a contour with a fixed number of points for a given contour.'''\n",
    "    \n",
    "    # TODO: add warning if short_contour has less than stated points\n",
    "    try:\n",
    "        step = len(contour) / (len(contour) - points)\n",
    "    except ZeroDivisionError as e:\n",
    "        print ('len(contour) = {} smaller, points = {}'.format(\n",
    "            len(contour), points))\n",
    "        raise ValueError('len(contour) = {} smaller, points = {}'.format(\n",
    "            len(contour), points)) from e\n",
    "        \n",
    "    short_contour = np.delete(contour, np.arange(0, contour.size, step), axis=0)\n",
    "    \n",
    "    return short_contour"
   ]
  },
  {
   "cell_type": "code",
   "execution_count": 19,
   "metadata": {
    "colab": {},
    "colab_type": "code",
    "id": "AHRqnyNBCozS"
   },
   "outputs": [],
   "source": [
    "def get_contour_from_mask(mask_name, kernel_size, points):\n",
    "    '''Returns the image, the longest contour, and shortened contour \n",
    "       given a mask name and fixed number of points.'''\n",
    "    \n",
    "    image = cv2.imread(mask_name)\n",
    "    contour = extract_longest_contour(image, kernel_size)\n",
    "    try:\n",
    "        short_contour = shorten_contour(contour, points)\n",
    "    except ValueError as e:\n",
    "        print(mask_name)\n",
    "        raise ValueError(mask_name) from e\n",
    "        \n",
    "    return image, contour, short_contour"
   ]
  },
  {
   "cell_type": "markdown",
   "metadata": {
    "colab_type": "text",
    "id": "CxHL-nUQK8HI"
   },
   "source": [
    "## Create contours for all masks"
   ]
  },
  {
   "cell_type": "code",
   "execution_count": 25,
   "metadata": {
    "colab": {},
    "colab_type": "code",
    "id": "lx-mFL_CksIp"
   },
   "outputs": [],
   "source": [
    "def create_contours_for_all_masks(annotations_folder_path, contours_folder_path):\n",
    "    \n",
    "    annotations_folders = os.listdir(annotations_folder_path)\n",
    "    \n",
    "    # Iterate through folders\n",
    "    for i, folder in enumerate(annotations_folders):\n",
    "        \n",
    "        if (i > 0):\n",
    "            break\n",
    "            \n",
    "        print('Folder {}'.format(folder))\n",
    "        \n",
    "        # Create folder to save contours\n",
    "        contours_folder = os.path.join(contours_folder_path, folder)\n",
    "        if not os.path.exists(contours_folder):\n",
    "            os.makedirs(contours_folder)\n",
    "        \n",
    "        print('\\tCreating contours')\n",
    "        \n",
    "        annotations = os.listdir(os.path.join(annotations_folders, folder))\n",
    "        \n",
    "        # Iterate through images\n",
    "        for j, annotation in enumerate(annotations):\n",
    "\n",
    "            if (j > 0):\n",
    "                break\n",
    "\n",
    "            # If first mask, then extract 256 contour points\n",
    "            if re.match(r\"00000.png\", mask_name):\n",
    "                try:\n",
    "                    image, contour, short_contour = get_contour_from_mask(\n",
    "                        mask_name, kernel_size, 256)\n",
    "                except ValueError as e:\n",
    "                    continue\n",
    "            # If not, then 512 contour points\n",
    "            else:\n",
    "                try:\n",
    "                    image, contour, short_contour = get_contour_from_mask(\n",
    "                        mask_name, kernel_size, 512)\n",
    "                except ValueError as e:\n",
    "                    continue\n",
    "\n",
    "            # Save contour\n",
    "            save_image_with_contour(image, short_contour, os.path.join(contours_folder, annotation))"
   ]
  },
  {
   "cell_type": "code",
   "execution_count": 26,
   "metadata": {},
   "outputs": [
    {
     "name": "stdout",
     "output_type": "stream",
     "text": [
      "Folder boat\n"
     ]
    },
    {
     "ename": "PermissionError",
     "evalue": "[Errno 13] Permission denied: 'DAVIS_2016/DAVIS/Contours'",
     "output_type": "error",
     "traceback": [
      "\u001b[0;31m---------------------------------------------------------------------------\u001b[0m",
      "\u001b[0;31mPermissionError\u001b[0m                           Traceback (most recent call last)",
      "\u001b[0;32m<ipython-input-26-8fe4c6be4e8d>\u001b[0m in \u001b[0;36m<module>\u001b[0;34m\u001b[0m\n\u001b[0;32m----> 1\u001b[0;31m \u001b[0mcreate_contours_for_all_masks\u001b[0m\u001b[0;34m(\u001b[0m\u001b[0;34m\"DAVIS_2016/DAVIS/Annotations/480p/\"\u001b[0m\u001b[0;34m,\u001b[0m \u001b[0;34m\"DAVIS_2016/DAVIS/Contours/480p/\"\u001b[0m\u001b[0;34m)\u001b[0m\u001b[0;34m\u001b[0m\u001b[0;34m\u001b[0m\u001b[0m\n\u001b[0m",
      "\u001b[0;32m<ipython-input-25-fb1b56b70d3e>\u001b[0m in \u001b[0;36mcreate_contours_for_all_masks\u001b[0;34m(annotations_folder_path, contours_folder_path)\u001b[0m\n\u001b[1;32m     14\u001b[0m         \u001b[0mcontours_folder\u001b[0m \u001b[0;34m=\u001b[0m \u001b[0mos\u001b[0m\u001b[0;34m.\u001b[0m\u001b[0mpath\u001b[0m\u001b[0;34m.\u001b[0m\u001b[0mjoin\u001b[0m\u001b[0;34m(\u001b[0m\u001b[0mcontours_folder_path\u001b[0m\u001b[0;34m,\u001b[0m \u001b[0mfolder\u001b[0m\u001b[0;34m)\u001b[0m\u001b[0;34m\u001b[0m\u001b[0;34m\u001b[0m\u001b[0m\n\u001b[1;32m     15\u001b[0m         \u001b[0;32mif\u001b[0m \u001b[0;32mnot\u001b[0m \u001b[0mos\u001b[0m\u001b[0;34m.\u001b[0m\u001b[0mpath\u001b[0m\u001b[0;34m.\u001b[0m\u001b[0mexists\u001b[0m\u001b[0;34m(\u001b[0m\u001b[0mcontours_folder\u001b[0m\u001b[0;34m)\u001b[0m\u001b[0;34m:\u001b[0m\u001b[0;34m\u001b[0m\u001b[0;34m\u001b[0m\u001b[0m\n\u001b[0;32m---> 16\u001b[0;31m             \u001b[0mos\u001b[0m\u001b[0;34m.\u001b[0m\u001b[0mmakedirs\u001b[0m\u001b[0;34m(\u001b[0m\u001b[0mcontours_folder\u001b[0m\u001b[0;34m)\u001b[0m\u001b[0;34m\u001b[0m\u001b[0;34m\u001b[0m\u001b[0m\n\u001b[0m\u001b[1;32m     17\u001b[0m \u001b[0;34m\u001b[0m\u001b[0m\n\u001b[1;32m     18\u001b[0m         \u001b[0mprint\u001b[0m\u001b[0;34m(\u001b[0m\u001b[0;34m'\\tCreating contours'\u001b[0m\u001b[0;34m)\u001b[0m\u001b[0;34m\u001b[0m\u001b[0;34m\u001b[0m\u001b[0m\n",
      "\u001b[0;32m/opt/anaconda3/lib/python3.7/os.py\u001b[0m in \u001b[0;36mmakedirs\u001b[0;34m(name, mode, exist_ok)\u001b[0m\n\u001b[1;32m    209\u001b[0m     \u001b[0;32mif\u001b[0m \u001b[0mhead\u001b[0m \u001b[0;32mand\u001b[0m \u001b[0mtail\u001b[0m \u001b[0;32mand\u001b[0m \u001b[0;32mnot\u001b[0m \u001b[0mpath\u001b[0m\u001b[0;34m.\u001b[0m\u001b[0mexists\u001b[0m\u001b[0;34m(\u001b[0m\u001b[0mhead\u001b[0m\u001b[0;34m)\u001b[0m\u001b[0;34m:\u001b[0m\u001b[0;34m\u001b[0m\u001b[0;34m\u001b[0m\u001b[0m\n\u001b[1;32m    210\u001b[0m         \u001b[0;32mtry\u001b[0m\u001b[0;34m:\u001b[0m\u001b[0;34m\u001b[0m\u001b[0;34m\u001b[0m\u001b[0m\n\u001b[0;32m--> 211\u001b[0;31m             \u001b[0mmakedirs\u001b[0m\u001b[0;34m(\u001b[0m\u001b[0mhead\u001b[0m\u001b[0;34m,\u001b[0m \u001b[0mexist_ok\u001b[0m\u001b[0;34m=\u001b[0m\u001b[0mexist_ok\u001b[0m\u001b[0;34m)\u001b[0m\u001b[0;34m\u001b[0m\u001b[0;34m\u001b[0m\u001b[0m\n\u001b[0m\u001b[1;32m    212\u001b[0m         \u001b[0;32mexcept\u001b[0m \u001b[0mFileExistsError\u001b[0m\u001b[0;34m:\u001b[0m\u001b[0;34m\u001b[0m\u001b[0;34m\u001b[0m\u001b[0m\n\u001b[1;32m    213\u001b[0m             \u001b[0;31m# Defeats race condition when another thread created the path\u001b[0m\u001b[0;34m\u001b[0m\u001b[0;34m\u001b[0m\u001b[0;34m\u001b[0m\u001b[0m\n",
      "\u001b[0;32m/opt/anaconda3/lib/python3.7/os.py\u001b[0m in \u001b[0;36mmakedirs\u001b[0;34m(name, mode, exist_ok)\u001b[0m\n\u001b[1;32m    209\u001b[0m     \u001b[0;32mif\u001b[0m \u001b[0mhead\u001b[0m \u001b[0;32mand\u001b[0m \u001b[0mtail\u001b[0m \u001b[0;32mand\u001b[0m \u001b[0;32mnot\u001b[0m \u001b[0mpath\u001b[0m\u001b[0;34m.\u001b[0m\u001b[0mexists\u001b[0m\u001b[0;34m(\u001b[0m\u001b[0mhead\u001b[0m\u001b[0;34m)\u001b[0m\u001b[0;34m:\u001b[0m\u001b[0;34m\u001b[0m\u001b[0;34m\u001b[0m\u001b[0m\n\u001b[1;32m    210\u001b[0m         \u001b[0;32mtry\u001b[0m\u001b[0;34m:\u001b[0m\u001b[0;34m\u001b[0m\u001b[0;34m\u001b[0m\u001b[0m\n\u001b[0;32m--> 211\u001b[0;31m             \u001b[0mmakedirs\u001b[0m\u001b[0;34m(\u001b[0m\u001b[0mhead\u001b[0m\u001b[0;34m,\u001b[0m \u001b[0mexist_ok\u001b[0m\u001b[0;34m=\u001b[0m\u001b[0mexist_ok\u001b[0m\u001b[0;34m)\u001b[0m\u001b[0;34m\u001b[0m\u001b[0;34m\u001b[0m\u001b[0m\n\u001b[0m\u001b[1;32m    212\u001b[0m         \u001b[0;32mexcept\u001b[0m \u001b[0mFileExistsError\u001b[0m\u001b[0;34m:\u001b[0m\u001b[0;34m\u001b[0m\u001b[0;34m\u001b[0m\u001b[0m\n\u001b[1;32m    213\u001b[0m             \u001b[0;31m# Defeats race condition when another thread created the path\u001b[0m\u001b[0;34m\u001b[0m\u001b[0;34m\u001b[0m\u001b[0;34m\u001b[0m\u001b[0m\n",
      "\u001b[0;32m/opt/anaconda3/lib/python3.7/os.py\u001b[0m in \u001b[0;36mmakedirs\u001b[0;34m(name, mode, exist_ok)\u001b[0m\n\u001b[1;32m    219\u001b[0m             \u001b[0;32mreturn\u001b[0m\u001b[0;34m\u001b[0m\u001b[0;34m\u001b[0m\u001b[0m\n\u001b[1;32m    220\u001b[0m     \u001b[0;32mtry\u001b[0m\u001b[0;34m:\u001b[0m\u001b[0;34m\u001b[0m\u001b[0;34m\u001b[0m\u001b[0m\n\u001b[0;32m--> 221\u001b[0;31m         \u001b[0mmkdir\u001b[0m\u001b[0;34m(\u001b[0m\u001b[0mname\u001b[0m\u001b[0;34m,\u001b[0m \u001b[0mmode\u001b[0m\u001b[0;34m)\u001b[0m\u001b[0;34m\u001b[0m\u001b[0;34m\u001b[0m\u001b[0m\n\u001b[0m\u001b[1;32m    222\u001b[0m     \u001b[0;32mexcept\u001b[0m \u001b[0mOSError\u001b[0m\u001b[0;34m:\u001b[0m\u001b[0;34m\u001b[0m\u001b[0;34m\u001b[0m\u001b[0m\n\u001b[1;32m    223\u001b[0m         \u001b[0;31m# Cannot rely on checking for EEXIST, since the operating system\u001b[0m\u001b[0;34m\u001b[0m\u001b[0;34m\u001b[0m\u001b[0;34m\u001b[0m\u001b[0m\n",
      "\u001b[0;31mPermissionError\u001b[0m: [Errno 13] Permission denied: 'DAVIS_2016/DAVIS/Contours'"
     ]
    }
   ],
   "source": [
    "create_contours_for_all_masks(\"DAVIS_2016/DAVIS/Annotations/480p/\", \"DAVIS_2016/DAVIS/Contours/480p/\")"
   ]
  },
  {
   "cell_type": "code",
   "execution_count": null,
   "metadata": {
    "colab": {},
    "colab_type": "code",
    "id": "oRHgZw36o0MT"
   },
   "outputs": [],
   "source": []
  }
 ],
 "metadata": {
  "colab": {
   "collapsed_sections": [],
   "name": "contour_extraction.ipynb",
   "provenance": [],
   "version": "0.3.2"
  },
  "kernelspec": {
   "display_name": "Python 3",
   "language": "python",
   "name": "python3"
  },
  "language_info": {
   "codemirror_mode": {
    "name": "ipython",
    "version": 3
   },
   "file_extension": ".py",
   "mimetype": "text/x-python",
   "name": "python",
   "nbconvert_exporter": "python",
   "pygments_lexer": "ipython3",
   "version": "3.7.3"
  }
 },
 "nbformat": 4,
 "nbformat_minor": 2
}
