{
 "cells": [
  {
   "cell_type": "markdown",
   "metadata": {},
   "source": [
    "# GCN for DAVIS 2016\n",
    "\n",
    "In this notebook, a custom [PyTorch Geometric](https://rusty1s.github.io/pytorch_geometric/build/html/index.html) [InMemoryDataset](https://rusty1s.github.io/pytorch_geometric/build/html/_modules/torch_geometric/data/in_memory_dataset.html#InMemoryDataset) for the DAVIS 2016 dataset is created. The implementation is based on this [tutorial](https://rusty1s.github.io/pytorch_geometric/build/html/notes/create_dataset.html). The dataset is then used to train a simple GCN network as a first evaluation based on this [tutorial](https://rusty1s.github.io/pytorch_geometric/build/html/notes/introduction.html#learning-methods-on-graphs).\n",
    "\n",
    "The dataset consists of single PyTorch Geometric [Data](https://rusty1s.github.io/pytorch_geometric/build/html/_modules/torch_geometric/data/data.html#Data) objects which model a single graph with various attributes. For this dataset, a graph for each contour is created. Hereby, each node of the graph represents one contour point. The feature of each node is the OSVOS feature vector from the next frame at this point. Each node is connected to its K nearest neighbours. The feature of each edge is the distance between the nodes it connects. The targets of each node is the translation it undergoes from the current to the next frame."
   ]
  },
  {
   "cell_type": "markdown",
   "metadata": {},
   "source": [
    "## Imports"
   ]
  },
  {
   "cell_type": "code",
   "execution_count": 1,
   "metadata": {},
   "outputs": [],
   "source": [
    "import cv2\n",
    "import matplotlib.pyplot as plt\n",
    "import numpy as np\n",
    "\n",
    "import torch\n",
    "import torch.nn.functional as F\n",
    "import torch.nn as nn\n",
    "import torch.optim as optim\n",
    "from torch.utils.data.sampler import SequentialSampler\n",
    "\n",
    "from torch_geometric.nn import GCNConv\n",
    "from torch_geometric.data import DataLoader\n",
    "\n",
    "from pg_datasets.davis_2016 import DAVIS2016\n",
    "\n",
    "# for auto-reloading extenrnal modules\n",
    "# see http://stackoverflow.com/questions/1907993/autoreload-of-modules-in-ipython\n",
    "%load_ext autoreload\n",
    "%autoreload 2\n",
    "\n",
    "device = torch.device('cuda' if torch.cuda.is_available() else 'cpu')"
   ]
  },
  {
   "cell_type": "markdown",
   "metadata": {},
   "source": [
    "## Paths & Constants"
   ]
  },
  {
   "cell_type": "code",
   "execution_count": 2,
   "metadata": {},
   "outputs": [],
   "source": [
    "PYTORCH_GEOMETRIC_DAVIS_2016_DATASET_PATH = 'pg_datasets/DAVIS_2016'\n",
    "CONTOURS_FOLDERS_PATH = 'DAVIS_2016/DAVIS/Contours/480p'\n",
    "IMAGES_FOLDERS_PATH = 'DAVIS_2016/DAVIS/JPEGImages/480p'\n",
    "TRANSLATIONS_FOLDERS_PATH = 'DAVIS_2016/DAVIS/Translations/480p'\n",
    "\n",
    "SKIP_SEQUENCES = ['bmx-trees', 'bus', 'cows', 'dog-agility', 'horsejump-high', \n",
    "                  'horsejump-low', 'kite-walk', 'lucia', 'libby', 'motorbike',\n",
    "                  'paragliding', 'rhino', 'scooter-gray', 'swing']\n",
    "\n",
    "UNEQUAL_TRANSLATION_LENGTH = ['surf', 'bmx-bumps']\n",
    "\n",
    "SKIP_SEQUENCES += UNEQUAL_TRANSLATION_LENGTH\n",
    "\n",
    "TRAIN_SEQUENCES = ['bear', 'bmx-bumps', 'boat', 'breakdance-flare', 'bus', \n",
    "                   'car-turn', 'dance-jump', 'dog-agility', 'drift-turn', \n",
    "                   'elephant', 'flamingo', 'hike', 'hockey', 'horsejump-low', \n",
    "                   'kite-walk', 'lucia', 'mallard-fly', 'mallard-water', \n",
    "                   'motocross-bumps', 'motorbike', 'paragliding', 'rhino', \n",
    "                   'rollerblade', 'scooter-gray', 'soccerball', 'stroller',\n",
    "                   'surf', 'swing', 'tennis', 'train']\n",
    "\n",
    "VAL_SEQUENCES = ['blackswan', 'bmx-trees', 'breakdance', 'camel', 'car-roundabout',\n",
    "                 'car-shadow', 'cows', 'dance-twirl', 'dog', 'drift-chicane', \n",
    "                 'drift-straight', 'goat', 'horsejump-high', 'kite-surf', 'libby', \n",
    "                 'motocross-jump', 'paragliding-launch', 'parkour', 'scooter-black', \n",
    "                 'soapbox']\n",
    "\n",
    "BATCH_SIZE = 16\n",
    "LAYER = 9\n",
    "K = 32\n",
    "EPOCHS_WO_AVEGRAD = 5"
   ]
  },
  {
   "cell_type": "markdown",
   "metadata": {},
   "source": [
    "## Train and Val Dataset"
   ]
  },
  {
   "cell_type": "code",
   "execution_count": 3,
   "metadata": {},
   "outputs": [],
   "source": [
    "train = DAVIS2016(PYTORCH_GEOMETRIC_DAVIS_2016_DATASET_PATH, \n",
    "                  CONTOURS_FOLDERS_PATH, IMAGES_FOLDERS_PATH, TRANSLATIONS_FOLDERS_PATH, \n",
    "                  LAYER, K, EPOCHS_WO_AVEGRAD,\n",
    "                  SKIP_SEQUENCES, TRAIN_SEQUENCES, VAL_SEQUENCES,\n",
    "                  train=True)"
   ]
  },
  {
   "cell_type": "code",
   "execution_count": 4,
   "metadata": {},
   "outputs": [],
   "source": [
    "val = DAVIS2016(PYTORCH_GEOMETRIC_DAVIS_2016_DATASET_PATH, \n",
    "                CONTOURS_FOLDERS_PATH, IMAGES_FOLDERS_PATH, TRANSLATIONS_FOLDERS_PATH, \n",
    "                LAYER, K, EPOCHS_WO_AVEGRAD,\n",
    "                SKIP_SEQUENCES, TRAIN_SEQUENCES, VAL_SEQUENCES,\n",
    "                train=False)"
   ]
  },
  {
   "cell_type": "code",
   "execution_count": 5,
   "metadata": {},
   "outputs": [
    {
     "name": "stdout",
     "output_type": "stream",
     "text": [
      "Data(edge_attr=[7324], edge_index=[2, 7324], x=[128, 128], y=[128, 2])\n"
     ]
    }
   ],
   "source": [
    "data = train[0]\n",
    "print(data)"
   ]
  },
  {
   "cell_type": "markdown",
   "metadata": {},
   "source": [
    "## Simple GCN"
   ]
  },
  {
   "cell_type": "code",
   "execution_count": 6,
   "metadata": {},
   "outputs": [],
   "source": [
    "class Net(torch.nn.Module):\n",
    "    def __init__(self, in_channels, out_channels):\n",
    "        super(Net, self).__init__()\n",
    "        \n",
    "        self.conv1 = GCNConv(in_channels, in_channels * 2)\n",
    "        self.conv2 = GCNConv(in_channels * 2, in_channels * 2)\n",
    "        \n",
    "        self.lin1 = nn.Linear(in_channels * 2, in_channels)\n",
    "        self.lin2 = nn.Linear(in_channels, out_channels)\n",
    "\n",
    "    def forward(self, data):\n",
    "        x, edge_index, edge_attr = data.x, data.edge_index, data.edge_attr\n",
    "        \n",
    "        x = self.conv1(x, edge_index, edge_attr)\n",
    "        x = F.relu(x)\n",
    "        x = F.dropout(x, training=self.training)\n",
    "                \n",
    "        x = self.conv2(x, edge_index, edge_attr)\n",
    "        x = F.relu(x)\n",
    "        x = F.dropout(x, training=self.training)\n",
    "        \n",
    "        x = self.lin1(x)\n",
    "        x = F.relu(x)\n",
    "        x = F.dropout(x, training=self.training)\n",
    "        \n",
    "        x = self.lin2(x)\n",
    "        \n",
    "        return x       "
   ]
  },
  {
   "cell_type": "code",
   "execution_count": 7,
   "metadata": {},
   "outputs": [],
   "source": [
    "def train_net(model, train_loader, optimizer, criterion, num_epochs=10, log_nth=10, verbose=True):\n",
    "\n",
    "    # prepare the net for training\n",
    "    model.train()\n",
    "    \n",
    "    train_loss_history = []\n",
    "    \n",
    "    if verbose: print('START TRAIN.')\n",
    "        \n",
    "    # loop over the dataset multiple times\n",
    "    for epoch in range(num_epochs):\n",
    "        running_loss = 0.0\n",
    "        # train on batches of data\n",
    "        for i, data in enumerate(train_loader):\n",
    "                      \n",
    "            data = data.to(device)\n",
    "\n",
    "            # zero the parameter gradients\n",
    "            optimizer.zero_grad()\n",
    "\n",
    "            # forward pass to get outputs\n",
    "            out = model(data)\n",
    "            \n",
    "            # calculate the loss between predicted and target keypoints\n",
    "            out_flatten = out.flatten()\n",
    "            y_flatten = data.y.flatten()\n",
    "            \n",
    "            loss = criterion(out_flatten, y_flatten)\n",
    "\n",
    "            # backward pass to calculate the weight gradients\n",
    "            loss.backward()\n",
    "\n",
    "            # update the weights\n",
    "            optimizer.step()\n",
    "            \n",
    "            # store loss for each batch\n",
    "            train_loss_history.append(loss.data)\n",
    "            \n",
    "            # log the loss every log_nth iterations\n",
    "            running_loss += loss.item()\n",
    "            if i % log_nth == log_nth - 1:\n",
    "                if verbose:\n",
    "                    print('[%d, %5d] loss: %.5f' \n",
    "                          %(epoch + 1, i + 1, running_loss / log_nth))\n",
    "                running_loss = 0.0\n",
    "            \n",
    "    if verbose: print('FINISH.')\n",
    "    \n",
    "    return train_loss_history"
   ]
  },
  {
   "cell_type": "code",
   "execution_count": 8,
   "metadata": {},
   "outputs": [],
   "source": [
    "def val_net(model, val_loader, criterion):\n",
    "    model.eval()\n",
    "    running_loss = 0.0\n",
    "    \n",
    "    for i, data in enumerate(val_loader):\n",
    "\n",
    "        data = data.to(device)\n",
    "\n",
    "        # forward pass to get outputs\n",
    "        with torch.no_grad():\n",
    "            out = model(data)\n",
    "\n",
    "        # calculate the loss between predicted and target keypoints\n",
    "        out_flatten = out.flatten()\n",
    "        y_flatten = data.y.flatten()\n",
    "        loss = criterion(out_flatten, y_flatten)\n",
    "\n",
    "        # log the loss every log_nth iterations\n",
    "        running_loss += loss.item()\n",
    "\n",
    "    metric = 1.0 / (2 * (running_loss/len(val_loader)))\n",
    "    print(\"Metric on VAL data: {}\".format(metric))\n",
    "    print('Finished Validation')\n",
    "    "
   ]
  },
  {
   "cell_type": "markdown",
   "metadata": {},
   "source": [
    "## Overfit"
   ]
  },
  {
   "cell_type": "code",
   "execution_count": 9,
   "metadata": {
    "scrolled": true
   },
   "outputs": [
    {
     "name": "stdout",
     "output_type": "stream",
     "text": [
      "Net(\n",
      "  (conv1): GCNConv(128, 256)\n",
      "  (conv2): GCNConv(256, 256)\n",
      "  (lin1): Linear(in_features=256, out_features=128, bias=True)\n",
      "  (lin2): Linear(in_features=128, out_features=2, bias=True)\n",
      ")\n"
     ]
    }
   ],
   "source": [
    "num_train = 1\n",
    "OverfitSampler = SequentialSampler(range(num_train))\n",
    "\n",
    "overfit_train_loader = DataLoader(train, batch_size=1, \n",
    "                                  shuffle=False, sampler=OverfitSampler)\n",
    "\n",
    "# Load model and run the solver\n",
    "overfit_model = Net(in_channels=train[0].num_features, \n",
    "                    out_channels=train[0].y.shape[1])\n",
    "\n",
    "print(overfit_model)\n",
    "overfit_model.double()\n",
    "overfit_model.to(device)\n",
    "criterion = nn.MSELoss()\n",
    "optimizer = optim.Adam(overfit_model.parameters(), lr=1e-4, betas=(0.9, 0.999), \n",
    "                       eps=1e-8, weight_decay=0.0)\n",
    "train_loss_history = train_net(overfit_model, overfit_train_loader, optimizer, criterion, \n",
    "                               num_epochs=100, verbose=False)"
   ]
  },
  {
   "cell_type": "code",
   "execution_count": 10,
   "metadata": {},
   "outputs": [
    {
     "data": {
      "image/png": "[encoded data removed]",
      "text/plain": [
       "<Figure size 432x288 with 1 Axes>"
      ]
     },
     "metadata": {
      "needs_background": "light"
     },
     "output_type": "display_data"
    }
   ],
   "source": [
    "plt.plot(train_loss_history, 'o')\n",
    "plt.xlabel('iteration')\n",
    "plt.ylabel('loss')\n",
    "plt.show()"
   ]
  },
  {
   "cell_type": "code",
   "execution_count": 11,
   "metadata": {},
   "outputs": [],
   "source": [
    "overfit_model.double()\n",
    "overfit_model.cpu()\n",
    "overfit_model.eval()\n",
    "\n",
    "image = cv2.imread('DAVIS_2016/DAVIS/Annotations/480p/bear/00001.png')\n",
    "sample = next(iter(overfit_train_loader))\n",
    "y = sample.y.detach().numpy()\n",
    "\n",
    "with torch.no_grad():\n",
    "    pred = overfit_model(sample).detach().numpy()\n",
    "\n",
    "contour = np.load('pg_datasets/DAVIS_2016/raw/Contours/bear/00000.npy')\n",
    "\n",
    "translation_ground_truth = contour + y\n",
    "translation_pred = contour + pred"
   ]
  },
  {
   "cell_type": "code",
   "execution_count": 12,
   "metadata": {},
   "outputs": [],
   "source": [
    "def plot_translation(image, translation_ground_truth, translation_pred):\n",
    "    \n",
    "    fig, ax = plt.subplots(figsize=(15, 10))\n",
    "    \n",
    "    ax.scatter(translation_ground_truth[:, 0], translation_ground_truth[:, 1], color='g')\n",
    "    ax.scatter(translation_pred[:, 0], translation_pred[:, 1], color='r')\n",
    "    \n",
    "    # Plot image\n",
    "    ax.imshow(image)\n",
    "    \n",
    "    ax.axis('image')\n",
    "    ax.set_xticks([])\n",
    "    ax.set_yticks([])\n",
    "\n",
    "    plt.show()"
   ]
  },
  {
   "cell_type": "code",
   "execution_count": 13,
   "metadata": {},
   "outputs": [
    {
     "data": {
      "image/png": "[encoded data removed]",
      "text/plain": [
       "<Figure size 1080x720 with 1 Axes>"
      ]
     },
     "metadata": {},
     "output_type": "display_data"
    }
   ],
   "source": [
    "plot_translation(image, translation_ground_truth, translation_pred)"
   ]
  },
  {
   "cell_type": "markdown",
   "metadata": {},
   "source": [
    "# Train"
   ]
  },
  {
   "cell_type": "code",
   "execution_count": 14,
   "metadata": {},
   "outputs": [
    {
     "name": "stdout",
     "output_type": "stream",
     "text": [
      "Net(\n",
      "  (conv1): GCNConv(128, 256)\n",
      "  (conv2): GCNConv(256, 256)\n",
      "  (lin1): Linear(in_features=256, out_features=128, bias=True)\n",
      "  (lin2): Linear(in_features=128, out_features=2, bias=True)\n",
      ")\n",
      "START TRAIN.\n",
      "FINISH.\n"
     ]
    }
   ],
   "source": [
    "train_loader = DataLoader(train, batch_size=BATCH_SIZE, shuffle=True)\n",
    "\n",
    "# Load model and run the solver\n",
    "model = Net(in_channels=train[0].num_features, \n",
    "            out_channels=train[0].y.shape[1])\n",
    "print(model)\n",
    "model.double()\n",
    "model.to(device)\n",
    "criterion = nn.MSELoss()\n",
    "optimizer = optim.Adam(model.parameters(), lr=1e-4, betas=(0.9, 0.999), \n",
    "                       eps=1e-8, weight_decay=0.0)\n",
    "train_loss_history = train_net(model, train_loader, optimizer, criterion,\n",
    "                               num_epochs=10, log_nth=10, verbose=True)"
   ]
  },
  {
   "cell_type": "code",
   "execution_count": 15,
   "metadata": {},
   "outputs": [
    {
     "data": {
      "image/png": "[encoded data removed]",
      "text/plain": [
       "<Figure size 432x288 with 1 Axes>"
      ]
     },
     "metadata": {
      "needs_background": "light"
     },
     "output_type": "display_data"
    }
   ],
   "source": [
    "plt.plot(train_loss_history, 'o')\n",
    "plt.xlabel('iteration')\n",
    "plt.ylabel('loss')\n",
    "plt.show()"
   ]
  },
  {
   "cell_type": "markdown",
   "metadata": {},
   "source": [
    "# Validate"
   ]
  },
  {
   "cell_type": "code",
   "execution_count": 16,
   "metadata": {},
   "outputs": [],
   "source": [
    "val_loader = DataLoader(val, batch_size=BATCH_SIZE, shuffle=False)"
   ]
  },
  {
   "cell_type": "code",
   "execution_count": 18,
   "metadata": {},
   "outputs": [
    {
     "name": "stdout",
     "output_type": "stream",
     "text": [
      "Metric on VAL data: 0.0031220663669001675\n",
      "Finished Validation\n"
     ]
    }
   ],
   "source": [
    "val_net(model, val_loader, criterion)"
   ]
  },
  {
   "cell_type": "code",
   "execution_count": null,
   "metadata": {},
   "outputs": [],
   "source": []
  }
 ],
 "metadata": {
  "kernelspec": {
   "display_name": "Python 3",
   "language": "python",
   "name": "python3"
  },
  "language_info": {
   "codemirror_mode": {
    "name": "ipython",
    "version": 3
   },
   "file_extension": ".py",
   "mimetype": "text/x-python",
   "name": "python",
   "nbconvert_exporter": "python",
   "pygments_lexer": "ipython3",
   "version": "3.7.0"
  }
 },
 "nbformat": 4,
 "nbformat_minor": 2
}
