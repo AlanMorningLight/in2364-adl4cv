{
 "cells": [
  {
   "cell_type": "markdown",
   "metadata": {},
   "source": [
    "# GCN for DAVIS 2016\n",
    "\n",
    "In this notebook, a custom [PyTorch Geometric](https://rusty1s.github.io/pytorch_geometric/build/html/index.html) [InMemoryDataset](https://rusty1s.github.io/pytorch_geometric/build/html/_modules/torch_geometric/data/in_memory_dataset.html#InMemoryDataset) for the DAVIS 2016 dataset is created. The implementation is based on this [tutorial](https://rusty1s.github.io/pytorch_geometric/build/html/notes/create_dataset.html). The dataset is then used to train a simple GCN network as a first evaluation based on this [tutorial](https://rusty1s.github.io/pytorch_geometric/build/html/notes/introduction.html#learning-methods-on-graphs).\n",
    "\n",
    "The dataset consists of single PyTorch Geometric [Data](https://rusty1s.github.io/pytorch_geometric/build/html/_modules/torch_geometric/data/data.html#Data) objects which model a single graph with various attributes. For this dataset, a graph for each contour is created. Hereby, each node of the graph represents one contour point. The feature of each node is the OSVOS feature vector from the next frame at this point. Each node is connected to its K nearest neighbours. The feature of each edge is the distance between the nodes it connects. The targets of each node is the translation it undergoes from the current to the next frame."
   ]
  },
  {
   "cell_type": "markdown",
   "metadata": {},
   "source": [
    "## Imports"
   ]
  },
  {
   "cell_type": "code",
   "execution_count": 16,
   "metadata": {},
   "outputs": [
    {
     "name": "stdout",
     "output_type": "stream",
     "text": [
      "The autoreload extension is already loaded. To reload it, use:\n",
      "  %reload_ext autoreload\n"
     ]
    }
   ],
   "source": [
    "import cv2\n",
    "import matplotlib.pyplot as plt\n",
    "import numpy as np\n",
    "\n",
    "import torch\n",
    "import torch.nn.functional as F\n",
    "import torch.nn as nn\n",
    "import torch.optim as optim\n",
    "from torch.utils.data.sampler import SequentialSampler\n",
    "\n",
    "from torch_geometric.nn import GCNConv\n",
    "from torch_geometric.data import DataLoader\n",
    "\n",
    "from pg_datasets.davis_2016 import DAVIS2016\n",
    "\n",
    "# for auto-reloading extenrnal modules\n",
    "# see http://stackoverflow.com/questions/1907993/autoreload-of-modules-in-ipython\n",
    "%load_ext autoreload\n",
    "%autoreload 2\n",
    "\n",
    "device = torch.device('cuda' if torch.cuda.is_available() else 'cpu')"
   ]
  },
  {
   "cell_type": "markdown",
   "metadata": {},
   "source": [
    "## Paths & Constants"
   ]
  },
  {
   "cell_type": "code",
   "execution_count": 17,
   "metadata": {},
   "outputs": [],
   "source": [
    "PYTORCH_GEOMETRIC_DAVIS_2016_DATASET_PATH = 'pg_datasets/DAVIS_2016'\n",
    "CONTOURS_FOLDERS_PATH = 'DAVIS_2016/DAVIS/Contours/480p'\n",
    "IMAGES_FOLDERS_PATH = 'DAVIS_2016/DAVIS/JPEGImages/480p'\n",
    "TRANSLATIONS_FOLDERS_PATH = 'DAVIS_2016/DAVIS/Translations/480p'\n",
    "\n",
    "LAYER = 9\n",
    "K = 32\n",
    "\n",
    "SKIP_SEQUENCES = ['bmx-trees', 'bus', 'cows', 'dog-agility', 'horsejump-high', \n",
    "                  'horsejump-low', 'kite-walk', 'lucia', 'libby', 'motorbike',\n",
    "                  'paragliding', 'rhino', 'scooter-gray', 'swing']\n",
    "\n",
    "TRAIN_SEQUENCES = ['bear', 'bmx-bumps', 'boat', 'breakdance-flare', 'bus', \n",
    "                   'car-turn', 'dance-jump', 'dog-agility', 'drift-turn', \n",
    "                   'elephant', 'flamingo', 'hike', 'hockey', 'horsejump-low', \n",
    "                   'kite-walk', 'lucia', 'mallard-fly', 'mallard-water', \n",
    "                   'motocross-bumps', 'motorbike', 'paragliding', 'rhino', \n",
    "                   'rollerblade', 'scooter-gray', 'soccerball', 'stroller',\n",
    "                   'surf', 'swing', 'tennis', 'train']\n",
    "\n",
    "VAL_SEQUENCES = ['blackswan', 'bmx-trees', 'breakdance', 'camel', 'car-roundabout',\n",
    "                 'car-shadow', 'cows', 'dance-twirl', 'dog', 'drift-chicane', \n",
    "                 'drift-straight', 'goat', 'horsejump-high', 'kite-surf', 'libby', \n",
    "                 'motocross-jump', 'paragliding-launch', 'parkour', 'scooter-black', \n",
    "                 'soapbox']\n",
    "\n",
    "BATCH_SIZE = 1"
   ]
  },
  {
   "cell_type": "markdown",
   "metadata": {},
   "source": [
    "## Train and Val Dataset"
   ]
  },
  {
   "cell_type": "code",
   "execution_count": 19,
   "metadata": {},
   "outputs": [
    {
     "name": "stdout",
     "output_type": "stream",
     "text": [
      "Processing...\n",
      "#0: bear\n",
      "['/home/maximilian_boemer/in2364-adl4cv', '/opt/anaconda3/lib/python37.zip', '/opt/anaconda3/lib/python3.7', '/opt/anaconda3/lib/python3.7/lib-dynload', '', '/home/maximilian_boemer/.local/lib/python3.7/site-packages', '/opt/anaconda3/lib/python3.7/site-packages', '/opt/anaconda3/lib/python3.7/site-packages/IPython/extensions', '/home/maximilian_boemer/.ipython', '/home/maximilian_boemer/in2364-adl4cv/OSVOS_PyTorch']\n",
      "Model available\n",
      "Create new OSVOS model...\n",
      "Constructing OSVOS architecture..\n",
      "Initializing weights..\n",
      "#2: bmx-bumps\n",
      "['/home/maximilian_boemer/in2364-adl4cv', '/opt/anaconda3/lib/python37.zip', '/opt/anaconda3/lib/python3.7', '/opt/anaconda3/lib/python3.7/lib-dynload', '', '/home/maximilian_boemer/.local/lib/python3.7/site-packages', '/opt/anaconda3/lib/python3.7/site-packages', '/opt/anaconda3/lib/python3.7/site-packages/IPython/extensions', '/home/maximilian_boemer/.ipython', '/home/maximilian_boemer/in2364-adl4cv/OSVOS_PyTorch']\n",
      "Model available\n",
      "Create new OSVOS model...\n",
      "Constructing OSVOS architecture..\n",
      "Initializing weights..\n",
      "#4: boat\n",
      "['/home/maximilian_boemer/in2364-adl4cv', '/opt/anaconda3/lib/python37.zip', '/opt/anaconda3/lib/python3.7', '/opt/anaconda3/lib/python3.7/lib-dynload', '', '/home/maximilian_boemer/.local/lib/python3.7/site-packages', '/opt/anaconda3/lib/python3.7/site-packages', '/opt/anaconda3/lib/python3.7/site-packages/IPython/extensions', '/home/maximilian_boemer/.ipython', '/home/maximilian_boemer/in2364-adl4cv/OSVOS_PyTorch']\n",
      "Model available\n",
      "Create new OSVOS model...\n",
      "Constructing OSVOS architecture..\n",
      "Initializing weights..\n",
      "#6: breakdance-flare\n",
      "['/home/maximilian_boemer/in2364-adl4cv', '/opt/anaconda3/lib/python37.zip', '/opt/anaconda3/lib/python3.7', '/opt/anaconda3/lib/python3.7/lib-dynload', '', '/home/maximilian_boemer/.local/lib/python3.7/site-packages', '/opt/anaconda3/lib/python3.7/site-packages', '/opt/anaconda3/lib/python3.7/site-packages/IPython/extensions', '/home/maximilian_boemer/.ipython', '/home/maximilian_boemer/in2364-adl4cv/OSVOS_PyTorch']\n",
      "Model available\n",
      "Create new OSVOS model...\n",
      "Constructing OSVOS architecture..\n",
      "Initializing weights..\n",
      "#11: car-turn\n",
      "['/home/maximilian_boemer/in2364-adl4cv', '/opt/anaconda3/lib/python37.zip', '/opt/anaconda3/lib/python3.7', '/opt/anaconda3/lib/python3.7/lib-dynload', '', '/home/maximilian_boemer/.local/lib/python3.7/site-packages', '/opt/anaconda3/lib/python3.7/site-packages', '/opt/anaconda3/lib/python3.7/site-packages/IPython/extensions', '/home/maximilian_boemer/.ipython', '/home/maximilian_boemer/in2364-adl4cv/OSVOS_PyTorch']\n",
      "Model available\n",
      "Create new OSVOS model...\n",
      "Constructing OSVOS architecture..\n",
      "Initializing weights..\n",
      "#13: dance-jump\n",
      "['/home/maximilian_boemer/in2364-adl4cv', '/opt/anaconda3/lib/python37.zip', '/opt/anaconda3/lib/python3.7', '/opt/anaconda3/lib/python3.7/lib-dynload', '', '/home/maximilian_boemer/.local/lib/python3.7/site-packages', '/opt/anaconda3/lib/python3.7/site-packages', '/opt/anaconda3/lib/python3.7/site-packages/IPython/extensions', '/home/maximilian_boemer/.ipython', '/home/maximilian_boemer/in2364-adl4cv/OSVOS_PyTorch']\n",
      "Model available\n",
      "Create new OSVOS model...\n",
      "Constructing OSVOS architecture..\n",
      "Initializing weights..\n",
      "#19: drift-turn\n",
      "['/home/maximilian_boemer/in2364-adl4cv', '/opt/anaconda3/lib/python37.zip', '/opt/anaconda3/lib/python3.7', '/opt/anaconda3/lib/python3.7/lib-dynload', '', '/home/maximilian_boemer/.local/lib/python3.7/site-packages', '/opt/anaconda3/lib/python3.7/site-packages', '/opt/anaconda3/lib/python3.7/site-packages/IPython/extensions', '/home/maximilian_boemer/.ipython', '/home/maximilian_boemer/in2364-adl4cv/OSVOS_PyTorch']\n",
      "Model available\n",
      "Create new OSVOS model...\n",
      "Constructing OSVOS architecture..\n",
      "Initializing weights..\n",
      "#20: elephant\n",
      "['/home/maximilian_boemer/in2364-adl4cv', '/opt/anaconda3/lib/python37.zip', '/opt/anaconda3/lib/python3.7', '/opt/anaconda3/lib/python3.7/lib-dynload', '', '/home/maximilian_boemer/.local/lib/python3.7/site-packages', '/opt/anaconda3/lib/python3.7/site-packages', '/opt/anaconda3/lib/python3.7/site-packages/IPython/extensions', '/home/maximilian_boemer/.ipython', '/home/maximilian_boemer/in2364-adl4cv/OSVOS_PyTorch']\n",
      "Model available\n",
      "Create new OSVOS model...\n",
      "Constructing OSVOS architecture..\n",
      "Initializing weights..\n",
      "#21: flamingo\n",
      "['/home/maximilian_boemer/in2364-adl4cv', '/opt/anaconda3/lib/python37.zip', '/opt/anaconda3/lib/python3.7', '/opt/anaconda3/lib/python3.7/lib-dynload', '', '/home/maximilian_boemer/.local/lib/python3.7/site-packages', '/opt/anaconda3/lib/python3.7/site-packages', '/opt/anaconda3/lib/python3.7/site-packages/IPython/extensions', '/home/maximilian_boemer/.ipython', '/home/maximilian_boemer/in2364-adl4cv/OSVOS_PyTorch']\n",
      "Model available\n",
      "Create new OSVOS model...\n",
      "Constructing OSVOS architecture..\n",
      "Initializing weights..\n",
      "#23: hike\n",
      "['/home/maximilian_boemer/in2364-adl4cv', '/opt/anaconda3/lib/python37.zip', '/opt/anaconda3/lib/python3.7', '/opt/anaconda3/lib/python3.7/lib-dynload', '', '/home/maximilian_boemer/.local/lib/python3.7/site-packages', '/opt/anaconda3/lib/python3.7/site-packages', '/opt/anaconda3/lib/python3.7/site-packages/IPython/extensions', '/home/maximilian_boemer/.ipython', '/home/maximilian_boemer/in2364-adl4cv/OSVOS_PyTorch']\n",
      "Model available\n",
      "Create new OSVOS model...\n",
      "Constructing OSVOS architecture..\n",
      "Initializing weights..\n",
      "#24: hockey\n",
      "['/home/maximilian_boemer/in2364-adl4cv', '/opt/anaconda3/lib/python37.zip', '/opt/anaconda3/lib/python3.7', '/opt/anaconda3/lib/python3.7/lib-dynload', '', '/home/maximilian_boemer/.local/lib/python3.7/site-packages', '/opt/anaconda3/lib/python3.7/site-packages', '/opt/anaconda3/lib/python3.7/site-packages/IPython/extensions', '/home/maximilian_boemer/.ipython', '/home/maximilian_boemer/in2364-adl4cv/OSVOS_PyTorch']\n",
      "Model available\n",
      "Create new OSVOS model...\n",
      "Constructing OSVOS architecture..\n",
      "Initializing weights..\n",
      "#31: mallard-fly\n",
      "['/home/maximilian_boemer/in2364-adl4cv', '/opt/anaconda3/lib/python37.zip', '/opt/anaconda3/lib/python3.7', '/opt/anaconda3/lib/python3.7/lib-dynload', '', '/home/maximilian_boemer/.local/lib/python3.7/site-packages', '/opt/anaconda3/lib/python3.7/site-packages', '/opt/anaconda3/lib/python3.7/site-packages/IPython/extensions', '/home/maximilian_boemer/.ipython', '/home/maximilian_boemer/in2364-adl4cv/OSVOS_PyTorch']\n",
      "Model available\n",
      "Create new OSVOS model...\n",
      "Constructing OSVOS architecture..\n",
      "Initializing weights..\n",
      "#32: mallard-water\n",
      "['/home/maximilian_boemer/in2364-adl4cv', '/opt/anaconda3/lib/python37.zip', '/opt/anaconda3/lib/python3.7', '/opt/anaconda3/lib/python3.7/lib-dynload', '', '/home/maximilian_boemer/.local/lib/python3.7/site-packages', '/opt/anaconda3/lib/python3.7/site-packages', '/opt/anaconda3/lib/python3.7/site-packages/IPython/extensions', '/home/maximilian_boemer/.ipython', '/home/maximilian_boemer/in2364-adl4cv/OSVOS_PyTorch']\n",
      "Model available\n",
      "Create new OSVOS model...\n",
      "Constructing OSVOS architecture..\n",
      "Initializing weights..\n",
      "#33: motocross-bumps\n",
      "['/home/maximilian_boemer/in2364-adl4cv', '/opt/anaconda3/lib/python37.zip', '/opt/anaconda3/lib/python3.7', '/opt/anaconda3/lib/python3.7/lib-dynload', '', '/home/maximilian_boemer/.local/lib/python3.7/site-packages', '/opt/anaconda3/lib/python3.7/site-packages', '/opt/anaconda3/lib/python3.7/site-packages/IPython/extensions', '/home/maximilian_boemer/.ipython', '/home/maximilian_boemer/in2364-adl4cv/OSVOS_PyTorch']\n",
      "Model available\n",
      "Create new OSVOS model...\n",
      "Constructing OSVOS architecture..\n",
      "Initializing weights..\n",
      "#40: rollerblade\n",
      "['/home/maximilian_boemer/in2364-adl4cv', '/opt/anaconda3/lib/python37.zip', '/opt/anaconda3/lib/python3.7', '/opt/anaconda3/lib/python3.7/lib-dynload', '', '/home/maximilian_boemer/.local/lib/python3.7/site-packages', '/opt/anaconda3/lib/python3.7/site-packages', '/opt/anaconda3/lib/python3.7/site-packages/IPython/extensions', '/home/maximilian_boemer/.ipython', '/home/maximilian_boemer/in2364-adl4cv/OSVOS_PyTorch']\n",
      "Model available\n",
      "Create new OSVOS model...\n",
      "Constructing OSVOS architecture..\n",
      "Initializing weights..\n",
      "#44: soccerball\n",
      "['/home/maximilian_boemer/in2364-adl4cv', '/opt/anaconda3/lib/python37.zip', '/opt/anaconda3/lib/python3.7', '/opt/anaconda3/lib/python3.7/lib-dynload', '', '/home/maximilian_boemer/.local/lib/python3.7/site-packages', '/opt/anaconda3/lib/python3.7/site-packages', '/opt/anaconda3/lib/python3.7/site-packages/IPython/extensions', '/home/maximilian_boemer/.ipython', '/home/maximilian_boemer/in2364-adl4cv/OSVOS_PyTorch']\n",
      "Model available\n",
      "Create new OSVOS model...\n",
      "Constructing OSVOS architecture..\n",
      "Initializing weights..\n"
     ]
    },
    {
     "name": "stdout",
     "output_type": "stream",
     "text": [
      "#45: stroller\n",
      "['/home/maximilian_boemer/in2364-adl4cv', '/opt/anaconda3/lib/python37.zip', '/opt/anaconda3/lib/python3.7', '/opt/anaconda3/lib/python3.7/lib-dynload', '', '/home/maximilian_boemer/.local/lib/python3.7/site-packages', '/opt/anaconda3/lib/python3.7/site-packages', '/opt/anaconda3/lib/python3.7/site-packages/IPython/extensions', '/home/maximilian_boemer/.ipython', '/home/maximilian_boemer/in2364-adl4cv/OSVOS_PyTorch']\n",
      "Model available\n",
      "Create new OSVOS model...\n",
      "Constructing OSVOS architecture..\n",
      "Initializing weights..\n",
      "#46: surf\n",
      "['/home/maximilian_boemer/in2364-adl4cv', '/opt/anaconda3/lib/python37.zip', '/opt/anaconda3/lib/python3.7', '/opt/anaconda3/lib/python3.7/lib-dynload', '', '/home/maximilian_boemer/.local/lib/python3.7/site-packages', '/opt/anaconda3/lib/python3.7/site-packages', '/opt/anaconda3/lib/python3.7/site-packages/IPython/extensions', '/home/maximilian_boemer/.ipython', '/home/maximilian_boemer/in2364-adl4cv/OSVOS_PyTorch']\n",
      "Model available\n",
      "Create new OSVOS model...\n",
      "Constructing OSVOS architecture..\n",
      "Initializing weights..\n",
      "#48: tennis\n",
      "['/home/maximilian_boemer/in2364-adl4cv', '/opt/anaconda3/lib/python37.zip', '/opt/anaconda3/lib/python3.7', '/opt/anaconda3/lib/python3.7/lib-dynload', '', '/home/maximilian_boemer/.local/lib/python3.7/site-packages', '/opt/anaconda3/lib/python3.7/site-packages', '/opt/anaconda3/lib/python3.7/site-packages/IPython/extensions', '/home/maximilian_boemer/.ipython', '/home/maximilian_boemer/in2364-adl4cv/OSVOS_PyTorch']\n",
      "Model available\n",
      "Create new OSVOS model...\n",
      "Constructing OSVOS architecture..\n",
      "Initializing weights..\n",
      "#49: train\n",
      "['/home/maximilian_boemer/in2364-adl4cv', '/opt/anaconda3/lib/python37.zip', '/opt/anaconda3/lib/python3.7', '/opt/anaconda3/lib/python3.7/lib-dynload', '', '/home/maximilian_boemer/.local/lib/python3.7/site-packages', '/opt/anaconda3/lib/python3.7/site-packages', '/opt/anaconda3/lib/python3.7/site-packages/IPython/extensions', '/home/maximilian_boemer/.ipython', '/home/maximilian_boemer/in2364-adl4cv/OSVOS_PyTorch']\n",
      "Model available\n",
      "Create new OSVOS model...\n",
      "Constructing OSVOS architecture..\n",
      "Initializing weights..\n",
      "Done!\n"
     ]
    }
   ],
   "source": [
    "train = DAVIS2016(PYTORCH_GEOMETRIC_DAVIS_2016_DATASET_PATH, \n",
    "                  CONTOURS_FOLDERS_PATH, IMAGES_FOLDERS_PATH, TRANSLATIONS_FOLDERS_PATH, \n",
    "                  LAYER, K, 100,\n",
    "                  SKIP_SEQUENCES, TRAIN_SEQUENCES, VAL_SEQUENCES,\n",
    "                  train=True)"
   ]
  },
  {
   "cell_type": "code",
   "execution_count": 20,
   "metadata": {},
   "outputs": [
    {
     "name": "stdout",
     "output_type": "stream",
     "text": [
      "Processing...\n",
      "#1: blackswan\n",
      "['/home/maximilian_boemer/in2364-adl4cv', '/opt/anaconda3/lib/python37.zip', '/opt/anaconda3/lib/python3.7', '/opt/anaconda3/lib/python3.7/lib-dynload', '', '/home/maximilian_boemer/.local/lib/python3.7/site-packages', '/opt/anaconda3/lib/python3.7/site-packages', '/opt/anaconda3/lib/python3.7/site-packages/IPython/extensions', '/home/maximilian_boemer/.ipython', '/home/maximilian_boemer/in2364-adl4cv/OSVOS_PyTorch']\n",
      "Model available\n",
      "Create new OSVOS model...\n",
      "Constructing OSVOS architecture..\n",
      "Initializing weights..\n",
      "#5: breakdance\n",
      "['/home/maximilian_boemer/in2364-adl4cv', '/opt/anaconda3/lib/python37.zip', '/opt/anaconda3/lib/python3.7', '/opt/anaconda3/lib/python3.7/lib-dynload', '', '/home/maximilian_boemer/.local/lib/python3.7/site-packages', '/opt/anaconda3/lib/python3.7/site-packages', '/opt/anaconda3/lib/python3.7/site-packages/IPython/extensions', '/home/maximilian_boemer/.ipython', '/home/maximilian_boemer/in2364-adl4cv/OSVOS_PyTorch']\n",
      "Model available\n",
      "Create new OSVOS model...\n",
      "Constructing OSVOS architecture..\n",
      "Initializing weights..\n",
      "#8: camel\n",
      "['/home/maximilian_boemer/in2364-adl4cv', '/opt/anaconda3/lib/python37.zip', '/opt/anaconda3/lib/python3.7', '/opt/anaconda3/lib/python3.7/lib-dynload', '', '/home/maximilian_boemer/.local/lib/python3.7/site-packages', '/opt/anaconda3/lib/python3.7/site-packages', '/opt/anaconda3/lib/python3.7/site-packages/IPython/extensions', '/home/maximilian_boemer/.ipython', '/home/maximilian_boemer/in2364-adl4cv/OSVOS_PyTorch']\n",
      "Model available\n",
      "Create new OSVOS model...\n",
      "Constructing OSVOS architecture..\n",
      "Initializing weights..\n",
      "#9: car-roundabout\n",
      "['/home/maximilian_boemer/in2364-adl4cv', '/opt/anaconda3/lib/python37.zip', '/opt/anaconda3/lib/python3.7', '/opt/anaconda3/lib/python3.7/lib-dynload', '', '/home/maximilian_boemer/.local/lib/python3.7/site-packages', '/opt/anaconda3/lib/python3.7/site-packages', '/opt/anaconda3/lib/python3.7/site-packages/IPython/extensions', '/home/maximilian_boemer/.ipython', '/home/maximilian_boemer/in2364-adl4cv/OSVOS_PyTorch']\n",
      "Model available\n",
      "Create new OSVOS model...\n",
      "Constructing OSVOS architecture..\n",
      "Initializing weights..\n",
      "#10: car-shadow\n",
      "['/home/maximilian_boemer/in2364-adl4cv', '/opt/anaconda3/lib/python37.zip', '/opt/anaconda3/lib/python3.7', '/opt/anaconda3/lib/python3.7/lib-dynload', '', '/home/maximilian_boemer/.local/lib/python3.7/site-packages', '/opt/anaconda3/lib/python3.7/site-packages', '/opt/anaconda3/lib/python3.7/site-packages/IPython/extensions', '/home/maximilian_boemer/.ipython', '/home/maximilian_boemer/in2364-adl4cv/OSVOS_PyTorch']\n",
      "Model available\n",
      "Create new OSVOS model...\n",
      "Constructing OSVOS architecture..\n",
      "Initializing weights..\n",
      "#14: dance-twirl\n",
      "['/home/maximilian_boemer/in2364-adl4cv', '/opt/anaconda3/lib/python37.zip', '/opt/anaconda3/lib/python3.7', '/opt/anaconda3/lib/python3.7/lib-dynload', '', '/home/maximilian_boemer/.local/lib/python3.7/site-packages', '/opt/anaconda3/lib/python3.7/site-packages', '/opt/anaconda3/lib/python3.7/site-packages/IPython/extensions', '/home/maximilian_boemer/.ipython', '/home/maximilian_boemer/in2364-adl4cv/OSVOS_PyTorch']\n",
      "Model available\n",
      "Create new OSVOS model...\n",
      "Constructing OSVOS architecture..\n",
      "Initializing weights..\n",
      "#15: dog\n",
      "['/home/maximilian_boemer/in2364-adl4cv', '/opt/anaconda3/lib/python37.zip', '/opt/anaconda3/lib/python3.7', '/opt/anaconda3/lib/python3.7/lib-dynload', '', '/home/maximilian_boemer/.local/lib/python3.7/site-packages', '/opt/anaconda3/lib/python3.7/site-packages', '/opt/anaconda3/lib/python3.7/site-packages/IPython/extensions', '/home/maximilian_boemer/.ipython', '/home/maximilian_boemer/in2364-adl4cv/OSVOS_PyTorch']\n",
      "Model available\n",
      "Create new OSVOS model...\n",
      "Constructing OSVOS architecture..\n",
      "Initializing weights..\n",
      "#17: drift-chicane\n",
      "['/home/maximilian_boemer/in2364-adl4cv', '/opt/anaconda3/lib/python37.zip', '/opt/anaconda3/lib/python3.7', '/opt/anaconda3/lib/python3.7/lib-dynload', '', '/home/maximilian_boemer/.local/lib/python3.7/site-packages', '/opt/anaconda3/lib/python3.7/site-packages', '/opt/anaconda3/lib/python3.7/site-packages/IPython/extensions', '/home/maximilian_boemer/.ipython', '/home/maximilian_boemer/in2364-adl4cv/OSVOS_PyTorch']\n",
      "Model available\n",
      "Create new OSVOS model...\n",
      "Constructing OSVOS architecture..\n",
      "Initializing weights..\n",
      "#18: drift-straight\n",
      "['/home/maximilian_boemer/in2364-adl4cv', '/opt/anaconda3/lib/python37.zip', '/opt/anaconda3/lib/python3.7', '/opt/anaconda3/lib/python3.7/lib-dynload', '', '/home/maximilian_boemer/.local/lib/python3.7/site-packages', '/opt/anaconda3/lib/python3.7/site-packages', '/opt/anaconda3/lib/python3.7/site-packages/IPython/extensions', '/home/maximilian_boemer/.ipython', '/home/maximilian_boemer/in2364-adl4cv/OSVOS_PyTorch']\n",
      "Model available\n",
      "Create new OSVOS model...\n",
      "Constructing OSVOS architecture..\n",
      "Initializing weights..\n",
      "#22: goat\n",
      "['/home/maximilian_boemer/in2364-adl4cv', '/opt/anaconda3/lib/python37.zip', '/opt/anaconda3/lib/python3.7', '/opt/anaconda3/lib/python3.7/lib-dynload', '', '/home/maximilian_boemer/.local/lib/python3.7/site-packages', '/opt/anaconda3/lib/python3.7/site-packages', '/opt/anaconda3/lib/python3.7/site-packages/IPython/extensions', '/home/maximilian_boemer/.ipython', '/home/maximilian_boemer/in2364-adl4cv/OSVOS_PyTorch']\n",
      "Model available\n",
      "Create new OSVOS model...\n",
      "Constructing OSVOS architecture..\n",
      "Initializing weights..\n",
      "#27: kite-surf\n",
      "['/home/maximilian_boemer/in2364-adl4cv', '/opt/anaconda3/lib/python37.zip', '/opt/anaconda3/lib/python3.7', '/opt/anaconda3/lib/python3.7/lib-dynload', '', '/home/maximilian_boemer/.local/lib/python3.7/site-packages', '/opt/anaconda3/lib/python3.7/site-packages', '/opt/anaconda3/lib/python3.7/site-packages/IPython/extensions', '/home/maximilian_boemer/.ipython', '/home/maximilian_boemer/in2364-adl4cv/OSVOS_PyTorch']\n",
      "Model available\n",
      "Create new OSVOS model...\n",
      "Constructing OSVOS architecture..\n",
      "Initializing weights..\n",
      "#34: motocross-jump\n",
      "['/home/maximilian_boemer/in2364-adl4cv', '/opt/anaconda3/lib/python37.zip', '/opt/anaconda3/lib/python3.7', '/opt/anaconda3/lib/python3.7/lib-dynload', '', '/home/maximilian_boemer/.local/lib/python3.7/site-packages', '/opt/anaconda3/lib/python3.7/site-packages', '/opt/anaconda3/lib/python3.7/site-packages/IPython/extensions', '/home/maximilian_boemer/.ipython', '/home/maximilian_boemer/in2364-adl4cv/OSVOS_PyTorch']\n",
      "Model available\n",
      "Create new OSVOS model...\n",
      "Constructing OSVOS architecture..\n",
      "Initializing weights..\n",
      "#37: paragliding-launch\n",
      "['/home/maximilian_boemer/in2364-adl4cv', '/opt/anaconda3/lib/python37.zip', '/opt/anaconda3/lib/python3.7', '/opt/anaconda3/lib/python3.7/lib-dynload', '', '/home/maximilian_boemer/.local/lib/python3.7/site-packages', '/opt/anaconda3/lib/python3.7/site-packages', '/opt/anaconda3/lib/python3.7/site-packages/IPython/extensions', '/home/maximilian_boemer/.ipython', '/home/maximilian_boemer/in2364-adl4cv/OSVOS_PyTorch']\n",
      "Model available\n",
      "Create new OSVOS model...\n",
      "Constructing OSVOS architecture..\n",
      "Initializing weights..\n",
      "#38: parkour\n",
      "['/home/maximilian_boemer/in2364-adl4cv', '/opt/anaconda3/lib/python37.zip', '/opt/anaconda3/lib/python3.7', '/opt/anaconda3/lib/python3.7/lib-dynload', '', '/home/maximilian_boemer/.local/lib/python3.7/site-packages', '/opt/anaconda3/lib/python3.7/site-packages', '/opt/anaconda3/lib/python3.7/site-packages/IPython/extensions', '/home/maximilian_boemer/.ipython', '/home/maximilian_boemer/in2364-adl4cv/OSVOS_PyTorch']\n",
      "Model available\n",
      "Create new OSVOS model...\n",
      "Constructing OSVOS architecture..\n",
      "Initializing weights..\n",
      "#41: scooter-black\n",
      "['/home/maximilian_boemer/in2364-adl4cv', '/opt/anaconda3/lib/python37.zip', '/opt/anaconda3/lib/python3.7', '/opt/anaconda3/lib/python3.7/lib-dynload', '', '/home/maximilian_boemer/.local/lib/python3.7/site-packages', '/opt/anaconda3/lib/python3.7/site-packages', '/opt/anaconda3/lib/python3.7/site-packages/IPython/extensions', '/home/maximilian_boemer/.ipython', '/home/maximilian_boemer/in2364-adl4cv/OSVOS_PyTorch']\n",
      "Model available\n",
      "Create new OSVOS model...\n",
      "Constructing OSVOS architecture..\n",
      "Initializing weights..\n",
      "#43: soapbox\n",
      "['/home/maximilian_boemer/in2364-adl4cv', '/opt/anaconda3/lib/python37.zip', '/opt/anaconda3/lib/python3.7', '/opt/anaconda3/lib/python3.7/lib-dynload', '', '/home/maximilian_boemer/.local/lib/python3.7/site-packages', '/opt/anaconda3/lib/python3.7/site-packages', '/opt/anaconda3/lib/python3.7/site-packages/IPython/extensions', '/home/maximilian_boemer/.ipython', '/home/maximilian_boemer/in2364-adl4cv/OSVOS_PyTorch']\n",
      "Model available\n",
      "Create new OSVOS model...\n",
      "Constructing OSVOS architecture..\n",
      "Initializing weights..\n"
     ]
    },
    {
     "name": "stdout",
     "output_type": "stream",
     "text": [
      "Done!\n"
     ]
    }
   ],
   "source": [
    "val = DAVIS2016(PYTORCH_GEOMETRIC_DAVIS_2016_DATASET_PATH, \n",
    "                CONTOURS_FOLDERS_PATH, IMAGES_FOLDERS_PATH, TRANSLATIONS_FOLDERS_PATH, \n",
    "                LAYER, K, 100,\n",
    "                SKIP_SEQUENCES, TRAIN_SEQUENCES, VAL_SEQUENCES,\n",
    "                train=False)"
   ]
  },
  {
   "cell_type": "code",
   "execution_count": 21,
   "metadata": {},
   "outputs": [
    {
     "name": "stdout",
     "output_type": "stream",
     "text": [
      "edge_attr torch.float64\n",
      "edge_index torch.int64\n",
      "x torch.float64\n",
      "y torch.float64\n",
      "Data(edge_attr=[15768], edge_index=[2, 15768], x=[256, 128], y=[256, 2])\n",
      "128\n",
      "256\n"
     ]
    }
   ],
   "source": [
    "data = train[0]\n",
    "for key, item in data:\n",
    "    print(key, item.dtype)\n",
    "\n",
    "print(data)\n",
    "print(data.num_features)\n",
    "print(data.num_nodes)\n"
   ]
  },
  {
   "cell_type": "markdown",
   "metadata": {},
   "source": [
    "## Simple GCN"
   ]
  },
  {
   "cell_type": "code",
   "execution_count": 22,
   "metadata": {},
   "outputs": [],
   "source": [
    "class Net(torch.nn.Module):\n",
    "    def __init__(self, in_channels, out_channels):\n",
    "        super(Net, self).__init__()\n",
    "        \n",
    "        self.conv1 = GCNConv(in_channels, 128)\n",
    "        self.conv2 = GCNConv(128, 128)\n",
    "        \n",
    "        self.lin1 = nn.Linear(128, 64)\n",
    "        self.lin2 = nn.Linear(64, out_channels)\n",
    "\n",
    "    def forward(self, data):\n",
    "        x, edge_index, edge_attr = data.x, data.edge_index, data.edge_attr\n",
    "        \n",
    "        x = self.conv1(x, edge_index, edge_attr)\n",
    "        x = F.relu(x)\n",
    "        x = F.dropout(x, training=self.training)\n",
    "        \n",
    "        x = self.conv2(x, edge_index, edge_attr)\n",
    "        x = F.relu(x)\n",
    "        x = F.dropout(x, training=self.training)\n",
    "        \n",
    "        x = self.lin1(x)\n",
    "        x = F.relu(x)\n",
    "        x = F.dropout(x, training=self.training)\n",
    "        \n",
    "        x = self.lin2(x)\n",
    "        \n",
    "        return x       "
   ]
  },
  {
   "cell_type": "code",
   "execution_count": 23,
   "metadata": {},
   "outputs": [],
   "source": [
    "def train_net(model, train_loader, optimizer, criterion, num_epochs=10, log_nth=10, verbose=True):\n",
    "\n",
    "    # prepare the net for training\n",
    "    model.train()\n",
    "    \n",
    "    train_loss_history = []\n",
    "    \n",
    "    if verbose: print('START TRAIN.')\n",
    "        \n",
    "    # loop over the dataset multiple times\n",
    "    for epoch in range(num_epochs):\n",
    "        running_loss = 0.0\n",
    "        # train on batches of data\n",
    "        for i, data in enumerate(train_loader):\n",
    "                      \n",
    "            data = data.to(device)\n",
    "\n",
    "            # zero the parameter gradients\n",
    "            optimizer.zero_grad()\n",
    "\n",
    "            # forward pass to get outputs\n",
    "            out = model(data)\n",
    "            \n",
    "            # calculate the loss between predicted and target keypoints\n",
    "            out_flatten = out.flatten()\n",
    "            y_flatten = data.y.flatten()\n",
    "            loss = criterion(out_flatten, y_flatten)\n",
    "\n",
    "            # backward pass to calculate the weight gradients\n",
    "            loss.backward()\n",
    "\n",
    "            # update the weights\n",
    "            optimizer.step()\n",
    "            \n",
    "            # store loss for each batch\n",
    "            train_loss_history.append(loss.data)\n",
    "            \n",
    "            # log the loss every log_nth iterations\n",
    "            running_loss += loss.item()\n",
    "            if i % log_nth == log_nth - 1:\n",
    "                if verbose:\n",
    "                    print('[%d, %5d] loss: %.5f' \n",
    "                          %(epoch + 1, i + 1, running_loss / log_nth))\n",
    "                running_loss = 0.0\n",
    "            \n",
    "    if verbose: print('FINISH.')\n",
    "    \n",
    "    return train_loss_history"
   ]
  },
  {
   "cell_type": "code",
   "execution_count": 24,
   "metadata": {},
   "outputs": [],
   "source": [
    "def val_net(model, val_loader, criterion):\n",
    "    model.eval()\n",
    "    running_loss = 0.0\n",
    "    \n",
    "    for i, data in enumerate(val_loader):\n",
    "\n",
    "        data = data.to(device)\n",
    "\n",
    "        # forward pass to get outputs\n",
    "        with torch.no_grad():\n",
    "            out = model(data)\n",
    "\n",
    "        # calculate the loss between predicted and target keypoints\n",
    "        out_flatten = out.flatten()\n",
    "        y_flatten = data.y.flatten()\n",
    "        loss = criterion(out_flatten, y_flatten)\n",
    "\n",
    "        # log the loss every log_nth iterations\n",
    "        running_loss += loss.item()\n",
    "\n",
    "    metric = 1.0 / (2 * (running_loss/len(val_loader)))\n",
    "    print(\"Metric on VAL data: {}\".format(metric))\n",
    "    print('Finished Validation')\n",
    "    "
   ]
  },
  {
   "cell_type": "markdown",
   "metadata": {},
   "source": [
    "## Overfit"
   ]
  },
  {
   "cell_type": "code",
   "execution_count": 25,
   "metadata": {
    "scrolled": true
   },
   "outputs": [
    {
     "name": "stdout",
     "output_type": "stream",
     "text": [
      "Net(\n",
      "  (conv1): GCNConv(128, 128)\n",
      "  (conv2): GCNConv(128, 128)\n",
      "  (lin1): Linear(in_features=128, out_features=64, bias=True)\n",
      "  (lin2): Linear(in_features=64, out_features=2, bias=True)\n",
      ")\n"
     ]
    }
   ],
   "source": [
    "num_train = 1\n",
    "OverfitSampler = SequentialSampler(range(num_train))\n",
    "\n",
    "overfit_train_loader = DataLoader(train, batch_size=1, \n",
    "                                  shuffle=False, sampler=OverfitSampler)\n",
    "\n",
    "# Load model and run the solver\n",
    "overfit_model = Net(in_channels=train[0].num_features, \n",
    "                    out_channels=train[0].y.shape[1])\n",
    "\n",
    "print(overfit_model)\n",
    "overfit_model.double()\n",
    "overfit_model.to(device)\n",
    "criterion = nn.MSELoss()\n",
    "optimizer = optim.Adam(overfit_model.parameters(), lr=1e-4, betas=(0.9, 0.999), \n",
    "                       eps=1e-8, weight_decay=0.0)\n",
    "train_loss_history = train_net(overfit_model, overfit_train_loader, optimizer, criterion, \n",
    "                               num_epochs=250, verbose=False)"
   ]
  },
  {
   "cell_type": "code",
   "execution_count": 26,
   "metadata": {},
   "outputs": [
    {
     "data": {
      "image/png": "[encoded data removed]",
      "text/plain": [
       "<Figure size 432x288 with 1 Axes>"
      ]
     },
     "metadata": {
      "needs_background": "light"
     },
     "output_type": "display_data"
    }
   ],
   "source": [
    "plt.plot(train_loss_history, 'o')\n",
    "plt.xlabel('iteration')\n",
    "plt.ylabel('loss')\n",
    "plt.show()"
   ]
  },
  {
   "cell_type": "code",
   "execution_count": 27,
   "metadata": {},
   "outputs": [],
   "source": [
    "overfit_model.double()\n",
    "overfit_model.cpu()\n",
    "overfit_model.eval()\n",
    "\n",
    "image = cv2.imread('DAVIS_2016/DAVIS/Annotations/480p/bear/00001.png')\n",
    "sample = next(iter(overfit_train_loader))\n",
    "y = sample.y.detach().numpy()\n",
    "\n",
    "with torch.no_grad():\n",
    "    pred = overfit_model(sample).detach().numpy()\n",
    "\n",
    "contour = np.load('pg_datasets/DAVIS_2016/raw/Contours/bear/00000.npy')\n",
    "\n",
    "translation_ground_truth = contour + y\n",
    "translation_pred = contour + pred"
   ]
  },
  {
   "cell_type": "code",
   "execution_count": 28,
   "metadata": {},
   "outputs": [],
   "source": [
    "def plot_translation(image, translation_ground_truth, translation_pred):\n",
    "    \n",
    "    fig, ax = plt.subplots(figsize=(15, 10))\n",
    "    \n",
    "    ax.scatter(translation_ground_truth[:, 0], translation_ground_truth[:, 1], color='g')\n",
    "    ax.scatter(translation_pred[:, 0], translation_pred[:, 1], color='r')\n",
    "    \n",
    "    # Plot image\n",
    "    ax.imshow(image)\n",
    "    \n",
    "    ax.axis('image')\n",
    "    ax.set_xticks([])\n",
    "    ax.set_yticks([])\n",
    "\n",
    "    plt.show()"
   ]
  },
  {
   "cell_type": "code",
   "execution_count": 29,
   "metadata": {},
   "outputs": [
    {
     "data": {
      "image/png": "[encoded data removed]",
      "text/plain": [
       "<Figure size 1080x720 with 1 Axes>"
      ]
     },
     "metadata": {},
     "output_type": "display_data"
    }
   ],
   "source": [
    "plot_translation(image, translation_ground_truth, translation_pred)"
   ]
  },
  {
   "cell_type": "markdown",
   "metadata": {},
   "source": [
    "# Train"
   ]
  },
  {
   "cell_type": "code",
   "execution_count": 30,
   "metadata": {},
   "outputs": [
    {
     "name": "stdout",
     "output_type": "stream",
     "text": [
      "Net(\n",
      "  (conv1): GCNConv(128, 128)\n",
      "  (conv2): GCNConv(128, 128)\n",
      "  (lin1): Linear(in_features=128, out_features=64, bias=True)\n",
      "  (lin2): Linear(in_features=64, out_features=2, bias=True)\n",
      ")\n",
      "START TRAIN.\n",
      "[1,    10] loss: 1109.76796\n",
      "[1,    20] loss: 803.80073\n",
      "[1,    30] loss: 582.18752\n",
      "[1,    40] loss: 577.90612\n"
     ]
    },
    {
     "name": "stderr",
     "output_type": "stream",
     "text": [
      "/opt/anaconda3/lib/python3.7/site-packages/torch/nn/modules/loss.py:443: UserWarning: Using a target size (torch.Size([432])) that is different to the input size (torch.Size([512])). This will likely lead to incorrect results due to broadcasting. Please ensure they have the same size.\n",
      "  return F.mse_loss(input, target, reduction=self.reduction)\n"
     ]
    },
    {
     "ename": "RuntimeError",
     "evalue": "The size of tensor a (512) must match the size of tensor b (432) at non-singleton dimension 0",
     "output_type": "error",
     "traceback": [
      "\u001b[0;31m---------------------------------------------------------------------------\u001b[0m",
      "\u001b[0;31mRuntimeError\u001b[0m                              Traceback (most recent call last)",
      "\u001b[0;32m<ipython-input-30-d019b65a782e>\u001b[0m in \u001b[0;36m<module>\u001b[0;34m\u001b[0m\n\u001b[1;32m     10\u001b[0m optimizer = optim.Adam(model.parameters(), lr=1e-4, betas=(0.9, 0.999), \n\u001b[1;32m     11\u001b[0m                        eps=1e-8, weight_decay=0.0)\n\u001b[0;32m---> 12\u001b[0;31m \u001b[0mtrain_loss_history\u001b[0m \u001b[0;34m=\u001b[0m \u001b[0mtrain_net\u001b[0m\u001b[0;34m(\u001b[0m\u001b[0mmodel\u001b[0m\u001b[0;34m,\u001b[0m \u001b[0mtrain_loader\u001b[0m\u001b[0;34m,\u001b[0m \u001b[0moptimizer\u001b[0m\u001b[0;34m,\u001b[0m \u001b[0mcriterion\u001b[0m\u001b[0;34m)\u001b[0m\u001b[0;34m\u001b[0m\u001b[0m\n\u001b[0m",
      "\u001b[0;32m<ipython-input-23-74863d80b14e>\u001b[0m in \u001b[0;36mtrain_net\u001b[0;34m(model, train_loader, optimizer, criterion, num_epochs, log_nth, verbose)\u001b[0m\n\u001b[1;32m     25\u001b[0m             \u001b[0mout_flatten\u001b[0m \u001b[0;34m=\u001b[0m \u001b[0mout\u001b[0m\u001b[0;34m.\u001b[0m\u001b[0mflatten\u001b[0m\u001b[0;34m(\u001b[0m\u001b[0;34m)\u001b[0m\u001b[0;34m\u001b[0m\u001b[0m\n\u001b[1;32m     26\u001b[0m             \u001b[0my_flatten\u001b[0m \u001b[0;34m=\u001b[0m \u001b[0mdata\u001b[0m\u001b[0;34m.\u001b[0m\u001b[0my\u001b[0m\u001b[0;34m.\u001b[0m\u001b[0mflatten\u001b[0m\u001b[0;34m(\u001b[0m\u001b[0;34m)\u001b[0m\u001b[0;34m\u001b[0m\u001b[0m\n\u001b[0;32m---> 27\u001b[0;31m             \u001b[0mloss\u001b[0m \u001b[0;34m=\u001b[0m \u001b[0mcriterion\u001b[0m\u001b[0;34m(\u001b[0m\u001b[0mout_flatten\u001b[0m\u001b[0;34m,\u001b[0m \u001b[0my_flatten\u001b[0m\u001b[0;34m)\u001b[0m\u001b[0;34m\u001b[0m\u001b[0m\n\u001b[0m\u001b[1;32m     28\u001b[0m \u001b[0;34m\u001b[0m\u001b[0m\n\u001b[1;32m     29\u001b[0m             \u001b[0;31m# backward pass to calculate the weight gradients\u001b[0m\u001b[0;34m\u001b[0m\u001b[0;34m\u001b[0m\u001b[0m\n",
      "\u001b[0;32m/opt/anaconda3/lib/python3.7/site-packages/torch/nn/modules/module.py\u001b[0m in \u001b[0;36m__call__\u001b[0;34m(self, *input, **kwargs)\u001b[0m\n\u001b[1;32m    491\u001b[0m             \u001b[0mresult\u001b[0m \u001b[0;34m=\u001b[0m \u001b[0mself\u001b[0m\u001b[0;34m.\u001b[0m\u001b[0m_slow_forward\u001b[0m\u001b[0;34m(\u001b[0m\u001b[0;34m*\u001b[0m\u001b[0minput\u001b[0m\u001b[0;34m,\u001b[0m \u001b[0;34m**\u001b[0m\u001b[0mkwargs\u001b[0m\u001b[0;34m)\u001b[0m\u001b[0;34m\u001b[0m\u001b[0m\n\u001b[1;32m    492\u001b[0m         \u001b[0;32melse\u001b[0m\u001b[0;34m:\u001b[0m\u001b[0;34m\u001b[0m\u001b[0m\n\u001b[0;32m--> 493\u001b[0;31m             \u001b[0mresult\u001b[0m \u001b[0;34m=\u001b[0m \u001b[0mself\u001b[0m\u001b[0;34m.\u001b[0m\u001b[0mforward\u001b[0m\u001b[0;34m(\u001b[0m\u001b[0;34m*\u001b[0m\u001b[0minput\u001b[0m\u001b[0;34m,\u001b[0m \u001b[0;34m**\u001b[0m\u001b[0mkwargs\u001b[0m\u001b[0;34m)\u001b[0m\u001b[0;34m\u001b[0m\u001b[0m\n\u001b[0m\u001b[1;32m    494\u001b[0m         \u001b[0;32mfor\u001b[0m \u001b[0mhook\u001b[0m \u001b[0;32min\u001b[0m \u001b[0mself\u001b[0m\u001b[0;34m.\u001b[0m\u001b[0m_forward_hooks\u001b[0m\u001b[0;34m.\u001b[0m\u001b[0mvalues\u001b[0m\u001b[0;34m(\u001b[0m\u001b[0;34m)\u001b[0m\u001b[0;34m:\u001b[0m\u001b[0;34m\u001b[0m\u001b[0m\n\u001b[1;32m    495\u001b[0m             \u001b[0mhook_result\u001b[0m \u001b[0;34m=\u001b[0m \u001b[0mhook\u001b[0m\u001b[0;34m(\u001b[0m\u001b[0mself\u001b[0m\u001b[0;34m,\u001b[0m \u001b[0minput\u001b[0m\u001b[0;34m,\u001b[0m \u001b[0mresult\u001b[0m\u001b[0;34m)\u001b[0m\u001b[0;34m\u001b[0m\u001b[0m\n",
      "\u001b[0;32m/opt/anaconda3/lib/python3.7/site-packages/torch/nn/modules/loss.py\u001b[0m in \u001b[0;36mforward\u001b[0;34m(self, input, target)\u001b[0m\n\u001b[1;32m    441\u001b[0m     \u001b[0;34m@\u001b[0m\u001b[0mweak_script_method\u001b[0m\u001b[0;34m\u001b[0m\u001b[0m\n\u001b[1;32m    442\u001b[0m     \u001b[0;32mdef\u001b[0m \u001b[0mforward\u001b[0m\u001b[0;34m(\u001b[0m\u001b[0mself\u001b[0m\u001b[0;34m,\u001b[0m \u001b[0minput\u001b[0m\u001b[0;34m,\u001b[0m \u001b[0mtarget\u001b[0m\u001b[0;34m)\u001b[0m\u001b[0;34m:\u001b[0m\u001b[0;34m\u001b[0m\u001b[0m\n\u001b[0;32m--> 443\u001b[0;31m         \u001b[0;32mreturn\u001b[0m \u001b[0mF\u001b[0m\u001b[0;34m.\u001b[0m\u001b[0mmse_loss\u001b[0m\u001b[0;34m(\u001b[0m\u001b[0minput\u001b[0m\u001b[0;34m,\u001b[0m \u001b[0mtarget\u001b[0m\u001b[0;34m,\u001b[0m \u001b[0mreduction\u001b[0m\u001b[0;34m=\u001b[0m\u001b[0mself\u001b[0m\u001b[0;34m.\u001b[0m\u001b[0mreduction\u001b[0m\u001b[0;34m)\u001b[0m\u001b[0;34m\u001b[0m\u001b[0m\n\u001b[0m\u001b[1;32m    444\u001b[0m \u001b[0;34m\u001b[0m\u001b[0m\n\u001b[1;32m    445\u001b[0m \u001b[0;34m\u001b[0m\u001b[0m\n",
      "\u001b[0;32m/opt/anaconda3/lib/python3.7/site-packages/torch/nn/functional.py\u001b[0m in \u001b[0;36mmse_loss\u001b[0;34m(input, target, size_average, reduce, reduction)\u001b[0m\n\u001b[1;32m   2254\u001b[0m             \u001b[0mret\u001b[0m \u001b[0;34m=\u001b[0m \u001b[0mtorch\u001b[0m\u001b[0;34m.\u001b[0m\u001b[0mmean\u001b[0m\u001b[0;34m(\u001b[0m\u001b[0mret\u001b[0m\u001b[0;34m)\u001b[0m \u001b[0;32mif\u001b[0m \u001b[0mreduction\u001b[0m \u001b[0;34m==\u001b[0m \u001b[0;34m'mean'\u001b[0m \u001b[0;32melse\u001b[0m \u001b[0mtorch\u001b[0m\u001b[0;34m.\u001b[0m\u001b[0msum\u001b[0m\u001b[0;34m(\u001b[0m\u001b[0mret\u001b[0m\u001b[0;34m)\u001b[0m\u001b[0;34m\u001b[0m\u001b[0m\n\u001b[1;32m   2255\u001b[0m     \u001b[0;32melse\u001b[0m\u001b[0;34m:\u001b[0m\u001b[0;34m\u001b[0m\u001b[0m\n\u001b[0;32m-> 2256\u001b[0;31m         \u001b[0mexpanded_input\u001b[0m\u001b[0;34m,\u001b[0m \u001b[0mexpanded_target\u001b[0m \u001b[0;34m=\u001b[0m \u001b[0mtorch\u001b[0m\u001b[0;34m.\u001b[0m\u001b[0mbroadcast_tensors\u001b[0m\u001b[0;34m(\u001b[0m\u001b[0minput\u001b[0m\u001b[0;34m,\u001b[0m \u001b[0mtarget\u001b[0m\u001b[0;34m)\u001b[0m\u001b[0;34m\u001b[0m\u001b[0m\n\u001b[0m\u001b[1;32m   2257\u001b[0m         \u001b[0mret\u001b[0m \u001b[0;34m=\u001b[0m \u001b[0mtorch\u001b[0m\u001b[0;34m.\u001b[0m\u001b[0m_C\u001b[0m\u001b[0;34m.\u001b[0m\u001b[0m_nn\u001b[0m\u001b[0;34m.\u001b[0m\u001b[0mmse_loss\u001b[0m\u001b[0;34m(\u001b[0m\u001b[0mexpanded_input\u001b[0m\u001b[0;34m,\u001b[0m \u001b[0mexpanded_target\u001b[0m\u001b[0;34m,\u001b[0m \u001b[0m_Reduction\u001b[0m\u001b[0;34m.\u001b[0m\u001b[0mget_enum\u001b[0m\u001b[0;34m(\u001b[0m\u001b[0mreduction\u001b[0m\u001b[0;34m)\u001b[0m\u001b[0;34m)\u001b[0m\u001b[0;34m\u001b[0m\u001b[0m\n\u001b[1;32m   2258\u001b[0m     \u001b[0;32mreturn\u001b[0m \u001b[0mret\u001b[0m\u001b[0;34m\u001b[0m\u001b[0m\n",
      "\u001b[0;32m/opt/anaconda3/lib/python3.7/site-packages/torch/functional.py\u001b[0m in \u001b[0;36mbroadcast_tensors\u001b[0;34m(*tensors)\u001b[0m\n\u001b[1;32m     60\u001b[0m                 [0, 1, 2]])\n\u001b[1;32m     61\u001b[0m     \"\"\"\n\u001b[0;32m---> 62\u001b[0;31m     \u001b[0;32mreturn\u001b[0m \u001b[0mtorch\u001b[0m\u001b[0;34m.\u001b[0m\u001b[0m_C\u001b[0m\u001b[0;34m.\u001b[0m\u001b[0m_VariableFunctions\u001b[0m\u001b[0;34m.\u001b[0m\u001b[0mbroadcast_tensors\u001b[0m\u001b[0;34m(\u001b[0m\u001b[0mtensors\u001b[0m\u001b[0;34m)\u001b[0m\u001b[0;34m\u001b[0m\u001b[0m\n\u001b[0m\u001b[1;32m     63\u001b[0m \u001b[0;34m\u001b[0m\u001b[0m\n\u001b[1;32m     64\u001b[0m \u001b[0;34m\u001b[0m\u001b[0m\n",
      "\u001b[0;31mRuntimeError\u001b[0m: The size of tensor a (512) must match the size of tensor b (432) at non-singleton dimension 0"
     ]
    }
   ],
   "source": [
    "train_loader = DataLoader(train, batch_size=BATCH_SIZE, shuffle=True)\n",
    "\n",
    "# Load model and run the solver\n",
    "model = Net(in_channels=train[0].num_features, \n",
    "            out_channels=train[0].y.shape[1])\n",
    "print(model)\n",
    "model.double()\n",
    "model.to(device)\n",
    "criterion = nn.MSELoss()\n",
    "optimizer = optim.Adam(model.parameters(), lr=1e-4, betas=(0.9, 0.999), \n",
    "                       eps=1e-8, weight_decay=0.0)\n",
    "train_loss_history = train_net(model, train_loader, optimizer, criterion)"
   ]
  },
  {
   "cell_type": "code",
   "execution_count": null,
   "metadata": {},
   "outputs": [],
   "source": [
    "plt.plot(train_loss_history, 'o')\n",
    "plt.xlabel('iteration')\n",
    "plt.ylabel('loss')\n",
    "plt.show()"
   ]
  },
  {
   "cell_type": "markdown",
   "metadata": {},
   "source": [
    "# Validate"
   ]
  },
  {
   "cell_type": "code",
   "execution_count": null,
   "metadata": {},
   "outputs": [],
   "source": [
    "train_loader = DataLoader(train, batch_size=BATCH_SIZE, \n",
    "                          shuffle=True, sampler=OverfitSampler)"
   ]
  },
  {
   "cell_type": "code",
   "execution_count": null,
   "metadata": {},
   "outputs": [],
   "source": [
    "device = torch.device('cuda' if torch.cuda.is_available() else 'cpu')\n",
    "model = Net().to(device)\n",
    "data = dataset[0].to(device)\n",
    "optimizer = torch.optim.Adam(model.parameters(), lr=0.01, weight_decay=5e-4)\n",
    "\n",
    "model.train()\n",
    "for epoch in range(200):\n",
    "    optimizer.zero_grad()\n",
    "    out = model(data)\n",
    "    loss = F.nll_loss(out[data.train_mask], data.y[data.train_mask])\n",
    "    loss.backward()\n",
    "    optimizer.step()"
   ]
  },
  {
   "cell_type": "code",
   "execution_count": null,
   "metadata": {},
   "outputs": [],
   "source": []
  }
 ],
 "metadata": {
  "kernelspec": {
   "display_name": "Python 3",
   "language": "python",
   "name": "python3"
  },
  "language_info": {
   "codemirror_mode": {
    "name": "ipython",
    "version": 3
   },
   "file_extension": ".py",
   "mimetype": "text/x-python",
   "name": "python",
   "nbconvert_exporter": "python",
   "pygments_lexer": "ipython3",
   "version": "3.7.0"
  }
 },
 "nbformat": 4,
 "nbformat_minor": 2
}
