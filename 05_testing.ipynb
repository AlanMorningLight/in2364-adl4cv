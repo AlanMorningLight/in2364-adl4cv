{
 "cells": [
  {
   "cell_type": "markdown",
   "metadata": {},
   "source": [
    "# Test Our Approach\n",
    "\n",
    "Difference between evaluation and testing: for evaluation, we always use the ground truth annotation to extract the contour points. For testing, we can only use the first ground truth annotation to extract the contour points and then need to create the next annotation by using our predicted translations.\n",
    "\n",
    "Pipeline for testing:\n",
    "- Take first ground truth annotation of sequence as input\n",
    "- Extract contour_0\n",
    "- Create data object\n",
    "- Forward pass data through model to get translation_0_1\n",
    "- Compute contour_1 = contour_0 + translation_0_1\n",
    "- Get OSVOS image\n",
    "- Compute combo image"
   ]
  },
  {
   "cell_type": "markdown",
   "metadata": {},
   "source": [
    "## Imports"
   ]
  },
  {
   "cell_type": "code",
   "execution_count": 1,
   "metadata": {},
   "outputs": [],
   "source": [
    "import os\n",
    "\n",
    "import cv2\n",
    "import matplotlib.pyplot as plt\n",
    "import numpy as np\n",
    "import torch \n",
    "\n",
    "from pg_networks.gcn import GCN\n",
    "import src.config as cfg\n",
    "from src.create_data import create_osvos_model, create_data\n",
    "from src.metrics import db_eval_iou, db_eval_boundary, db_eval_t_stab\n",
    "from src.vis_utils import compute_combo_img, extract_longest_contour, load_gray_img\n",
    "\n",
    "# for auto-reloading extenrnal modules\n",
    "# see http://stackoverflow.com/questions/1907993/autoreload-of-modules-in-ipython\n",
    "%load_ext autoreload\n",
    "%autoreload 2"
   ]
  },
  {
   "cell_type": "markdown",
   "metadata": {},
   "source": [
    "## Load OSVOS model to extract feature vectors"
   ]
  },
  {
   "cell_type": "code",
   "execution_count": 2,
   "metadata": {},
   "outputs": [
    {
     "name": "stdout",
     "output_type": "stream",
     "text": [
      "Constructing OSVOS architecture..\n",
      "Initializing weights..\n"
     ]
    }
   ],
   "source": [
    "osvos_model = create_osvos_model(cfg.PARENT_MODEL_PATH, cfg.LAYER)"
   ]
  },
  {
   "cell_type": "markdown",
   "metadata": {},
   "source": [
    "# Load GCN model"
   ]
  },
  {
   "cell_type": "code",
   "execution_count": 3,
   "metadata": {},
   "outputs": [
    {
     "data": {
      "text/plain": [
       "GCN(\n",
       "  (conv1): GCNConv(256, 512)\n",
       "  (conv2): GCNConv(512, 512)\n",
       "  (conv3): GCNConv(512, 1024)\n",
       "  (conv4): GCNConv(1024, 1024)\n",
       "  (lin1): Linear(in_features=1024, out_features=512, bias=True)\n",
       "  (lin2): Linear(in_features=512, out_features=256, bias=True)\n",
       "  (lin3): Linear(in_features=256, out_features=2, bias=True)\n",
       ")"
      ]
     },
     "execution_count": 3,
     "metadata": {},
     "output_type": "execute_result"
    }
   ],
   "source": [
    "gcn_model_path = 'pg_models/2019-06-28_17_14_33_best_model.pth'\n",
    "gcn_model = GCN(256, 2)\n",
    "gcn_model.load_state_dict(torch.load(gcn_model_path))\n",
    "gcn_model.eval()\n",
    "gcn_model.double()"
   ]
  },
  {
   "cell_type": "code",
   "execution_count": 4,
   "metadata": {},
   "outputs": [
    {
     "name": "stdout",
     "output_type": "stream",
     "text": [
      "#0: blackswan\n",
      "\tmean_J_combo: 0.8395457357938467, mean_J_osvos: 0.9437691704591111\n",
      "\tmean_F_combo: 0.8075487813712142, mean_F_osvos: 0.9702698124832759\n",
      "#1: bmx-trees\n",
      "\tmean_J_combo: 0.22037807133923926, mean_J_osvos: 0.38081008359097557\n",
      "\tmean_F_combo: 0.34461347928037056, mean_F_osvos: 0.48947476296770015\n",
      "#2: breakdance\n",
      "\tmean_J_combo: 0.3553168813383969, mean_J_osvos: 0.7125599532616964\n",
      "\tmean_F_combo: 0.42286625451253634, mean_F_osvos: 0.6924265529499325\n",
      "#3: camel\n",
      "\tmean_J_combo: 0.7708185378295842, mean_J_osvos: 0.8466937428219212\n",
      "\tmean_F_combo: 0.7305475270234073, mean_F_osvos: 0.8605430893936815\n",
      "#4: car-roundabout\n",
      "\tmean_J_combo: 0.9356199994178755, mean_J_osvos: 0.8780238057688655\n",
      "\tmean_F_combo: 0.8626135282202868, mean_F_osvos: 0.759978257371656\n",
      "#5: car-shadow\n",
      "\tmean_J_combo: 0.8341168530776938, mean_J_osvos: 0.8857831255531767\n",
      "\tmean_F_combo: 0.788631648689179, mean_F_osvos: 0.874686049662771\n",
      "#6: cows\n",
      "\tmean_J_combo: 0.8374029453863774, mean_J_osvos: 0.9524549806777443\n",
      "\tmean_F_combo: 0.8250422311314684, mean_F_osvos: 0.9758045017120595\n",
      "#7: dance-twirl\n",
      "\tmean_J_combo: 0.5312574694876965, mean_J_osvos: 0.6919916945108681\n",
      "\tmean_F_combo: 0.5564949813674964, mean_F_osvos: 0.747584070646991\n",
      "#8: dog\n",
      "\tmean_J_combo: 0.6436618222302213, mean_J_osvos: 0.9194418611267866\n",
      "\tmean_F_combo: 0.5787157089545043, mean_F_osvos: 0.9227209683843312\n",
      "#9: drift-chicane\n",
      "\tmean_J_combo: 0.034108233145213974, mean_J_osvos: 0.7726599005466238\n",
      "\tmean_F_combo: 0.053653632497989906, mean_F_osvos: 0.8305777200248192\n",
      "#10: drift-straight\n",
      "\tmean_J_combo: 0.09995615069772049, mean_J_osvos: 0.604752540491876\n",
      "\tmean_F_combo: 0.20903673108626877, mean_F_osvos: 0.5967204239018136\n",
      "#11: goat\n",
      "\tmean_J_combo: 0.41851665304196023, mean_J_osvos: 0.870221191359803\n",
      "\tmean_F_combo: 0.4794066507213504, mean_F_osvos: 0.8889250578630146\n",
      "#12: horsejump-high\n",
      "\tmean_J_combo: 0.2954256691586564, mean_J_osvos: 0.7605903352315608\n",
      "\tmean_F_combo: 0.3770417454668215, mean_F_osvos: 0.8194268654994175\n",
      "#13: kite-surf\n",
      "\tmean_J_combo: 0.39527281304294964, mean_J_osvos: 0.6572488043020636\n",
      "\tmean_F_combo: 0.4847404888337712, mean_F_osvos: 0.8645597629685838\n",
      "#14: libby\n",
      "\tmean_J_combo: 0.6089362653349205, mean_J_osvos: 0.733913899643432\n",
      "\tmean_F_combo: 0.73626421781255, mean_F_osvos: 0.8043328690257506\n",
      "#15: motocross-jump\n",
      "\tmean_J_combo: 0.2747252176792878, mean_J_osvos: 0.6503798805410014\n",
      "\tmean_F_combo: 0.2098611856744472, mean_F_osvos: 0.5875341061617421\n",
      "#16: paragliding-launch\n"
     ]
    },
    {
     "ename": "IndexError",
     "evalue": "index 241 is out of bounds for dimension 2 with size 240",
     "output_type": "error",
     "traceback": [
      "\u001b[0;31m---------------------------------------------------------------------------\u001b[0m",
      "\u001b[0;31mIndexError\u001b[0m                                Traceback (most recent call last)",
      "\u001b[0;32m<ipython-input-4-30a5cd137f94>\u001b[0m in \u001b[0;36m<module>\u001b[0;34m\u001b[0m\n\u001b[1;32m     47\u001b[0m         \u001b[0mimage_path_1\u001b[0m \u001b[0;34m=\u001b[0m \u001b[0mos\u001b[0m\u001b[0;34m.\u001b[0m\u001b[0mpath\u001b[0m\u001b[0;34m.\u001b[0m\u001b[0mjoin\u001b[0m\u001b[0;34m(\u001b[0m\u001b[0mraw_images_path\u001b[0m\u001b[0;34m,\u001b[0m \u001b[0mframes\u001b[0m\u001b[0;34m[\u001b[0m\u001b[0mj\u001b[0m\u001b[0;34m+\u001b[0m\u001b[0;36m1\u001b[0m\u001b[0;34m]\u001b[0m\u001b[0;34m)\u001b[0m\u001b[0;34m\u001b[0m\u001b[0m\n\u001b[1;32m     48\u001b[0m \u001b[0;34m\u001b[0m\u001b[0m\n\u001b[0;32m---> 49\u001b[0;31m         \u001b[0mdata\u001b[0m \u001b[0;34m=\u001b[0m \u001b[0mcreate_data\u001b[0m\u001b[0;34m(\u001b[0m\u001b[0mcontour_0\u001b[0m\u001b[0;34m,\u001b[0m \u001b[0;32mNone\u001b[0m\u001b[0;34m,\u001b[0m \u001b[0mimage_path_0\u001b[0m\u001b[0;34m,\u001b[0m \u001b[0mimage_path_1\u001b[0m\u001b[0;34m,\u001b[0m \u001b[0mosvos_model\u001b[0m\u001b[0;34m,\u001b[0m \u001b[0mcfg\u001b[0m\u001b[0;34m.\u001b[0m\u001b[0mK\u001b[0m\u001b[0;34m)\u001b[0m\u001b[0;34m\u001b[0m\u001b[0m\n\u001b[0m\u001b[1;32m     50\u001b[0m \u001b[0;34m\u001b[0m\u001b[0m\n\u001b[1;32m     51\u001b[0m         \u001b[0;31m# Forward pass to get outputs\u001b[0m\u001b[0;34m\u001b[0m\u001b[0;34m\u001b[0m\u001b[0m\n",
      "\u001b[0;32m~/in2364-adl4cv/src/create_data.py\u001b[0m in \u001b[0;36mcreate_data\u001b[0;34m(contour, translation, img_path_0, img_path_1, osvos_model, k)\u001b[0m\n\u001b[1;32m    106\u001b[0m     \u001b[0;31m# x: Node feature matrix with shape [num_nodes, num_node_features]\u001b[0m\u001b[0;34m\u001b[0m\u001b[0;34m\u001b[0m\u001b[0m\n\u001b[1;32m    107\u001b[0m     \u001b[0;31m# The feature of each node is the OSVOS feature vector of the next frame\u001b[0m\u001b[0;34m\u001b[0m\u001b[0;34m\u001b[0m\u001b[0m\n\u001b[0;32m--> 108\u001b[0;31m     \u001b[0mx_1\u001b[0m \u001b[0;34m=\u001b[0m \u001b[0mget_OSVOS_feature_vectors\u001b[0m\u001b[0;34m(\u001b[0m\u001b[0mcontour\u001b[0m\u001b[0;34m,\u001b[0m \u001b[0mimg_0\u001b[0m\u001b[0;34m,\u001b[0m \u001b[0mosvos_model\u001b[0m\u001b[0;34m)\u001b[0m\u001b[0;34m\u001b[0m\u001b[0m\n\u001b[0m\u001b[1;32m    109\u001b[0m     \u001b[0mx_2\u001b[0m \u001b[0;34m=\u001b[0m \u001b[0mget_OSVOS_feature_vectors\u001b[0m\u001b[0;34m(\u001b[0m\u001b[0mcontour\u001b[0m\u001b[0;34m,\u001b[0m \u001b[0mimg_1\u001b[0m\u001b[0;34m,\u001b[0m \u001b[0mosvos_model\u001b[0m\u001b[0;34m)\u001b[0m\u001b[0;34m\u001b[0m\u001b[0m\n\u001b[1;32m    110\u001b[0m     \u001b[0mx\u001b[0m \u001b[0;34m=\u001b[0m \u001b[0mtorch\u001b[0m\u001b[0;34m.\u001b[0m\u001b[0mcat\u001b[0m\u001b[0;34m(\u001b[0m\u001b[0;34m(\u001b[0m\u001b[0mx_1\u001b[0m\u001b[0;34m,\u001b[0m \u001b[0mx_2\u001b[0m\u001b[0;34m)\u001b[0m\u001b[0;34m,\u001b[0m \u001b[0;36m1\u001b[0m\u001b[0;34m)\u001b[0m\u001b[0;34m\u001b[0m\u001b[0m\n",
      "\u001b[0;32m~/in2364-adl4cv/src/create_data.py\u001b[0m in \u001b[0;36mget_OSVOS_feature_vectors\u001b[0;34m(contour, img, osvos_model)\u001b[0m\n\u001b[1;32m     65\u001b[0m             \u001b[0mx_cp\u001b[0m\u001b[0;34m,\u001b[0m \u001b[0my_cp\u001b[0m \u001b[0;34m=\u001b[0m \u001b[0mcontour_point\u001b[0m\u001b[0;34m\u001b[0m\u001b[0m\n\u001b[1;32m     66\u001b[0m             \u001b[0mx_fv\u001b[0m\u001b[0;34m,\u001b[0m \u001b[0my_fv\u001b[0m \u001b[0;34m=\u001b[0m \u001b[0mint\u001b[0m\u001b[0;34m(\u001b[0m\u001b[0mfloat\u001b[0m\u001b[0;34m(\u001b[0m\u001b[0mx_cp\u001b[0m\u001b[0;34m)\u001b[0m \u001b[0;34m*\u001b[0m \u001b[0mwidth_fv\u001b[0m \u001b[0;34m/\u001b[0m \u001b[0mwidth_img\u001b[0m\u001b[0;34m)\u001b[0m \u001b[0;34m-\u001b[0m \u001b[0;36m2\u001b[0m\u001b[0;34m,\u001b[0m \u001b[0mint\u001b[0m\u001b[0;34m(\u001b[0m\u001b[0mfloat\u001b[0m\u001b[0;34m(\u001b[0m\u001b[0my_cp\u001b[0m\u001b[0;34m)\u001b[0m \u001b[0;34m*\u001b[0m \u001b[0mheight_fv\u001b[0m \u001b[0;34m/\u001b[0m \u001b[0mheight_img\u001b[0m\u001b[0;34m)\u001b[0m \u001b[0;34m-\u001b[0m \u001b[0;36m2\u001b[0m\u001b[0;34m\u001b[0m\u001b[0m\n\u001b[0;32m---> 67\u001b[0;31m             \u001b[0mfeature_vectors\u001b[0m\u001b[0;34m.\u001b[0m\u001b[0mappend\u001b[0m\u001b[0;34m(\u001b[0m\u001b[0mfeature_vector\u001b[0m\u001b[0;34m[\u001b[0m\u001b[0;34m:\u001b[0m \u001b[0;34m,\u001b[0m\u001b[0;34m:\u001b[0m \u001b[0;34m,\u001b[0m \u001b[0my_fv\u001b[0m\u001b[0;34m,\u001b[0m \u001b[0mx_fv\u001b[0m\u001b[0;34m]\u001b[0m\u001b[0;34m.\u001b[0m\u001b[0mcpu\u001b[0m\u001b[0;34m(\u001b[0m\u001b[0;34m)\u001b[0m\u001b[0;34m.\u001b[0m\u001b[0mnumpy\u001b[0m\u001b[0;34m(\u001b[0m\u001b[0;34m)\u001b[0m\u001b[0;34m)\u001b[0m\u001b[0;34m\u001b[0m\u001b[0m\n\u001b[0m\u001b[1;32m     68\u001b[0m \u001b[0;34m\u001b[0m\u001b[0m\n\u001b[1;32m     69\u001b[0m     \u001b[0mfeature_vectors\u001b[0m \u001b[0;34m=\u001b[0m \u001b[0mnp\u001b[0m\u001b[0;34m.\u001b[0m\u001b[0msqueeze\u001b[0m\u001b[0;34m(\u001b[0m\u001b[0mnp\u001b[0m\u001b[0;34m.\u001b[0m\u001b[0marray\u001b[0m\u001b[0;34m(\u001b[0m\u001b[0mfeature_vectors\u001b[0m\u001b[0;34m)\u001b[0m\u001b[0;34m)\u001b[0m\u001b[0;34m\u001b[0m\u001b[0m\n",
      "\u001b[0;31mIndexError\u001b[0m: index 241 is out of bounds for dimension 2 with size 240"
     ]
    }
   ],
   "source": [
    "mean_Js_combo = []\n",
    "mean_Js_osvos = []\n",
    "\n",
    "mean_Fs_combo = []\n",
    "mean_Fs_osvos = []\n",
    "\n",
    "# Iterate through val sequences\n",
    "for i, sequence in enumerate(cfg.VAL_SEQUENCES):\n",
    "    \n",
    "    #if i > 0: break\n",
    "    print('#{}: {}'.format(i, sequence))\n",
    "    \n",
    "    # Get list of frames\n",
    "    raw_images_path = os.path.join('pg_datasets/DAVIS_2016/raw/Images', sequence, '0')\n",
    "    raw_annotations_path = os.path.join('pg_datasets/DAVIS_2016/raw/Annotations', sequence, '0')\n",
    "    \n",
    "    # Get list of frames\n",
    "    frames = os.listdir(raw_images_path)\n",
    "    if '.ipynb_checkpoints' in frames:\n",
    "        frames.remove('.ipynb_checkpoints')\n",
    "    frames.sort()\n",
    "    \n",
    "    Js_combo = []\n",
    "    Js_osvos = []\n",
    "\n",
    "    Fs_combo = []\n",
    "    Fs_osvos = []    \n",
    "    \n",
    "    # Iterate through frames\n",
    "    for j, frame in enumerate(frames[:-1]):\n",
    "        \n",
    "        #if j > 5: break\n",
    "        #print('\\t#{}: {}'.format(j, frame))\n",
    "        \n",
    "        # If first frame, extract contour from gt annotation\n",
    "        if j == 0:\n",
    "            annotation_0_path = os.path.join(raw_annotations_path, frame[:5] + '.png')\n",
    "            annotation_0_gray = load_gray_img(annotation_0_path)\n",
    "            \n",
    "            contour_0 = extract_longest_contour(annotation_0_gray, \n",
    "                                                cfg.CLOSING_KERNEL_SIZE, \n",
    "                                                cv2.CHAIN_APPROX_TC89_KCOS)\n",
    "            contour_0 = np.squeeze(contour_0)\n",
    "\n",
    "        # Create data object\n",
    "        image_path_0 = os.path.join(raw_images_path, frames[j])\n",
    "        image_path_1 = os.path.join(raw_images_path, frames[j+1])\n",
    "        \n",
    "        data = create_data(contour_0, None, image_path_0, image_path_1, osvos_model, cfg.K)\n",
    "        \n",
    "        # Forward pass to get outputs\n",
    "        with torch.no_grad():\n",
    "            translation_0_1_pred = gcn_model(data)    \n",
    "    \n",
    "        # Compute contour_1\n",
    "        contour_1_pred = np.add(contour_0, translation_0_1_pred)\n",
    "\n",
    "        # Load OSVOS result image\n",
    "        osvos_img_1_path = os.path.join(cfg.OSVOS_RESULTS_FOLDERS_PATH, \n",
    "                                        sequence, frames[j+1][:5] + '.png')\n",
    "        osvos_img_1 = cv2.imread(osvos_img_1_path)\n",
    "        osvos_img_1_gray = cv2.imread(osvos_img_1_path, cv2.IMREAD_GRAYSCALE)\n",
    "        \n",
    "        # Create combined image\n",
    "        _, combo_img_1, _, _ = compute_combo_img(contour_1_pred, osvos_img_1)\n",
    "        combo_img_1_path = os.path.join(cfg.COMBO_RESULTS_FOLDERS_PATH, \n",
    "                                        sequence, frames[j+1][:5] + '.png')\n",
    "        if not os.path.exists(os.path.join(cfg.COMBO_RESULTS_FOLDERS_PATH, sequence)):\n",
    "            os.makedirs(os.path.join(cfg.COMBO_RESULTS_FOLDERS_PATH, sequence))\n",
    "\n",
    "        cv2.imwrite(combo_img_1_path, combo_img_1*255)        \n",
    "        \n",
    "        # Load ground truth annotation\n",
    "        annotation_1_path = os.path.join(raw_annotations_path, frames[j+1][:5] + '.png')\n",
    "        annotation_1_gray = cv2.imread(annotation_1_path, cv2.IMREAD_GRAYSCALE)\n",
    "        \n",
    "        #Compute J\n",
    "        J_combo = db_eval_iou(annotation_1_gray, combo_img_1)\n",
    "        J_osvos = db_eval_iou(annotation_1_gray, osvos_img_1_gray)\n",
    "\n",
    "        #Compute F\n",
    "        F_combo = db_eval_boundary(combo_img_1, annotation_1_gray)\n",
    "        F_osvos = db_eval_boundary(osvos_img_1_gray, annotation_1_gray)\n",
    "        \n",
    "        Js_combo.append(J_combo)\n",
    "        Js_osvos.append(J_osvos)\n",
    "        Fs_combo.append(F_combo)\n",
    "        Fs_osvos.append(F_osvos)\n",
    "        \n",
    "        contour_0 = contour_1_pred.numpy()\n",
    "    \n",
    "    mean_J_combo = np.mean(np.array(Js_combo))\n",
    "    mean_J_osvos = np.mean(np.array(Js_osvos))\n",
    "    mean_F_combo = np.mean(np.array(Fs_combo))\n",
    "    mean_F_osvos = np.mean(np.array(Fs_osvos))\n",
    "    \n",
    "    print('\\tmean_J_combo: {}, mean_J_osvos: {}'.format(mean_J_combo, mean_J_osvos))\n",
    "    print('\\tmean_F_combo: {}, mean_F_osvos: {}'.format(mean_F_combo, mean_F_osvos))\n",
    "\n",
    "    mean_Js_combo.append(mean_J_combo)\n",
    "    mean_Js_osvos.append(mean_J_osvos)\n",
    "    mean_Fs_combo.append(mean_F_combo)\n",
    "    mean_Fs_osvos.append(mean_F_osvos)\n",
    "    \n",
    "mean_J_combo_overall = np.mean(np.array(mean_Js_combo))\n",
    "mean_J_osvos_overall = np.mean(np.array(mean_Js_osvos))\n",
    "mean_F_combo_overall = np.mean(np.array(mean_Fs_combo))\n",
    "mean_F_osvos_overall = np.mean(np.array(mean_Fs_osvos))\n",
    "\n",
    "print('mean_J_combo_overall: {}'.format(mean_J_combo_overall))\n",
    "print('mean_J_osvos_overall: {}'.format(mean_J_osvos_overall))\n",
    "print('mean_F_combo_overall: {}'.format(mean_F_combo_overall))\n",
    "print('mean_F_osvos_overall: {}'.format(mean_F_osvos_overall))"
   ]
  },
  {
   "cell_type": "code",
   "execution_count": null,
   "metadata": {},
   "outputs": [],
   "source": []
  }
 ],
 "metadata": {
  "kernelspec": {
   "display_name": "Python 3",
   "language": "python",
   "name": "python3"
  },
  "language_info": {
   "codemirror_mode": {
    "name": "ipython",
    "version": 3
   },
   "file_extension": ".py",
   "mimetype": "text/x-python",
   "name": "python",
   "nbconvert_exporter": "python",
   "pygments_lexer": "ipython3",
   "version": "3.7.0"
  }
 },
 "nbformat": 4,
 "nbformat_minor": 2
}
