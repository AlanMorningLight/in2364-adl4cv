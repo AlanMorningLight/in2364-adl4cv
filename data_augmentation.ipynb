{
 "cells": [
  {
   "cell_type": "markdown",
   "metadata": {},
   "source": [
    "# Data Augmentation\n",
    "\n",
    "## Imports"
   ]
  },
  {
   "cell_type": "code",
   "execution_count": 1,
   "metadata": {},
   "outputs": [],
   "source": [
    "import os\n",
    "\n",
    "import cv2\n",
    "import matplotlib.pyplot as plt\n",
    "import numpy as np\n",
    "import torch\n",
    "from torchvision import transforms\n",
    "\n",
    "from OSVOS_PyTorch.dataloaders.custom_transforms import ScaleNRotate, Resize, RandomHorizontalFlip"
   ]
  },
  {
   "cell_type": "markdown",
   "metadata": {},
   "source": [
    "## Paths & Constants"
   ]
  },
  {
   "cell_type": "code",
   "execution_count": 2,
   "metadata": {},
   "outputs": [],
   "source": [
    "ANNOTATIONS_FOLDERS_PATH = \"DAVIS_2016/DAVIS/Annotations/480p/\"\n",
    "IMAGES_FOLDERS_PATH = 'DAVIS_2016/DAVIS/JPEGImages/480p/'\n",
    "\n",
    "ANNOTATIONS_AUGMENTED_FOLDERS_PATH = \"DAVIS_2016/DAVIS/Annotations_augmented/480p/\"\n",
    "IMAGES_AUGMENTED_FOLDERS_PATH = 'DAVIS_2016/DAVIS/JPEGImages_augmented/480p/'\n",
    "\n",
    "MEANVAL = (104.00699, 116.66877, 122.67892)\n",
    "AUGMENTATION_COUNT = 2"
   ]
  },
  {
   "cell_type": "markdown",
   "metadata": {},
   "source": [
    "## Functions"
   ]
  },
  {
   "cell_type": "code",
   "execution_count": 3,
   "metadata": {},
   "outputs": [],
   "source": [
    "def save_sample(sample, frame, augmentation_count,\n",
    "                annotations_augmented_folders_path, images_augmented_folders_path):\n",
    "    \n",
    "    image = sample['image']\n",
    "    annotation = sample ['gt']\n",
    "\n",
    "    file_name = '{}_{}'.format(frame[:5], augmentation_count)\n",
    "    \n",
    "    # Save image\n",
    "    image_save_path = os.path.join(images_augmented_folders_path, file_name)\n",
    "    np.save(image_save_path, image)\n",
    "    \n",
    "    # Save annotation\n",
    "    annotation_save_path = os.path.join(annotations_augmented_folders_path, file_name)\n",
    "    np.save(annotation_save_path, annotation)    "
   ]
  },
  {
   "cell_type": "code",
   "execution_count": 4,
   "metadata": {},
   "outputs": [],
   "source": [
    "def augment_data(annotations_folders_path, images_folders_path,\n",
    "                 annotations_augmented_folders_path, images_augmented_folders_path,\n",
    "                 meanval, augmentation_count):\n",
    "\n",
    "    # Augmentations\n",
    "    composed_transforms = transforms.Compose([RandomHorizontalFlip(),\n",
    "                                             ScaleNRotate()])\n",
    "    # Get list of sequences\n",
    "    sequences = os.listdir(images_folders_path)\n",
    "    sequences.sort()\n",
    "    \n",
    "    # Iterate through sequences\n",
    "    for i, sequence in enumerate(sequences):\n",
    "\n",
    "        # Debug\n",
    "        if (i > 2): break\n",
    "\n",
    "        print('#{}: {}'.format(i, sequence))\n",
    "        \n",
    "        # Create folders to save augmented annotations and images\n",
    "        annotations_aug_folder_path = os.path.join(annotations_augmented_folders_path, sequence)\n",
    "        if not os.path.exists(annotations_aug_folder_path):\n",
    "            os.makedirs(annotations_aug_folder_path)\n",
    "            \n",
    "        images_aug_folder_path = os.path.join(images_augmented_folders_path, sequence)\n",
    "        if not os.path.exists(images_aug_folder_path):\n",
    "            os.makedirs(images_aug_folder_path)\n",
    "\n",
    "        # Get list of frames\n",
    "        frames = os.listdir(os.path.join(images_folders_path, sequence))\n",
    "        if '.ipynb_checkpoints' in frames:\n",
    "            frames.remove('.ipynb_checkpoints')\n",
    "        frames.sort()\n",
    "        \n",
    "        # Iterate through frames\n",
    "        for j, frame in enumerate(frames):\n",
    "\n",
    "            # Debug\n",
    "            if (j > 2): break\n",
    "            print('\\t#{}: {}'.format(j, frame))\n",
    "            \n",
    "            if (sequence == 'bmx-bumps' and frame == '00059.png'): break\n",
    "            if (sequence == 'surf' and frame == '00053.png'): break\n",
    "                \n",
    "            # Load annotation and image\n",
    "            annotation_path = os.path.join(annotations_folders_path, sequence, frame[:5] + '.png')\n",
    "            image_path = os.path.join(images_folders_path, sequence, frame)\n",
    "            \n",
    "            annotation = cv2.imread(annotation_path)\n",
    "            annotation = np.array(annotation, dtype=np.float32)\n",
    "            annotation = annotation/np.max([annotation.max(), 1e-8])\n",
    "            \n",
    "            image = cv2.imread(image_path)\n",
    "            image = np.array(image, dtype=np.float32)\n",
    "            image = np.subtract(image, np.array(meanval, dtype=np.float32))\n",
    "                     \n",
    "            # Create sample\n",
    "            sample = {'image': image, 'gt': annotation}\n",
    "            \n",
    "            # Save original sample\n",
    "            save_sample(sample, frame, '0',\n",
    "                        annotations_aug_folder_path, images_aug_folder_path)\n",
    "            \n",
    "            # Apply augmentations and save them\n",
    "            for i in range(augmentation_count):\n",
    "                sample = composed_transforms(sample)\n",
    "                save_sample(sample, frame, str(i+1),\n",
    "                            annotations_aug_folder_path, images_aug_folder_path)\n",
    "            \n",
    "            # Show sample\n",
    "            #rescaled = (255.0 / sample['image'].max() * (sample['image'] - sample['image'].min())).astype(np.uint8)\n",
    "            #plt.imshow(rescaled)\n",
    "            #plt.show()\n",
    "            #plt.imshow(sample['gt'])\n",
    "            #plt.show()"
   ]
  },
  {
   "cell_type": "code",
   "execution_count": 5,
   "metadata": {},
   "outputs": [
    {
     "name": "stdout",
     "output_type": "stream",
     "text": [
      "#0: bear\n",
      "\t#0: 00000.jpg\n",
      "\t#1: 00001.jpg\n",
      "\t#2: 00002.jpg\n",
      "#1: blackswan\n",
      "\t#0: 00000.jpg\n",
      "\t#1: 00001.jpg\n",
      "\t#2: 00002.jpg\n",
      "#2: bmx-bumps\n",
      "\t#0: 00000.jpg\n",
      "\t#1: 00001.jpg\n",
      "\t#2: 00002.jpg\n"
     ]
    }
   ],
   "source": [
    "augment_data(ANNOTATIONS_FOLDERS_PATH, IMAGES_FOLDERS_PATH,\n",
    "             ANNOTATIONS_AUGMENTED_FOLDERS_PATH, IMAGES_AUGMENTED_FOLDERS_PATH,\n",
    "             MEANVAL, AUGMENTATION_COUNT)"
   ]
  },
  {
   "cell_type": "code",
   "execution_count": null,
   "metadata": {},
   "outputs": [],
   "source": []
  },
  {
   "cell_type": "code",
   "execution_count": null,
   "metadata": {},
   "outputs": [],
   "source": []
  }
 ],
 "metadata": {
  "kernelspec": {
   "display_name": "Python 3",
   "language": "python",
   "name": "python3"
  },
  "language_info": {
   "codemirror_mode": {
    "name": "ipython",
    "version": 3
   },
   "file_extension": ".py",
   "mimetype": "text/x-python",
   "name": "python",
   "nbconvert_exporter": "python",
   "pygments_lexer": "ipython3",
   "version": "3.7.0"
  }
 },
 "nbformat": 4,
 "nbformat_minor": 2
}
