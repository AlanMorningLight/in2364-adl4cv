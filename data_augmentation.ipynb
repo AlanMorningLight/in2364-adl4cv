{
 "cells": [
  {
   "cell_type": "markdown",
   "metadata": {},
   "source": [
    "# Data Augmentation like OSVOS\n",
    "\n",
    "## Imports"
   ]
  },
  {
   "cell_type": "code",
   "execution_count": 1,
   "metadata": {},
   "outputs": [],
   "source": [
    "import os\n",
    "import random\n",
    "\n",
    "import cv2\n",
    "import imageio\n",
    "import matplotlib.pyplot as plt\n",
    "import numpy as np\n",
    "import scipy.misc\n",
    "\n",
    "import src.config as cfg"
   ]
  },
  {
   "cell_type": "markdown",
   "metadata": {},
   "source": [
    "## Paths & Constants"
   ]
  },
  {
   "cell_type": "code",
   "execution_count": 2,
   "metadata": {},
   "outputs": [],
   "source": [
    "! rm -rf DAVIS_2016/DAVIS/Annotations_augmented\n",
    "! rm -rf DAVIS_2016/DAVIS/JPEGImages_augmented"
   ]
  },
  {
   "cell_type": "markdown",
   "metadata": {},
   "source": [
    "## Augmentations"
   ]
  },
  {
   "cell_type": "code",
   "execution_count": 3,
   "metadata": {},
   "outputs": [],
   "source": [
    "class RandomHorizontalFlip(object):\n",
    "    \"\"\"Horizontally flip the given image and ground truth randomly with a probability of 0.5.\"\"\"\n",
    "\n",
    "    def __call__(self, sample, random):\n",
    "\n",
    "        if random < 0.5:\n",
    "            for elem in sample.keys():\n",
    "                if 'fname' in elem:\n",
    "                    continue\n",
    "                tmp = sample[elem]\n",
    "                tmp = cv2.flip(tmp, flipCode=1)\n",
    "                sample[elem] = tmp\n",
    "\n",
    "        return sample"
   ]
  },
  {
   "cell_type": "code",
   "execution_count": 4,
   "metadata": {},
   "outputs": [],
   "source": [
    "class ScaleNRotate(object):\n",
    "    \"\"\"Scale (zoom-in, zoom-out) and Rotate the image and the ground truth.\"\"\"\n",
    "    \n",
    "    def __call__(self, sample, rot, sc):\n",
    "\n",
    "        for elem in sample.keys():\n",
    "            if 'fname' in elem:\n",
    "                continue\n",
    "\n",
    "            tmp = sample[elem]\n",
    "\n",
    "            h, w = tmp.shape[:2]\n",
    "            center = (w / 2, h / 2)\n",
    "            assert(center != 0)  # Strange behaviour warpAffine\n",
    "            M = cv2.getRotationMatrix2D(center, rot, sc)\n",
    "\n",
    "            if ((tmp == 0) | (tmp == 1)).all():\n",
    "                flagval = cv2.INTER_NEAREST\n",
    "            else:\n",
    "                flagval = cv2.INTER_CUBIC\n",
    "            tmp = cv2.warpAffine(tmp, M, (w, h), flags=flagval)\n",
    "\n",
    "            sample[elem] = tmp\n",
    "\n",
    "        return sample"
   ]
  },
  {
   "cell_type": "markdown",
   "metadata": {},
   "source": [
    "## Functions"
   ]
  },
  {
   "cell_type": "code",
   "execution_count": 5,
   "metadata": {},
   "outputs": [],
   "source": [
    "def save_sample(sample, frame, augmentation_count,\n",
    "                annotations_augmented_folders_path, images_augmented_folders_path):\n",
    "    \n",
    "    # Save image\n",
    "    file_name_img = '{}.jpg'.format(frame[:5])\n",
    "    image = sample['image'].astype(np.uint8)\n",
    "    #image = (255.0 / image.max() * (image - image.min())).astype(np.uint8)\n",
    "    image_save_path = os.path.join(images_augmented_folders_path, \n",
    "                                   augmentation_count)\n",
    "    if not os.path.exists(image_save_path):\n",
    "        os.makedirs(image_save_path)\n",
    "    imageio.imwrite(os.path.join(image_save_path, file_name_img), image)\n",
    "    \n",
    "    # Save annotation\n",
    "    file_name_annot = '{}.png'.format(frame[:5])\n",
    "    annotation = sample ['gt'].astype(np.uint8)\n",
    "    annotation_save_path = os.path.join(annotations_augmented_folders_path, \n",
    "                                        augmentation_count)\n",
    "    if not os.path.exists(annotation_save_path):\n",
    "        os.makedirs(annotation_save_path)\n",
    "    imageio.imwrite(os.path.join(annotation_save_path, file_name_annot), annotation)\n"
   ]
  },
  {
   "cell_type": "code",
   "execution_count": 6,
   "metadata": {},
   "outputs": [],
   "source": [
    "def augment_data(annotations_folders_path, images_folders_path,\n",
    "                 annotations_augmented_folders_path, images_augmented_folders_path,\n",
    "                 meanval, augmentation_count):\n",
    "\n",
    "    # Augmentations\n",
    "    randoms = []\n",
    "    random_rots = []\n",
    "    random_scales = []\n",
    "    rots=(-30, 30)\n",
    "    scales=(.75, 1.25)\n",
    "    \n",
    "    for i in range(augmentation_count):\n",
    "        randoms.append(random.random())\n",
    "        \n",
    "        rot = (rots[1] - rots[0]) * random.random() - \\\n",
    "              (rots[1] - rots[0])/2\n",
    "        random_rots.append(rot)\n",
    "        \n",
    "        sc = (scales[1] - scales[0]) * random.random() - \\\n",
    "             (scales[1] - scales[0]) / 2 + 1\n",
    "        random_scales.append(sc)\n",
    "        \n",
    "    random_horizontal_flip = RandomHorizontalFlip()\n",
    "    scale_and_rotate = ScaleNRotate()\n",
    "    \n",
    "    # Get list of sequences\n",
    "    sequences = os.listdir(images_folders_path)\n",
    "    sequences.sort()\n",
    "    \n",
    "    # Iterate through sequences\n",
    "    for i, sequence in enumerate(sequences):\n",
    "\n",
    "        # Debug\n",
    "        if (i > cfg.DEBUG): break\n",
    "\n",
    "        print('#{}: {}'.format(i, sequence))\n",
    "        \n",
    "        # Create folders to save augmented annotations and images\n",
    "        annotations_aug_folder_path = os.path.join(annotations_augmented_folders_path, sequence)\n",
    "        if not os.path.exists(annotations_aug_folder_path):\n",
    "            os.makedirs(annotations_aug_folder_path)\n",
    "            \n",
    "        images_aug_folder_path = os.path.join(images_augmented_folders_path, sequence)\n",
    "        if not os.path.exists(images_aug_folder_path):\n",
    "            os.makedirs(images_aug_folder_path)\n",
    "\n",
    "        # Get list of frames\n",
    "        frames = os.listdir(os.path.join(images_folders_path, sequence))\n",
    "        if '.ipynb_checkpoints' in frames:\n",
    "            frames.remove('.ipynb_checkpoints')\n",
    "        frames.sort()\n",
    "        \n",
    "        # Iterate through frames\n",
    "        for j, frame in enumerate(frames):\n",
    "\n",
    "            # Debug\n",
    "            if (j > cfg.DEBUG): break\n",
    "            print('\\t#{}: {}'.format(j, frame))\n",
    "            \n",
    "            if (sequence == 'bmx-bumps' and frame == '00059.jpg'): break\n",
    "            if (sequence == 'surf' and frame == '00053.jpg'): break\n",
    "                \n",
    "            # Load annotation and image\n",
    "            annotation_path = os.path.join(annotations_folders_path, sequence, frame[:5] + '.png')\n",
    "            image_path = os.path.join(images_folders_path, sequence, frame)\n",
    "            \n",
    "            annotation = cv2.imread(annotation_path)\n",
    "            annotation = np.array(annotation, dtype=np.float32)\n",
    "            annotation = annotation/np.max([annotation.max(), 1e-8])\n",
    "            \n",
    "            image = imageio.imread(image_path)\n",
    "            image = np.array(image, dtype=np.float32)\n",
    "            image = np.subtract(image, np.array(meanval, dtype=np.float32))\n",
    "                     \n",
    "            # Create sample\n",
    "            sample = {'image': image, 'gt': annotation}\n",
    "            \n",
    "            # Save original sample\n",
    "            save_sample(sample, frame, '0',\n",
    "                        annotations_aug_folder_path, images_aug_folder_path)\n",
    "            \n",
    "            # If val sequence, don't augment\n",
    "            if sequence not in cfg.TRAIN_SEQUENCES: continue\n",
    "            \n",
    "            # Apply augmentations and save them\n",
    "            for k in range(augmentation_count):\n",
    "                sample = random_horizontal_flip(sample, randoms[k])\n",
    "                sample = scale_and_rotate(sample, random_rots[k], random_scales[k])\n",
    "                \n",
    "                # If annotation is completely black, don't save it\n",
    "                if (np.sum(sample['gt']) == 0.): \n",
    "                    print('\\t\\tAugmentation #{}: Annotation black'.format(k))\n",
    "                    continue\n",
    "                \n",
    "                save_sample(sample, frame, str(k+1),\n",
    "                            annotations_aug_folder_path, images_aug_folder_path)"
   ]
  },
  {
   "cell_type": "code",
   "execution_count": 7,
   "metadata": {},
   "outputs": [
    {
     "name": "stdout",
     "output_type": "stream",
     "text": [
      "#0: bear\n",
      "\t#0: 00000.jpg\n"
     ]
    }
   ],
   "source": [
    "augment_data(cfg.ANNOTATIONS_FOLDERS_PATH, cfg.IMAGES_FOLDERS_PATH,\n",
    "             cfg.ANNOTATIONS_AUGMENTED_FOLDERS_PATH, cfg.IMAGES_AUGMENTED_FOLDERS_PATH,\n",
    "             cfg.MEANVAL, cfg.AUGMENTATION_COUNT)"
   ]
  },
  {
   "cell_type": "code",
   "execution_count": null,
   "metadata": {},
   "outputs": [],
   "source": []
  },
  {
   "cell_type": "code",
   "execution_count": null,
   "metadata": {},
   "outputs": [],
   "source": []
  }
 ],
 "metadata": {
  "kernelspec": {
   "display_name": "Python 3",
   "language": "python",
   "name": "python3"
  },
  "language_info": {
   "codemirror_mode": {
    "name": "ipython",
    "version": 3
   },
   "file_extension": ".py",
   "mimetype": "text/x-python",
   "name": "python",
   "nbconvert_exporter": "python",
   "pygments_lexer": "ipython3",
   "version": "3.7.0"
  }
 },
 "nbformat": 4,
 "nbformat_minor": 2
}
