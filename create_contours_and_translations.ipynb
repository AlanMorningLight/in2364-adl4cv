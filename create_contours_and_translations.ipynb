{
 "cells": [
  {
   "cell_type": "markdown",
   "metadata": {},
   "source": [
    "# Create Contours and Translations using Optical Flow"
   ]
  },
  {
   "cell_type": "markdown",
   "metadata": {},
   "source": [
    "In this notebook, contour points and translation for each contour point are computed using Optical Flow based on this tutorial: https://opencv-python-tutroals.readthedocs.io/en/latest/py_tutorials/py_video/py_lucas_kanade/py_lucas_kanade.html."
   ]
  },
  {
   "cell_type": "markdown",
   "metadata": {},
   "source": [
    "## Imports"
   ]
  },
  {
   "cell_type": "code",
   "execution_count": 21,
   "metadata": {},
   "outputs": [],
   "source": [
    "import os\n",
    "import  re\n",
    "\n",
    "import cv2\n",
    "import matplotlib.pyplot as plt\n",
    "import numpy as np\n",
    "\n",
    "%matplotlib inline"
   ]
  },
  {
   "cell_type": "markdown",
   "metadata": {},
   "source": [
    "## Paths & Constants"
   ]
  },
  {
   "cell_type": "code",
   "execution_count": 22,
   "metadata": {},
   "outputs": [],
   "source": [
    "ANNOTATIONS_FOLDERS_PATH = \"DAVIS_2016/DAVIS/Annotations/480p/\"\n",
    "CONTOURS_FOLDERS_PATH = \"DAVIS_2016/DAVIS/Contours/480p/\"\n",
    "TRANSLATIONS_FOLDERS_PATH = 'DAVIS_2016/DAVIS/Translations/480p'\n",
    "CLOSING_KERNEL_SIZE = 25"
   ]
  },
  {
   "cell_type": "code",
   "execution_count": 23,
   "metadata": {},
   "outputs": [],
   "source": [
    "# Parameters for lucas kanade optical flow\n",
    "lk_params = dict( winSize  = (15,15),\n",
    "                  maxLevel = 2,\n",
    "                  criteria = (cv2.TERM_CRITERIA_EPS | cv2.TERM_CRITERIA_COUNT, 10, 0.03))"
   ]
  },
  {
   "cell_type": "markdown",
   "metadata": {},
   "source": [
    "## Functions"
   ]
  },
  {
   "cell_type": "code",
   "execution_count": 24,
   "metadata": {},
   "outputs": [],
   "source": [
    "def load_gray_img(img_path):\n",
    "    img = cv2.imread(img_path)\n",
    "    img_gray = cv2.cvtColor(img, cv2.COLOR_BGR2GRAY)\n",
    "    return img_gray"
   ]
  },
  {
   "cell_type": "code",
   "execution_count": 25,
   "metadata": {},
   "outputs": [],
   "source": [
    "def close_image(image, closing_kernel_size):\n",
    "    '''Returns the image that is closed with a elliptical kernel.'''\n",
    "    \n",
    "    kernel = cv2.getStructuringElement(cv2.MORPH_ELLIPSE,(closing_kernel_size, closing_kernel_size))\n",
    "    closing = cv2.morphologyEx(image, cv2.MORPH_CLOSE, kernel)\n",
    "    \n",
    "    return closing"
   ]
  },
  {
   "cell_type": "code",
   "execution_count": 26,
   "metadata": {},
   "outputs": [],
   "source": [
    "def extract_longest_contour(image, closing_kernel_size):\n",
    "    '''Returns the contour with the most points from a given image.'''\n",
    "    \n",
    "    # Close image\n",
    "    image_closed = close_image(image, closing_kernel_size)\n",
    "    \n",
    "    # Apply threshold to turn it into binary image\n",
    "    ret, thresh = cv2.threshold(image_closed, 127, 255, 0)\n",
    "\n",
    "    # Find contour\n",
    "    # Change method for different number of points:\n",
    "    # CHAIN_APPROX_NONE, CHAIN_APPROX_SIMPLE, CHAIN_APPROX_TC89_L1, CHAIN_APPROX_TC89_KCOS\n",
    "    contours, _ = cv2.findContours(image=thresh,\n",
    "                                   mode=cv2.RETR_TREE,\n",
    "                                   method=cv2.CHAIN_APPROX_TC89_KCOS)\n",
    "    \n",
    "    # Get longest contour from contours\n",
    "    longest_contour = max(contours, key=len).astype(np.float32)\n",
    "    \n",
    "    return longest_contour"
   ]
  },
  {
   "cell_type": "code",
   "execution_count": 27,
   "metadata": {},
   "outputs": [],
   "source": [
    "def get_translations(contour_0, contour_1):\n",
    "    '''Returns the translations for each point in contour_0 to contour_1.'''\n",
    "    \n",
    "    contour_0 = np.squeeze(contour_0)\n",
    "    contour_1 = np.squeeze(contour_1)\n",
    "    \n",
    "    translations = np.empty([0, 2], int)\n",
    "    \n",
    "    for contour_point_0, contour_point_1 in zip(contour_0, contour_1):\n",
    "        translation = np.subtract(contour_point_1, contour_point_0)\n",
    "        translations = np.append(translations, translation.reshape([1,2]), axis=0)\n",
    "    \n",
    "    return translations"
   ]
  },
  {
   "cell_type": "code",
   "execution_count": 28,
   "metadata": {},
   "outputs": [],
   "source": [
    "def save_annotation_with_contour_and_translation(annotation, contour, translation, path):\n",
    "    '''Saves annotation plotted with contour and translation to a given path.'''\n",
    "    \n",
    "    plt.figure(figsize=(15,10))\n",
    "    \n",
    "    # Plot contour\n",
    "    contour = np.squeeze(contour)\n",
    "    plt.scatter(contour[:, 0], contour[:, 1])\n",
    "    \n",
    "    # Plot annotation\n",
    "    plt.imshow(annotation)\n",
    "    \n",
    "    # Plot translation\n",
    "    for c, t in zip(contour, translation):\n",
    "        plt.arrow(c[0], c[1],\n",
    "                  t[0], t[1],\n",
    "                  width=1, color='r')  \n",
    "    \n",
    "    # Save image\n",
    "    plt.savefig(path, bbox_inches=0)    \n",
    "    plt.close()"
   ]
  },
  {
   "cell_type": "code",
   "execution_count": 29,
   "metadata": {},
   "outputs": [],
   "source": [
    "def create_contours_and_translations(annotations_folders_path,\n",
    "                                     contours_folders_path,\n",
    "                                     translations_folders_path,\n",
    "                                     closing_kernel_size):\n",
    "\n",
    "    # Get list of sequences\n",
    "    sequences = os.listdir(annotations_folders_path)\n",
    "    sequences.sort()\n",
    "    \n",
    "    # Iterate through sequences\n",
    "    for i, sequence in enumerate(sequences):\n",
    "        \n",
    "        # Debug\n",
    "        #if (i > 0): break\n",
    "            \n",
    "        print('#{}: {}'.format(i, sequence))\n",
    "        \n",
    "        # Create folder to save Contours\n",
    "        contours_folder_path = os.path.join(contours_folders_path, sequence)\n",
    "        if not os.path.exists(contours_folder_path):\n",
    "            os.makedirs(contours_folder_path)        \n",
    "        \n",
    "        # Create folder to save Translations\n",
    "        translations_folder_path = os.path.join(translations_folders_path, sequence)\n",
    "        if not os.path.exists(translations_folder_path):\n",
    "            os.makedirs(translations_folder_path)\n",
    "        \n",
    "        # Get list of frames\n",
    "        frames = os.listdir(os.path.join(annotations_folders_path, sequence))\n",
    "        if '.ipynb_checkpoints' in frames:\n",
    "            frames.remove('.ipynb_checkpoints')\n",
    "        frames.sort()\n",
    "        \n",
    "        # Iterate through frames\n",
    "        for j, frame in enumerate(frames):\n",
    "            \n",
    "            # Debug\n",
    "            #if (j > 0): break\n",
    "            #print('\\t#{}: {}'.format(j, frame))\n",
    "                        \n",
    "            # Get path to frames\n",
    "            frame_0_path = os.path.join(annotations_folders_path, sequence, frame)\n",
    "            try:\n",
    "                frame_1_path = os.path.join(annotations_folders_path, sequence, frames[j+1])\n",
    "            # Break if frame_0 is last frame\n",
    "            except IndexError as e:\n",
    "                break\n",
    "            \n",
    "            # Load frames as gray img\n",
    "            frame_0_gray = load_gray_img(frame_0_path)\n",
    "            frame_1_gray = load_gray_img(frame_1_path)\n",
    "            \n",
    "            # Extract longest contour and save it\n",
    "            contour_0 = extract_longest_contour(frame_0_gray, closing_kernel_size)\n",
    "            np.save(os.path.join(contours_folder_path, frame[:5]), contour_0)\n",
    "            \n",
    "            # calculate optical flow to get contour_1\n",
    "            contour_1, st, err = cv2.calcOpticalFlowPyrLK(frame_0_gray, frame_1_gray, \n",
    "                                                          contour_0, None, **lk_params)\n",
    "            \n",
    "            # Get translation and save it\n",
    "            translation_0_1 = get_translations(contour_0, contour_1)\n",
    "            np.save(os.path.join(translations_folder_path, frame[:5]), translation_0_1)\n",
    "            \n",
    "            # Save annotation with contour and translation\n",
    "            #annotation = cv2.imread(os.path.join(annotations_folders_path, sequence, frame))\n",
    "            #save_annotation_with_contour_and_translation(annotation, contour_0, translation_0_1, \n",
    "            #    os.path.join(translations_folder_path, frame[:5] + '.png'))            "
   ]
  },
  {
   "cell_type": "code",
   "execution_count": 30,
   "metadata": {},
   "outputs": [
    {
     "name": "stdout",
     "output_type": "stream",
     "text": [
      "#0: bear\n",
      "#1: blackswan\n",
      "#2: bmx-bumps\n",
      "#3: bmx-trees\n",
      "#4: boat\n",
      "#5: breakdance\n",
      "#6: breakdance-flare\n",
      "#7: bus\n",
      "#8: camel\n",
      "#9: car-roundabout\n",
      "#10: car-shadow\n",
      "#11: car-turn\n",
      "#12: cows\n",
      "#13: dance-jump\n",
      "#14: dance-twirl\n",
      "#15: dog\n",
      "#16: dog-agility\n",
      "#17: drift-chicane\n",
      "#18: drift-straight\n",
      "#19: drift-turn\n",
      "#20: elephant\n",
      "#21: flamingo\n",
      "#22: goat\n",
      "#23: hike\n",
      "#24: hockey\n",
      "#25: horsejump-high\n",
      "#26: horsejump-low\n",
      "#27: kite-surf\n",
      "#28: kite-walk\n",
      "#29: libby\n",
      "#30: lucia\n",
      "#31: mallard-fly\n",
      "#32: mallard-water\n",
      "#33: motocross-bumps\n",
      "#34: motocross-jump\n",
      "#35: motorbike\n",
      "#36: paragliding\n",
      "#37: paragliding-launch\n",
      "#38: parkour\n",
      "#39: rhino\n",
      "#40: rollerblade\n",
      "#41: scooter-black\n",
      "#42: scooter-gray\n",
      "#43: soapbox\n",
      "#44: soccerball\n",
      "#45: stroller\n",
      "#46: surf\n",
      "#47: swing\n",
      "#48: tennis\n",
      "#49: train\n"
     ]
    }
   ],
   "source": [
    "create_contours_and_translations(ANNOTATIONS_FOLDERS_PATH,\n",
    "                                 CONTOURS_FOLDERS_PATH,\n",
    "                                 TRANSLATIONS_FOLDERS_PATH,\n",
    "                                 CLOSING_KERNEL_SIZE)"
   ]
  }
 ],
 "metadata": {
  "kernelspec": {
   "display_name": "Python 3",
   "language": "python",
   "name": "python3"
  },
  "language_info": {
   "codemirror_mode": {
    "name": "ipython",
    "version": 3
   },
   "file_extension": ".py",
   "mimetype": "text/x-python",
   "name": "python",
   "nbconvert_exporter": "python",
   "pygments_lexer": "ipython3",
   "version": "3.7.0"
  }
 },
 "nbformat": 4,
 "nbformat_minor": 2
}
