{
 "cells": [
  {
   "cell_type": "markdown",
   "metadata": {},
   "source": [
    "# GNN Training"
   ]
  },
  {
   "cell_type": "markdown",
   "metadata": {},
   "source": [
    "## Imports"
   ]
  },
  {
   "cell_type": "code",
   "execution_count": null,
   "metadata": {},
   "outputs": [],
   "source": [
    "import os\n",
    "\n",
    "import cv2\n",
    "import imageio\n",
    "import matplotlib.pyplot as plt\n",
    "import numpy as np\n",
    "import torch\n",
    "import torch.optim as optim\n",
    "from torch.utils.data.sampler import SequentialSampler\n",
    "from torch_geometric.data import DataLoader\n",
    "\n",
    "from pg_networks.dynamic_edge import DynamicEdge\n",
    "from pg_networks.gcn import GCN\n",
    "from pg_networks.sg import SG\n",
    "import src.config as cfg\n",
    "from src.davis_2016 import DAVIS2016\n",
    "from src.solver import Solver\n",
    "from src.vis_utils import plot_img_with_contour_and_translation, plot_translations, save_loss, \\\n",
    "                          plot_combo_img\n",
    "\n",
    "# for auto-reloading extenrnal modules\n",
    "# see http://stackoverflow.com/questions/1907993/autoreload-of-modules-in-ipython\n",
    "%load_ext autoreload\n",
    "%autoreload 2\n",
    "\n",
    "%matplotlib inline\n",
    "\n",
    "device = torch.device('cuda' if torch.cuda.is_available() else 'cpu')"
   ]
  },
  {
   "cell_type": "markdown",
   "metadata": {},
   "source": [
    "## Train and Val Dataset"
   ]
  },
  {
   "cell_type": "code",
   "execution_count": null,
   "metadata": {},
   "outputs": [],
   "source": [
    "train = DAVIS2016(cfg.PYTORCH_GEOMETRIC_DAVIS_2016_DATASET_PATH,\n",
    "                  cfg.ANNOTATIONS_AUGMENTED_FOLDERS_PATH, cfg.CONTOURS_FOLDERS_PATH, \n",
    "                  cfg.IMAGES_AUGMENTED_FOLDERS_PATH, cfg.TRANSLATIONS_FOLDERS_PATH,\n",
    "                  cfg.PARENT_MODEL_PATH,\n",
    "                  cfg.LAYER, cfg.K, cfg.AUGMENTATION_COUNT,\n",
    "                  cfg.SKIP_SEQUENCES, cfg.TRAIN_SEQUENCES[:cfg.NUM_TRAIN_SEQUENCES], cfg.VAL_SEQUENCES[:cfg.NUM_VAL_SEQUENCES],\n",
    "                  train=True)"
   ]
  },
  {
   "cell_type": "code",
   "execution_count": null,
   "metadata": {},
   "outputs": [],
   "source": [
    "val = DAVIS2016(cfg.PYTORCH_GEOMETRIC_DAVIS_2016_DATASET_PATH,\n",
    "                cfg.ANNOTATIONS_AUGMENTED_FOLDERS_PATH, cfg.CONTOURS_FOLDERS_PATH, \n",
    "                cfg.IMAGES_AUGMENTED_FOLDERS_PATH, cfg.TRANSLATIONS_FOLDERS_PATH,\n",
    "                cfg.PARENT_MODEL_PATH,\n",
    "                cfg.LAYER, cfg.K, 0,\n",
    "                cfg.SKIP_SEQUENCES, cfg.TRAIN_SEQUENCES[:cfg.NUM_TRAIN_SEQUENCES], cfg.VAL_SEQUENCES[:cfg.NUM_VAL_SEQUENCES],\n",
    "                train=False)"
   ]
  },
  {
   "cell_type": "code",
   "execution_count": null,
   "metadata": {},
   "outputs": [],
   "source": [
    "print(\"Train size: %i\" % len(train))\n",
    "print(\"Val size: %i\" % len(val))"
   ]
  },
  {
   "cell_type": "markdown",
   "metadata": {},
   "source": [
    "## Visualize some samples"
   ]
  },
  {
   "cell_type": "code",
   "execution_count": null,
   "metadata": {},
   "outputs": [],
   "source": [
    "num_to_display = 5\n",
    "\n",
    "for i in range(num_to_display):\n",
    "    \n",
    "    fig = plt.figure(figsize=(num_to_display*10,10))\n",
    "    \n",
    "    # randomly select a sample\n",
    "    rand_i = np.random.randint(0, len(train))\n",
    "    data = train[rand_i]\n",
    "    \n",
    "    # Load corresponding image\n",
    "    processed_file_name = train.processed_file_names[rand_i]\n",
    "    folder = processed_file_name[:-11]\n",
    "    augmentation_count = processed_file_name[-10:-9]\n",
    "    file_name = processed_file_name[-8:-3]\n",
    "    \n",
    "    image_path = os.path.join(val.raw_paths[0], folder, augmentation_count,\n",
    "                                ('{}{}'.format(file_name, '.png')))\n",
    "    if not os.path.exists(image_path):\n",
    "        continue\n",
    "    \n",
    "    image = imageio.imread(image_path)\n",
    "    \n",
    "    ax = plt.subplot(1, num_to_display, i + 1)\n",
    "    ax.set_title('Sample #{}'.format(rand_i))\n",
    "    \n",
    "    plot_img_with_contour_and_translation(image, data.contour, data.y)"
   ]
  },
  {
   "cell_type": "markdown",
   "metadata": {},
   "source": [
    "## Simple GCN"
   ]
  },
  {
   "cell_type": "code",
   "execution_count": null,
   "metadata": {},
   "outputs": [],
   "source": [
    "data = train[0]\n",
    "\n",
    "model = GCN(in_channels=data.num_features, \n",
    "            out_channels=data.y.shape[1])\n",
    "\n",
    "print(model)"
   ]
  },
  {
   "cell_type": "markdown",
   "metadata": {},
   "source": [
    "## Overfit"
   ]
  },
  {
   "cell_type": "code",
   "execution_count": null,
   "metadata": {
    "scrolled": false
   },
   "outputs": [],
   "source": [
    "num_train = 80\n",
    "num_val = 20\n",
    "\n",
    "overfit_train_loader = DataLoader(train, batch_size=16, \n",
    "                                  shuffle=False, sampler=SequentialSampler(range(num_train)))\n",
    "overfit_val_loader = DataLoader(train, batch_size=1, \n",
    "                                shuffle=False, sampler=SequentialSampler(range(num_val)))\n",
    "\n",
    "# Load model and run the solver\n",
    "overfit_model = GCN(in_channels=data.num_features, \n",
    "                    out_channels=data.y.shape[1])\n",
    "\n",
    "overfit_solver = Solver(optim_args={\"lr\": cfg.LEARNING_RATE})\n",
    "overfit_solver.train(overfit_model, overfit_train_loader, overfit_val_loader,\n",
    "                     num_epochs=5, log_nth=100, verbose=True)"
   ]
  },
  {
   "cell_type": "code",
   "execution_count": null,
   "metadata": {},
   "outputs": [],
   "source": [
    "save_loss(overfit_solver)"
   ]
  },
  {
   "cell_type": "markdown",
   "metadata": {},
   "source": [
    "## Train"
   ]
  },
  {
   "cell_type": "code",
   "execution_count": null,
   "metadata": {},
   "outputs": [],
   "source": [
    "train_loader = DataLoader(train, batch_size=cfg.BATCH_SIZE, shuffle=True)\n",
    "val_loader = DataLoader(val, batch_size=cfg.BATCH_SIZE, shuffle=False)\n",
    "\n",
    "# Load model and run the solver\n",
    "model = GCN(in_channels=train[0].num_features, \n",
    "            out_channels=train[0].y.shape[1])\n",
    "\n",
    "solver = Solver(optim_args={\"lr\": cfg.LEARNING_RATE,\n",
    "                            \"weight_decay\": cfg.WEIGHT_DECAY})\n",
    "\n",
    "solver.train(model, train_loader, val_loader,\n",
    "             num_epochs=cfg.NUM_EPOCHS, log_nth=1000, verbose=True)"
   ]
  },
  {
   "cell_type": "code",
   "execution_count": null,
   "metadata": {},
   "outputs": [],
   "source": [
    "save_loss(solver)"
   ]
  },
  {
   "cell_type": "markdown",
   "metadata": {},
   "source": [
    "## Visualize outputs (ground truth in green, prediction in red)"
   ]
  },
  {
   "cell_type": "code",
   "execution_count": null,
   "metadata": {},
   "outputs": [],
   "source": [
    "model.cpu()\n",
    "model.double()\n",
    "model.eval()\n",
    "num_to_display = 10\n",
    "\n",
    "for i in range(num_to_display):\n",
    "\n",
    "    fig = plt.figure(figsize=(num_to_display*10,10))\n",
    "    \n",
    "    # randomly select a sample\n",
    "    rand_i = np.random.randint(0, len(val))\n",
    "    data = val[rand_i]\n",
    "    \n",
    "    # Load corresponding image\n",
    "    processed_file_name = val.processed_file_names[rand_i]\n",
    "    folder = processed_file_name[:-11]\n",
    "    augmentation_count = processed_file_name[-10:-9]\n",
    "    file_name = processed_file_name[-8:-3]\n",
    "    \n",
    "    image_path = os.path.join(val.raw_paths[0], folder, augmentation_count,\n",
    "                                ('{}{}'.format(file_name, '.png')))\n",
    "    \n",
    "    image = imageio.imread(image_path)\n",
    "    \n",
    "    with torch.no_grad():\n",
    "        translation_pred = model(data)\n",
    "    \n",
    "    ax = plt.subplot(1, num_to_display, i + 1)\n",
    "    ax.set_title('Sample #{}'.format(rand_i))\n",
    "    \n",
    "    plot_translations(image, data.contour, data.y, translation_pred) "
   ]
  },
  {
   "cell_type": "markdown",
   "metadata": {},
   "source": [
    "## Hyperparameter Tuning"
   ]
  },
  {
   "cell_type": "code",
   "execution_count": null,
   "metadata": {},
   "outputs": [],
   "source": [
    "train_loader = DataLoader(train, batch_size=cfg.BATCH_SIZE, shuffle=True)\n",
    "val_loader = DataLoader(val, batch_size=1, shuffle=False)\n",
    "\n",
    "learning_rates = [1e-1, 1e-2, 1e-3]\n",
    "weight_decays = [1e1, 0, 1e-0]\n",
    "\n",
    "best_model = None\n",
    "best_loss = 1e10\n",
    "\n",
    "i = 0\n",
    "for learning_rate in learning_rates:\n",
    "    for weight_decay in weight_decays:\n",
    "        model = GCN(in_channels=train[0].num_features, \n",
    "                    out_channels=train[0].y.shape[1])\n",
    "        solver = Solver(optim_args={\"lr\": learning_rate,\n",
    "                                    \"weight_decay\": weight_decay})\n",
    "        solver.train(model, train_loader, val_loader,\n",
    "                     num_epochs=10, log_nth=100, verbose=False)\n",
    "\n",
    "        # Predict on the validation set\n",
    "        val_loss = max(solver.val_loss_history)\n",
    "        print('Hyperparamter Tuning #', i + 1,\n",
    "                'lr: ', learning_rate,\n",
    "                'wd: ', weight_decay,\n",
    "                'val_loss: ', val_loss)\n",
    "\n",
    "        if val_loss < best_loss:\n",
    "            best_loss = val_loss\n",
    "            best_model = model\n",
    "\n",
    "        i += 1"
   ]
  },
  {
   "cell_type": "code",
   "execution_count": null,
   "metadata": {},
   "outputs": [],
   "source": []
  }
 ],
 "metadata": {
  "kernelspec": {
   "display_name": "Python 3",
   "language": "python",
   "name": "python3"
  },
  "language_info": {
   "codemirror_mode": {
    "name": "ipython",
    "version": 3
   },
   "file_extension": ".py",
   "mimetype": "text/x-python",
   "name": "python",
   "nbconvert_exporter": "python",
   "pygments_lexer": "ipython3",
   "version": "3.7.3"
  }
 },
 "nbformat": 4,
 "nbformat_minor": 2
}
