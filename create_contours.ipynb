{
 "cells": [
  {
   "cell_type": "markdown",
   "metadata": {
    "colab_type": "text",
    "id": "BxPJhkkEdsyD"
   },
   "source": [
    "# Create Contours for DAVIS 2016 Annotations\n",
    "\n",
    "In this notebook the contour points of DAVIS 2016 annotations are saved as numpy arrays."
   ]
  },
  {
   "cell_type": "markdown",
   "metadata": {},
   "source": [
    "## Example\n",
    "\n",
    "For a ground truth annotation from the DAVIS 2016 dataset, the contour with the most points is extracted. Then, the number of contour points is shortened to a fixed number and the contour is saved as a numpy array. \n",
    "\n",
    "\n",
    "<img src=\"Images/bear_annotation.jpeg\" alt=\"bear_annotation\" width=\"512\"/>\n",
    "\n",
    "<img src=\"Images/bear_annotation_long_contour.jpeg\" alt=\"bear_annotation_long_contour\" width=\"512\"/>\n",
    "\n",
    "<img src=\"Images/bear_annotation_short_contour.jpeg\" alt=\"bear_annotation_short_contour\" width=\"512\"/>"
   ]
  },
  {
   "cell_type": "markdown",
   "metadata": {},
   "source": [
    "## Imports"
   ]
  },
  {
   "cell_type": "code",
   "execution_count": 1,
   "metadata": {
    "colab": {},
    "colab_type": "code",
    "id": "QRK35WL3Z6rk"
   },
   "outputs": [],
   "source": [
    "import cv2\n",
    "import matplotlib.pyplot as plt\n",
    "import matplotlib.image as mpimg\n",
    "import numpy as np\n",
    "import os\n",
    "import pandas as pd\n",
    "import re\n",
    "from scipy import spatial\n",
    "from skimage import measure\n",
    "\n",
    "%matplotlib inline"
   ]
  },
  {
   "cell_type": "markdown",
   "metadata": {},
   "source": [
    "## Paths & Constants"
   ]
  },
  {
   "cell_type": "code",
   "execution_count": 2,
   "metadata": {},
   "outputs": [],
   "source": [
    "ANNOTATIONS_480P_FOLDERS_PATH = \"DAVIS_2016/DAVIS/Annotations/480p/\"\n",
    "CONTOURS_480P_FOLDERS_PATH = \"DAVIS_2016/DAVIS/Contours/480p/\"\n",
    "\n",
    "ANNOTATIONS_1080P_FOLDERS_PATH = \"DAVIS_2016/DAVIS/Annotations/1080p/\"\n",
    "CONTOURS_1080P_FOLDERS_PATH = \"DAVIS_2016/DAVIS/Contours/1080p/\"\n",
    "\n",
    "KERNEL_SIZE = 25\n",
    "CONTOUR_POINTS = 128"
   ]
  },
  {
   "cell_type": "markdown",
   "metadata": {
    "colab_type": "text",
    "id": "hsUYesNxHor_"
   },
   "source": [
    "## Functions"
   ]
  },
  {
   "cell_type": "code",
   "execution_count": 3,
   "metadata": {
    "colab": {},
    "colab_type": "code",
    "id": "uJZ0Zu2B7NNq"
   },
   "outputs": [],
   "source": [
    "def save_image_with_contour(image, contour, path):\n",
    "    '''Saves image plotted with contour to a given path.'''\n",
    "    \n",
    "    fig, ax = plt.subplots()\n",
    "    \n",
    "    # Plot contour\n",
    "    ax.scatter(contour[:, 0], contour[:, 1], s=1)\n",
    "    \n",
    "    # Plot image\n",
    "    ax.imshow(image)\n",
    "    ax.axis('image')\n",
    "    ax.set_xticks([])\n",
    "    ax.set_yticks([])\n",
    "    \n",
    "    # Save image\n",
    "    plt.savefig(path, dpi=100, bbox_inches='tight')    \n",
    "    plt.close(fig)"
   ]
  },
  {
   "cell_type": "code",
   "execution_count": 4,
   "metadata": {
    "colab": {},
    "colab_type": "code",
    "id": "bw2UpJob5sDf"
   },
   "outputs": [],
   "source": [
    "def close_image(image, kernel_size):\n",
    "    '''Returns the image that is closed with a elliptical kernel.'''\n",
    "    \n",
    "    kernel = cv2.getStructuringElement(cv2.MORPH_ELLIPSE,(kernel_size, kernel_size))\n",
    "    closing = cv2.morphologyEx(image, cv2.MORPH_CLOSE, kernel)\n",
    "    \n",
    "    return closing"
   ]
  },
  {
   "cell_type": "code",
   "execution_count": 5,
   "metadata": {
    "colab": {},
    "colab_type": "code",
    "id": "lJCNvWDfdUMD"
   },
   "outputs": [],
   "source": [
    "def extract_longest_contour(image, kernel_size):\n",
    "    '''Returns the contour with the most points from a given image.'''\n",
    "    \n",
    "    # Close image\n",
    "    closing = close_image(image, kernel_size)\n",
    "    \n",
    "    # Convert image to grayscale\n",
    "    gray = cv2.cvtColor(closing, cv2.COLOR_BGR2GRAY)\n",
    "\n",
    "    # Apply threshold to turn it into binary image\n",
    "    ret, thresh = cv2.threshold(gray, 127, 255, 0)\n",
    "\n",
    "    # Find contour\n",
    "    # Change method for different number of points:\n",
    "    # CHAIN_APPROX_NONE, CHAIN_APPROX_SIMPLE, CHAIN_APPROX_TC89_L1, CHAIN_APPROX_TC89_KCOS\n",
    "    contours, _ = cv2.findContours(image=thresh,\n",
    "                                   mode=cv2.RETR_TREE,\n",
    "                                   method=cv2.CHAIN_APPROX_NONE)\n",
    "    \n",
    "    # Get longest contour from contours\n",
    "    longest_contour = max(contours, key=len)\n",
    "    \n",
    "    # Remove single-dimensional entry from the shape of the array \n",
    "    longest_contour = np.squeeze(longest_contour)\n",
    "    \n",
    "    return longest_contour"
   ]
  },
  {
   "cell_type": "code",
   "execution_count": 6,
   "metadata": {
    "colab": {},
    "colab_type": "code",
    "id": "GEptRU7t-VOo"
   },
   "outputs": [],
   "source": [
    "def shorten_contour(contour, points):\n",
    "    '''Returns a contour with a fixed number of points for a given contour.'''\n",
    "    \n",
    "    try:\n",
    "        step = len(contour) / (len(contour) - points)\n",
    "    except ZeroDivisionError as e:\n",
    "        print ('len(contour) = {}, points = {}'.format(len(contour), points))\n",
    "        raise ValueError from e\n",
    "        \n",
    "    short_contour = np.delete(contour, np.arange(0, contour.size, step), axis=0)\n",
    "    \n",
    "    return short_contour"
   ]
  },
  {
   "cell_type": "code",
   "execution_count": 7,
   "metadata": {
    "colab": {},
    "colab_type": "code",
    "id": "AHRqnyNBCozS"
   },
   "outputs": [],
   "source": [
    "def get_contour_from_annotation(annotation_path, kernel_size, points):\n",
    "    '''Returns the image, the longest contour, and shortened contour \n",
    "       given an annotation and fixed number of points.'''\n",
    "    \n",
    "    image = cv2.imread(annotation_path)\n",
    "    contour = extract_longest_contour(image, kernel_size)\n",
    "    try:\n",
    "        short_contour = shorten_contour(contour, points)\n",
    "    except ValueError as e:\n",
    "        print(annotation_path)\n",
    "        raise ValueError from e\n",
    "        \n",
    "    return image, contour, short_contour"
   ]
  },
  {
   "cell_type": "code",
   "execution_count": 8,
   "metadata": {
    "colab": {},
    "colab_type": "code",
    "id": "lx-mFL_CksIp"
   },
   "outputs": [],
   "source": [
    "def create_contours_for_all_annotations(annotations_folders_path, \n",
    "                                        contours_folders_path, \n",
    "                                        kernel_size,\n",
    "                                        contour_points):\n",
    "    '''Creates contours for annotations and saves them as numpy arrays.'''\n",
    "\n",
    "    # Get list of annotation folders (there is one folder for each seqeuence)\n",
    "    annotations_folders_list = os.listdir(annotations_folders_path)\n",
    "    annotations_folders_list.sort()\n",
    "    \n",
    "    # Iterate through folders\n",
    "    for i, folder in enumerate(annotations_folders_list):\n",
    "        \n",
    "        # Debug\n",
    "        #if (i > 1): break\n",
    "        \n",
    "        print('#{}: {}'.format(i, folder))\n",
    "        \n",
    "        # Create folder to save contours\n",
    "        contours_folder = os.path.join(contours_folders_path, folder)\n",
    "        if not os.path.exists(contours_folder):\n",
    "            os.makedirs(contours_folder)\n",
    "        \n",
    "        # Get list of annotations (there is one annotation for each frame)\n",
    "        annotations = os.listdir(os.path.join(annotations_folders_path, folder))\n",
    "        if '.ipynb_checkpoints' in annotations:\n",
    "            annotations.remove('.ipynb_checkpoints')\n",
    "        annotations.sort()\n",
    "            \n",
    "        # Iterate through annotations\n",
    "        for j, annotation in enumerate(annotations):\n",
    "            \n",
    "            # Debug\n",
    "            #if (j > 1): break\n",
    "\n",
    "            annotation_path = os.path.join(annotations_folders_path, folder, annotation)\n",
    "\n",
    "            # If first mask, then extract contour_points\n",
    "            if re.match(r\"00000.png\", annotation):\n",
    "                try:\n",
    "                    image, contour, short_contour = get_contour_from_annotation(\n",
    "                        annotation_path, kernel_size, contour_points)\n",
    "                except ValueError as e:\n",
    "                    continue\n",
    "            # If not, then contour_points*2\n",
    "            else:\n",
    "                try:\n",
    "                    image, contour, short_contour = get_contour_from_annotation(\n",
    "                        annotation_path, kernel_size, contour_points * 2)\n",
    "                except ValueError as e:\n",
    "                    continue\n",
    "\n",
    "            # Save contour\n",
    "            # save_image_with_contour(image, short_contour, os.path.join(contours_folder, annotation))\n",
    "            np.save(os.path.join(contours_folder, annotation[:5]), short_contour)"
   ]
  },
  {
   "cell_type": "markdown",
   "metadata": {},
   "source": [
    "## Create Contours"
   ]
  },
  {
   "cell_type": "code",
   "execution_count": 9,
   "metadata": {},
   "outputs": [
    {
     "name": "stdout",
     "output_type": "stream",
     "text": [
      "#0: bear\n"
     ]
    },
    {
     "name": "stderr",
     "output_type": "stream",
     "text": [
      "/opt/anaconda3/lib/python3.7/site-packages/ipykernel_launcher.py:10: DeprecationWarning: using a non-integer array as obj in delete will result in an error in the future\n",
      "  # Remove the CWD from sys.path while we load stuff.\n",
      "/opt/anaconda3/lib/python3.7/site-packages/ipykernel_launcher.py:10: DeprecationWarning: in the future out of bounds indices will raise an error instead of being ignored by `numpy.delete`.\n",
      "  # Remove the CWD from sys.path while we load stuff.\n"
     ]
    },
    {
     "name": "stdout",
     "output_type": "stream",
     "text": [
      "#1: blackswan\n",
      "#2: bmx-bumps\n",
      "#3: bmx-trees\n",
      "#4: boat\n",
      "#5: breakdance\n",
      "#6: breakdance-flare\n",
      "#7: bus\n",
      "#8: camel\n",
      "#9: car-roundabout\n",
      "#10: car-shadow\n",
      "#11: car-turn\n",
      "#12: cows\n",
      "#13: dance-jump\n",
      "#14: dance-twirl\n",
      "#15: dog\n",
      "#16: dog-agility\n",
      "#17: drift-chicane\n",
      "#18: drift-straight\n",
      "#19: drift-turn\n",
      "#20: elephant\n",
      "#21: flamingo\n",
      "#22: goat\n",
      "#23: hike\n",
      "#24: hockey\n",
      "#25: horsejump-high\n",
      "#26: horsejump-low\n",
      "#27: kite-surf\n",
      "#28: kite-walk\n",
      "#29: libby\n",
      "#30: lucia\n",
      "#31: mallard-fly\n",
      "#32: mallard-water\n",
      "#33: motocross-bumps\n",
      "#34: motocross-jump\n",
      "#35: motorbike\n",
      "#36: paragliding\n",
      "#37: paragliding-launch\n",
      "#38: parkour\n",
      "#39: rhino\n",
      "#40: rollerblade\n",
      "#41: scooter-black\n",
      "#42: scooter-gray\n",
      "#43: soapbox\n",
      "#44: soccerball\n",
      "len(contour) = 256, points = 256\n",
      "DAVIS_2016/DAVIS/Annotations/480p/soccerball/00035.png\n",
      "#45: stroller\n",
      "#46: surf\n",
      "#47: swing\n",
      "#48: tennis\n",
      "#49: train\n"
     ]
    }
   ],
   "source": [
    "create_contours_for_all_annotations(ANNOTATIONS_480P_FOLDERS_PATH,\n",
    "                                    CONTOURS_480P_FOLDERS_PATH,\n",
    "                                    KERNEL_SIZE, \n",
    "                                    CONTOUR_POINTS)"
   ]
  }
 ],
 "metadata": {
  "colab": {
   "collapsed_sections": [],
   "name": "contour_extraction.ipynb",
   "provenance": [],
   "version": "0.3.2"
  },
  "kernelspec": {
   "display_name": "Python 3",
   "language": "python",
   "name": "python3"
  },
  "language_info": {
   "codemirror_mode": {
    "name": "ipython",
    "version": 3
   },
   "file_extension": ".py",
   "mimetype": "text/x-python",
   "name": "python",
   "nbconvert_exporter": "python",
   "pygments_lexer": "ipython3",
   "version": "3.7.0"
  }
 },
 "nbformat": 4,
 "nbformat_minor": 2
}
