{
 "cells": [
  {
   "cell_type": "markdown",
   "metadata": {},
   "source": [
    "# OSVOS Parent Model Results"
   ]
  },
  {
   "cell_type": "markdown",
   "metadata": {},
   "source": [
    "## Imports"
   ]
  },
  {
   "cell_type": "code",
   "execution_count": 1,
   "metadata": {},
   "outputs": [],
   "source": [
    "import os\n",
    "\n",
    "import scipy.misc as sm\n",
    "import numpy as np\n",
    "import torch\n",
    "from torch.utils.data import DataLoader\n",
    "\n",
    "import OSVOS_PyTorch.networks.vgg_osvos as vo\n",
    "from OSVOS_PyTorch.dataloaders import davis_2016 as db\n",
    "from OSVOS_PyTorch.dataloaders import custom_transforms as tr\n",
    "from OSVOS_PyTorch.mypath import Path\n",
    "\n",
    "import src.config as cfg\n",
    "\n",
    "# for auto-reloading extenrnal modules\n",
    "# see http://stackoverflow.com/questions/1907993/autoreload-of-modules-in-ipython\n",
    "%load_ext autoreload\n",
    "%autoreload 2"
   ]
  },
  {
   "cell_type": "code",
   "execution_count": 3,
   "metadata": {},
   "outputs": [],
   "source": [
    "db_root_dir = Path.db_root_dir()\n",
    "save_dir = cfg.PARENT_MODEL_RESULTS_PATH\n",
    "\n",
    "if not os.path.exists(save_dir):\n",
    "    os.makedirs(os.path.join(save_dir))"
   ]
  },
  {
   "cell_type": "code",
   "execution_count": 4,
   "metadata": {},
   "outputs": [],
   "source": [
    "gpu_id = 0\n",
    "device = torch.device(\"cuda:\"+str(gpu_id) if torch.cuda.is_available() else \"cpu\")"
   ]
  },
  {
   "cell_type": "code",
   "execution_count": 5,
   "metadata": {},
   "outputs": [
    {
     "name": "stdout",
     "output_type": "stream",
     "text": [
      "Constructing OSVOS architecture..\n",
      "Initializing weights..\n"
     ]
    },
    {
     "data": {
      "text/plain": [
       "OSVOS(\n",
       "  (upscale): ModuleList(\n",
       "    (0): ConvTranspose2d(16, 16, kernel_size=(4, 4), stride=(2, 2), bias=False)\n",
       "    (1): ConvTranspose2d(16, 16, kernel_size=(8, 8), stride=(4, 4), bias=False)\n",
       "    (2): ConvTranspose2d(16, 16, kernel_size=(16, 16), stride=(8, 8), bias=False)\n",
       "    (3): ConvTranspose2d(16, 16, kernel_size=(32, 32), stride=(16, 16), bias=False)\n",
       "  )\n",
       "  (upscale_): ModuleList(\n",
       "    (0): ConvTranspose2d(1, 1, kernel_size=(4, 4), stride=(2, 2), bias=False)\n",
       "    (1): ConvTranspose2d(1, 1, kernel_size=(8, 8), stride=(4, 4), bias=False)\n",
       "    (2): ConvTranspose2d(1, 1, kernel_size=(16, 16), stride=(8, 8), bias=False)\n",
       "    (3): ConvTranspose2d(1, 1, kernel_size=(32, 32), stride=(16, 16), bias=False)\n",
       "  )\n",
       "  (stages): ModuleList(\n",
       "    (0): Sequential(\n",
       "      (0): Conv2d(3, 64, kernel_size=(3, 3), stride=(1, 1), padding=(1, 1))\n",
       "      (1): ReLU(inplace)\n",
       "      (2): Conv2d(64, 64, kernel_size=(3, 3), stride=(1, 1), padding=(1, 1))\n",
       "      (3): ReLU(inplace)\n",
       "    )\n",
       "    (1): Sequential(\n",
       "      (0): MaxPool2d(kernel_size=2, stride=2, padding=0, dilation=1, ceil_mode=True)\n",
       "      (1): Conv2d(64, 128, kernel_size=(3, 3), stride=(1, 1), padding=(1, 1))\n",
       "      (2): ReLU(inplace)\n",
       "      (3): Conv2d(128, 128, kernel_size=(3, 3), stride=(1, 1), padding=(1, 1))\n",
       "      (4): ReLU(inplace)\n",
       "    )\n",
       "    (2): Sequential(\n",
       "      (0): MaxPool2d(kernel_size=2, stride=2, padding=0, dilation=1, ceil_mode=True)\n",
       "      (1): Conv2d(128, 256, kernel_size=(3, 3), stride=(1, 1), padding=(1, 1))\n",
       "      (2): ReLU(inplace)\n",
       "      (3): Conv2d(256, 256, kernel_size=(3, 3), stride=(1, 1), padding=(1, 1))\n",
       "      (4): ReLU(inplace)\n",
       "      (5): Conv2d(256, 256, kernel_size=(3, 3), stride=(1, 1), padding=(1, 1))\n",
       "      (6): ReLU(inplace)\n",
       "    )\n",
       "    (3): Sequential(\n",
       "      (0): MaxPool2d(kernel_size=2, stride=2, padding=0, dilation=1, ceil_mode=True)\n",
       "      (1): Conv2d(256, 512, kernel_size=(3, 3), stride=(1, 1), padding=(1, 1))\n",
       "      (2): ReLU(inplace)\n",
       "      (3): Conv2d(512, 512, kernel_size=(3, 3), stride=(1, 1), padding=(1, 1))\n",
       "      (4): ReLU(inplace)\n",
       "      (5): Conv2d(512, 512, kernel_size=(3, 3), stride=(1, 1), padding=(1, 1))\n",
       "      (6): ReLU(inplace)\n",
       "    )\n",
       "    (4): Sequential(\n",
       "      (0): MaxPool2d(kernel_size=2, stride=2, padding=0, dilation=1, ceil_mode=True)\n",
       "      (1): Conv2d(512, 512, kernel_size=(3, 3), stride=(1, 1), padding=(1, 1))\n",
       "      (2): ReLU(inplace)\n",
       "      (3): Conv2d(512, 512, kernel_size=(3, 3), stride=(1, 1), padding=(1, 1))\n",
       "      (4): ReLU(inplace)\n",
       "      (5): Conv2d(512, 512, kernel_size=(3, 3), stride=(1, 1), padding=(1, 1))\n",
       "      (6): ReLU(inplace)\n",
       "    )\n",
       "  )\n",
       "  (side_prep): ModuleList(\n",
       "    (0): Conv2d(128, 16, kernel_size=(3, 3), stride=(1, 1), padding=(1, 1))\n",
       "    (1): Conv2d(256, 16, kernel_size=(3, 3), stride=(1, 1), padding=(1, 1))\n",
       "    (2): Conv2d(512, 16, kernel_size=(3, 3), stride=(1, 1), padding=(1, 1))\n",
       "    (3): Conv2d(512, 16, kernel_size=(3, 3), stride=(1, 1), padding=(1, 1))\n",
       "  )\n",
       "  (score_dsn): ModuleList(\n",
       "    (0): Conv2d(16, 1, kernel_size=(1, 1), stride=(1, 1))\n",
       "    (1): Conv2d(16, 1, kernel_size=(1, 1), stride=(1, 1))\n",
       "    (2): Conv2d(16, 1, kernel_size=(1, 1), stride=(1, 1))\n",
       "    (3): Conv2d(16, 1, kernel_size=(1, 1), stride=(1, 1))\n",
       "  )\n",
       "  (fuse): Conv2d(64, 1, kernel_size=(1, 1), stride=(1, 1))\n",
       ")"
      ]
     },
     "execution_count": 5,
     "metadata": {},
     "output_type": "execute_result"
    }
   ],
   "source": [
    "net = vo.OSVOS(pretrained=0)\n",
    "net.load_state_dict(torch.load(cfg.PARENT_MODEL_PATH, map_location=lambda storage, loc: storage))\n",
    "net.to(device)"
   ]
  },
  {
   "cell_type": "code",
   "execution_count": 9,
   "metadata": {},
   "outputs": [
    {
     "name": "stdout",
     "output_type": "stream",
     "text": [
      "Done initializing val_seqs Dataset\n",
      "Testing Network\n"
     ]
    },
    {
     "name": "stderr",
     "output_type": "stream",
     "text": [
      "/opt/anaconda3/lib/python3.7/site-packages/ipykernel_launcher.py:31: DeprecationWarning: `imsave` is deprecated!\n",
      "`imsave` is deprecated in SciPy 1.0.0, and will be removed in 1.2.0.\n",
      "Use ``imageio.imwrite`` instead.\n"
     ]
    },
    {
     "name": "stdout",
     "output_type": "stream",
     "text": [
      "Done initializing val_seqs Dataset\n",
      "Testing Network\n",
      "Done initializing val_seqs Dataset\n",
      "Testing Network\n",
      "Done initializing val_seqs Dataset\n",
      "Testing Network\n",
      "Done initializing val_seqs Dataset\n",
      "Testing Network\n",
      "Done initializing val_seqs Dataset\n",
      "Testing Network\n",
      "Done initializing val_seqs Dataset\n",
      "Testing Network\n",
      "Done initializing val_seqs Dataset\n",
      "Testing Network\n",
      "Done initializing val_seqs Dataset\n",
      "Testing Network\n",
      "Done initializing val_seqs Dataset\n",
      "Testing Network\n",
      "Done initializing val_seqs Dataset\n",
      "Testing Network\n",
      "Done initializing val_seqs Dataset\n",
      "Testing Network\n",
      "Done initializing val_seqs Dataset\n",
      "Testing Network\n",
      "Done initializing val_seqs Dataset\n",
      "Testing Network\n",
      "Done initializing val_seqs Dataset\n",
      "Testing Network\n",
      "Done initializing val_seqs Dataset\n",
      "Testing Network\n",
      "Done initializing val_seqs Dataset\n",
      "Testing Network\n",
      "Done initializing val_seqs Dataset\n",
      "Testing Network\n",
      "Done initializing val_seqs Dataset\n",
      "Testing Network\n"
     ]
    }
   ],
   "source": [
    "for seq_name in cfg.VAL_SEQUENCES[1:]:\n",
    "    db_test = db.DAVIS2016(train=False, db_root_dir=db_root_dir,\n",
    "                           transform=tr.ToTensor(), \n",
    "                           seq_name=seq_name)\n",
    "    testloader = DataLoader(db_test, batch_size=1, shuffle=False, num_workers=1)\n",
    "\n",
    "    num_img_ts = len(testloader)\n",
    "\n",
    "    save_dir_res = os.path.join(save_dir, seq_name)\n",
    "    if not os.path.exists(save_dir_res):\n",
    "        os.makedirs(save_dir_res)\n",
    "\n",
    "    print('Testing Network')\n",
    "    with torch.no_grad():  \n",
    "        # Main Testing Loop\n",
    "        for ii, sample_batched in enumerate(testloader):\n",
    "\n",
    "            img, gt, fname = sample_batched['image'], sample_batched['gt'], sample_batched['fname']\n",
    "\n",
    "            # Forward of the mini-batch\n",
    "            inputs, gts = img.to(device), gt.to(device)\n",
    "\n",
    "            outputs = net.forward(inputs)\n",
    "\n",
    "            for jj in range(int(inputs.size()[0])):\n",
    "                pred = np.transpose(outputs[-1].cpu().data.numpy()[jj, :, :, :], (1, 2, 0))\n",
    "                pred = 1 / (1 + np.exp(-pred))\n",
    "                pred = np.squeeze(pred)\n",
    "\n",
    "                # Save the result, attention to the index jj\n",
    "                sm.imsave(os.path.join(save_dir_res, os.path.basename(fname[jj]) + '.png'), pred)"
   ]
  },
  {
   "cell_type": "code",
   "execution_count": null,
   "metadata": {},
   "outputs": [],
   "source": []
  }
 ],
 "metadata": {
  "kernelspec": {
   "display_name": "Python 3",
   "language": "python",
   "name": "python3"
  },
  "language_info": {
   "codemirror_mode": {
    "name": "ipython",
    "version": 3
   },
   "file_extension": ".py",
   "mimetype": "text/x-python",
   "name": "python",
   "nbconvert_exporter": "python",
   "pygments_lexer": "ipython3",
   "version": "3.7.0"
  }
 },
 "nbformat": 4,
 "nbformat_minor": 2
}
